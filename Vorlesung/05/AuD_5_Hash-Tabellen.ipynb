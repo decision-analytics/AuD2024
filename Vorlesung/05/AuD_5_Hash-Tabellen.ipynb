{
 "cells": [
  {
   "cell_type": "markdown",
   "metadata": {
    "slideshow": {
     "slide_type": "slide"
    }
   },
   "source": [
    "<img src=\"./img/logo_wiwi.png\" width=\"23%\" align=\"left\">\n",
    "<img src=\"./img/decision_analytics_logo.png\" width=\"17%\" align=\"right\">\n",
    "\n",
    "<br><br><br><br>\n",
    "\n",
    "\n",
    "## Algorithmen und Datenstrukturen\n",
    "\n",
    "Wintersemester 2024/25\n",
    "\n",
    "# 5 Effiziente Suche mit Hash-Tabellen\n",
    "\n",
    "\n",
    "<br><br><br>\n",
    "J-Prof. Dr. Michael Römer, Jakob Schulte"
   ]
  },
  {
   "cell_type": "markdown",
   "metadata": {
    "slideshow": {
     "slide_type": "slide"
    }
   },
   "source": [
    "## Überblick\n",
    "\n",
    "1. Ein Beispiel zur Motivation\n",
    "2. Hash-Funktionen und Hash-Tabellen\n",
    "2. Anwendungsmöglichkeiten\n",
    "3. Die Datenstruktur `set`\n",
    "4. Kollisionen, Hash-Funktionen und Auslastung\n",
    "5. Performance\n",
    "7. Übung zu Anwendung: Abbildung von sozialen Netzwerken\n",
    "6. Zusammenfassung"
   ]
  },
  {
   "cell_type": "markdown",
   "metadata": {
    "slideshow": {
     "slide_type": "slide"
    }
   },
   "source": [
    "# 1. Ein Beispiel zur Motivation"
   ]
  },
  {
   "cell_type": "markdown",
   "metadata": {
    "slideshow": {
     "slide_type": "slide"
    }
   },
   "source": [
    "## Kassierer-Beispiel\n",
    "\n",
    "#### Nehmen wir folgendes fiktives Beispiel:\n",
    "\n",
    "- in einem kleinen Lebensmittelgeschäft müssen die Preise einzeln in die Kasse eingegeben werden\n",
    "- ein neuer Mitarbeiter muss also für jedes Produkt den Preis nachschlagen\n",
    "- wenn die Liste unsortiert ist:  Lineare Suche mit Laufzeit $O(n)$\n",
    "- wenn die Liste alphabetisch sortiert ist: Binäre Suche mit Laufzeit $O(\\log(n))$\n",
    "\n",
    "<img src=\"./img/01.png\" width=\"50%\" align=\"middle\">\n"
   ]
  },
  {
   "cell_type": "markdown",
   "metadata": {
    "slideshow": {
     "slide_type": "slide"
    }
   },
   "source": [
    "## Kassierer-Beispiel\n",
    "\n",
    "#### Wir sehen:\n",
    "- auch mit Binärsuche kann Nachschlagen lästig sein\n",
    "- ideal wäre eine Person wie \"Maggie\", die alle Preise auswendig kennt\n",
    "\n",
    "<img src=\"./img/02.png\" width=\"50%\" align=\"middle\">\n",
    "\n",
    "**Wichtig:** Wie lang die Artikelliste ist, in diesem Fall irrelevant - die Anwort kommt immer sofort"
   ]
  },
  {
   "cell_type": "markdown",
   "metadata": {
    "slideshow": {
     "slide_type": "slide"
    }
   },
   "source": [
    "## Kassierer-Beispiel\n",
    "\n",
    "- das Beispiel dient lediglich zur Motivation\n",
    "\n",
    "#### Zentrale Frage für diesen Teil:\n",
    "- Wie kann ein man eine Äquivalent zu so einer Person implementiert werden?\n",
    "  - d.h. wir suchen eine **Datenstruktur**, die die Suche nach einem bestimmten Element in **konstanter Zeit**, d.h. in $O(1)$ erledigen kann\n",
    "- ...die bisher betrachteten Datenstrukturen können diese Aufgabe nicht umsetzen"
   ]
  },
  {
   "cell_type": "markdown",
   "metadata": {
    "slideshow": {
     "slide_type": "slide"
    }
   },
   "source": [
    "# 2. Hashfunktionen und Hash-Tabellen"
   ]
  },
  {
   "cell_type": "markdown",
   "metadata": {
    "slideshow": {
     "slide_type": "slide"
    }
   },
   "source": [
    "## Hashfunktionen\n",
    "### Definition\n",
    "\n",
    "> Eine **Hashfunktion** ist eine mathematische Funktion, die einen beliebigen Input in einen Output mit einem speziellen Format (z.B. eine Zahl) konvertiert\n",
    "\n",
    "- sie sollte möglichst eindeutig sein (d.h. verschiedene Eingaben führen zu verschiedenen Rückgabewerten)\n",
    "- sie muss dabei konsistent sein (zwei Aufrufe mit der gleichen Eingabe führen zu gleichen Rückgabewerten)\n",
    "\n",
    "- Beispiel:\n",
    "<img src=\"./img/03.png\" width=\"40%\" align=\"middle\">"
   ]
  },
  {
   "cell_type": "markdown",
   "metadata": {
    "slideshow": {
     "slide_type": "slide"
    }
   },
   "source": [
    "## Hash-Tabellen \n",
    "\n",
    "- Eine **Hashfunktion kann in Kombination mit einem Array** genutzt werden, um eine so genannte **Hash-Tabelle** zu erstellen\n",
    "  - das \"Äquivalent\" einer \"Maggie\" im Supermarkt!\n",
    "  \n",
    "  \n",
    "  "
   ]
  },
  {
   "cell_type": "markdown",
   "metadata": {
    "slideshow": {
     "slide_type": "fragment"
    }
   },
   "source": [
    "**Beispiel:** In folgendes Array fügen wir nun Preise ein:\n",
    "\n",
    "<img src=\"./img/04.png\" width=\"30%\" align=\"middle\">"
   ]
  },
  {
   "cell_type": "markdown",
   "metadata": {
    "slideshow": {
     "slide_type": "slide"
    }
   },
   "source": [
    "## Hash-Tabellen und Hashfunktionen\n",
    "\n",
    "- an welche Stelle des Arrays eingefügt wird, entscheidet sich mit Hilfe der Hashfunktion:\n",
    "\n",
    "<img src=\"./img/05.png\" width=\"30%\" align=\"middle\">\n",
    "\n",
    "- Bsp: An Stelle 3 wird Preis von Apfel eingefügt\n",
    "\n",
    "<img src=\"./img/06.png\" width=\"30%\" align=\"middle\">"
   ]
  },
  {
   "cell_type": "markdown",
   "metadata": {
    "slideshow": {
     "slide_type": "slide"
    }
   },
   "source": [
    "## Hash-Tabellen und Hashfunktionen\n",
    "\n",
    "- andere Eingaben sollten zu anderen Indizes führen:\n",
    "\n",
    "<img src=\"./img/07.png\" width=\"30%\" align=\"middle\">\n",
    "\n",
    "- Bsp: An Stelle 0 wird Preis von Milch eingefügt\n",
    "\n",
    "<img src=\"./img/08.png\" width=\"30%\" align=\"middle\">"
   ]
  },
  {
   "cell_type": "markdown",
   "metadata": {
    "slideshow": {
     "slide_type": "slide"
    }
   },
   "source": [
    "## Hash-Tabellen und Hashfunktionen\n",
    "\n",
    "- Wenn alle Produkte eingefügt sind, ist das Array mit Preisen gefüllt:\n",
    "\n",
    "<img src=\"./img/09.png\" width=\"30%\" align=\"middle\">\n",
    "\n",
    "- Wenn ein Preis nachgeschlagen werden soll, wird erneut die Hashfunktion benutzt:\n",
    "\n",
    "<img src=\"./img/10.png\" width=\"30%\" align=\"middle\">\n",
    "\n",
    "- ...und der Wert an der entsprechenden Stelle abgerufen: \n",
    "\n",
    "<img src=\"./img/11.png\" width=\"40%\" align=\"middle\">"
   ]
  },
  {
   "cell_type": "markdown",
   "metadata": {
    "slideshow": {
     "slide_type": "slide"
    }
   },
   "source": [
    "## Hashfunktionen\n",
    "\n",
    "Damit dieses Verfahren funktioniert, sollte gelten:\n",
    "- die Hashfunktion muss immer den gleichen Wert bei gleicher Eingabe zurück geben\n",
    "- unterschiedlichen Produkten (oder allgemeiner: unterschiedlichen Strings) wird möglichst ein anderer Wert zugeordnet. (Diese Annahme wird später gelockert)\n",
    "- die Hashfunktion gibt nur Werte zurück, die kleiner sind als die Länge des Arrays\n",
    "    \n",
    "><div class=\"alert alert-block alert-info\">\n",
    "<b>Wie könnte eine gute Hashfunktion aussehen?</b></div>\n",
    "\n",
    "- wir werden später auf Beispiele für Hashfunktionen zurückkommen"
   ]
  },
  {
   "cell_type": "markdown",
   "metadata": {
    "slideshow": {
     "slide_type": "slide"
    }
   },
   "source": [
    "## Hash-Tabellen\n",
    "\n",
    "- die beschriebene Kombination aus einem Array und einer Hashfunktion nennt man **Hash-Tabelle**\n",
    "  - andere Bezeichnungen: \n",
    "    - **dictionary** (in Python, Julia, ...)\n",
    "    - **hashmap** oder einfach **map** (in Java, C++,...)\n",
    "- jeder Eintrag in einer Hashtabelle besteht aus\n",
    "  - **Schlüssel** (key), im Bsp: Produkt\n",
    "  - **Wert** (value), im Bsp: Preis"
   ]
  },
  {
   "cell_type": "markdown",
   "metadata": {
    "slideshow": {
     "slide_type": "fragment"
    }
   },
   "source": [
    "#### Hash-Tabellen\n",
    "- sind eine immens praxisrelevante Datenstruktur\n",
    "- sind in allen verbreiteten Programmiersprachen implementiert\n",
    "- erlauben sehr effizientes Einfügen und Abfragen"
   ]
  },
  {
   "cell_type": "markdown",
   "metadata": {
    "slideshow": {
     "slide_type": "slide"
    }
   },
   "source": [
    "><div class=\"alert alert-block alert-info\">\n",
    "<b>Wie effizient ist das Einfügen und Abfragen?</b></div>"
   ]
  },
  {
   "cell_type": "markdown",
   "metadata": {
    "slideshow": {
     "slide_type": "slide"
    }
   },
   "source": [
    "## Hash-Tabellen in Python: `dict` (dictionary)\n",
    "- erstellen mit `dict` oder `{}`\n"
   ]
  },
  {
   "cell_type": "code",
   "execution_count": 3,
   "metadata": {
    "slideshow": {
     "slide_type": "-"
    }
   },
   "outputs": [],
   "source": [
    "preise = dict() ## oder: preise = {}"
   ]
  },
  {
   "cell_type": "markdown",
   "metadata": {
    "slideshow": {
     "slide_type": "fragment"
    }
   },
   "source": [
    "- einfügen eines Elements mit `[schluessel] = wert`\n",
    "  - **Beachte:** Hashtabellen funktioneren (fast) wie Arrays mit beliebigen Indextypen"
   ]
  },
  {
   "cell_type": "code",
   "execution_count": 4,
   "metadata": {
    "slideshow": {
     "slide_type": "-"
    }
   },
   "outputs": [
    {
     "name": "stdout",
     "output_type": "stream",
     "text": [
      "{'Apfel': 0.67, 'Milch': 1.49, 'Avocado': 1.49}\n"
     ]
    }
   ],
   "source": [
    "preise[\"Apfel\"] = 0.67\n",
    "preise[\"Milch\"] = 1.49\n",
    "preise[\"Avocado\"] = 1.49\n",
    "print(preise)"
   ]
  },
  {
   "cell_type": "markdown",
   "metadata": {
    "slideshow": {
     "slide_type": "fragment"
    }
   },
   "source": [
    "- abrufen eines Werts für einen Schlüssel ebenfalls mit `[schluessel]` \n",
    "  - gibt einen Fehler, falls Schlüssel nicht vorhanden\n",
    "- oder mit `.get(schluessel)`\n",
    "  - gibt `None` zurück, falls Schlüssel nicht vorhanden"
   ]
  },
  {
   "cell_type": "code",
   "execution_count": 6,
   "metadata": {
    "slideshow": {
     "slide_type": "-"
    }
   },
   "outputs": [
    {
     "name": "stdout",
     "output_type": "stream",
     "text": [
      "0.67\n",
      "0.67\n",
      "None\n"
     ]
    }
   ],
   "source": [
    "print ( preise[\"Apfel\"] )\n",
    "print ( preise.get(\"Apfel\") )\n",
    "print ( preise.get(\"Birne\") )"
   ]
  },
  {
   "cell_type": "markdown",
   "metadata": {
    "slideshow": {
     "slide_type": "fragment"
    }
   },
   "source": [
    "- prüfen, ob ein Schlüssel vorhanden mit `in`:"
   ]
  },
  {
   "cell_type": "code",
   "execution_count": 7,
   "metadata": {
    "slideshow": {
     "slide_type": "-"
    }
   },
   "outputs": [
    {
     "data": {
      "text/plain": [
       "True"
      ]
     },
     "execution_count": 7,
     "metadata": {},
     "output_type": "execute_result"
    }
   ],
   "source": [
    "\"Apfel\" in preise"
   ]
  },
  {
   "cell_type": "markdown",
   "metadata": {
    "slideshow": {
     "slide_type": "slide"
    }
   },
   "source": [
    "# 3. Anwendungsfälle"
   ]
  },
  {
   "cell_type": "markdown",
   "metadata": {
    "slideshow": {
     "slide_type": "slide"
    }
   },
   "source": [
    "## Nachschlagen von Werten - Telefonbuch\n",
    "\n",
    "- ohne Hash-Tabellen würden wir das über ein sortiertes Array lösen, Suche in $O(log(n))$ möglich\n",
    "- Hash-Tabellen sind sehr viel effizienter!\n",
    "\n",
    "- Namen und Nummern sollen gespeichert werden \n",
    "- jedem Namen ist eine Nummer zugeordnet: $\\rightarrow$ Paare aus **Schlüsseln** und **Werten**\n",
    "\n",
    "<img src=\"./img/12.png\" width=\"60%\" align=\"middle\">\n",
    "\n",
    "><div class=\"alert alert-block alert-info\">\n",
    "<b>Implementiere ein Telefonbuch mit mind. 3 Nummern in Python.</b></div>"
   ]
  },
  {
   "cell_type": "code",
   "execution_count": null,
   "metadata": {
    "slideshow": {
     "slide_type": "-"
    }
   },
   "outputs": [],
   "source": []
  },
  {
   "cell_type": "markdown",
   "metadata": {
    "slideshow": {
     "slide_type": "slide"
    }
   },
   "source": [
    "## Nachschlagen von Werten - Websites\n",
    "\n",
    "- jede Website hat eine eindeutige IP-Adresse\n",
    "- bei Eingabe des Website-Namens sollte möglichst schnell IP-Adresse gefunden werden\n",
    "- Dds Vorgehen wird als **IP-Adressauflösung** bezeichnet\n",
    "\n",
    "<img src=\"./img/13.png\" width=\"50%\" align=\"middle\">"
   ]
  },
  {
   "cell_type": "markdown",
   "metadata": {
    "slideshow": {
     "slide_type": "slide"
    }
   },
   "source": [
    "## Dopplungen Vermeiden - Wahllokal\n",
    "\n",
    "- bei einer Wahl muss jede Person sich mit ihrem (eindeutigen) Namen ausweisen\n",
    "- damit nicht doppelt gewählt werden kann, werden alle Namen aufgeschrieben\n",
    "\n",
    "<img src=\"./img/14.png\" width=\"40%\" align=\"middle\">\n",
    "\n",
    "- falls sich ein Name bereits auf der Liste befindet, darf die Person nicht wählen"
   ]
  },
  {
   "cell_type": "markdown",
   "metadata": {
    "slideshow": {
     "slide_type": "slide"
    }
   },
   "source": [
    "## Dopplungen Vermeiden - Wahllokal\n",
    "\n",
    "- eine (unsortierte) Liste müsste jedes Mal mit Linearer Suche überprüft werden\n",
    "- dies wird problematisch, wenn Liste lang wird\n",
    "\n",
    "<img src=\"./img/15.png\" width=\"30%\" align=\"middle\">\n",
    "\n",
    "- mit einer Hash-Tabelle kann man sofort erkennen, ob eine Person schon gespeichert ist\n",
    "- $\\rightarrow$ dann ist Array an der Stelle des Hashwerts des Namens bereits belegt"
   ]
  },
  {
   "cell_type": "markdown",
   "metadata": {
    "slideshow": {
     "slide_type": "slide"
    }
   },
   "source": [
    "## Dopplungen Vermeiden - Wahllokal\n",
    "\n",
    "- `KEY in TABLE` gibt für Dictionarys ```True``` zurück, wenn der `KEY` vorhanden ist\n",
    "- Ablauf für Überprüfung von Wählenden:\n",
    "\n",
    "<img src=\"./img/16.png\" width=\"40%\" align=\"middle\">"
   ]
  },
  {
   "cell_type": "markdown",
   "metadata": {
    "slideshow": {
     "slide_type": "slide"
    }
   },
   "source": [
    "## Dopplungen Vermeiden - Wahllokal\n",
    "\n",
    "><div class=\"alert alert-block alert-info\">\n",
    "<b>Schreiben Sie eine Funktion \"name_ueberpruefen\", die den oben gezeigten Ablauf wiedergibt.</b></div>"
   ]
  },
  {
   "cell_type": "code",
   "execution_count": 1,
   "metadata": {
    "slideshow": {
     "slide_type": "-"
    }
   },
   "outputs": [],
   "source": [
    "\n",
    "\n",
    "def name_ueberpruefen(name_waehler, wahlliste):\n",
    "  \n",
    "    # bitte hier vervollständigen\n",
    "\n",
    "    return\n",
    "\n"
   ]
  },
  {
   "cell_type": "code",
   "execution_count": 2,
   "metadata": {},
   "outputs": [],
   "source": [
    "wahlliste = {}\n",
    "name_ueberpruefen(\"Till\", wahlliste)\n",
    "name_ueberpruefen(\"Michael\", wahlliste)\n",
    "name_ueberpruefen(\"Till\", wahlliste)"
   ]
  },
  {
   "cell_type": "markdown",
   "metadata": {
    "slideshow": {
     "slide_type": "slide"
    }
   },
   "source": [
    "# 4. Die Datenstruktur `set`"
   ]
  },
  {
   "cell_type": "markdown",
   "metadata": {
    "slideshow": {
     "slide_type": "slide"
    }
   },
   "source": [
    "## Die Datenstruktur `Set`\n",
    "\n",
    "- Hash-Tabellen basieren auf **Schlüssel-Wert-Paaren**\n",
    "- im Anwendungsfall \"Wahllokal\" brauchen wir allerdings gar keinen Wert, sondern uns interessiert nur, ob ein Element vorhanden ist\n",
    "- in einem solchen Fall können wir die Datenstruktur **set** (Menge) nutzen, die ebenfalls mit Hashfunktionen arbeitet und effizientes Einfügen und Nachschlagen (prüfen, ob Element vorhanden) anbietet\n",
    "\n",
    "- in Python:\n"
   ]
  },
  {
   "cell_type": "code",
   "execution_count": 14,
   "metadata": {
    "slideshow": {
     "slide_type": "-"
    }
   },
   "outputs": [
    {
     "data": {
      "text/plain": [
       "True"
      ]
     },
     "execution_count": 14,
     "metadata": {},
     "output_type": "execute_result"
    }
   ],
   "source": [
    "fruechte = set([\"Apfel\", \"Birne\"])\n",
    "fruechte.add(\"Orange\") # einfügen mit .add\n",
    "\n",
    "\"Birne\" in fruechte "
   ]
  },
  {
   "cell_type": "markdown",
   "metadata": {
    "slideshow": {
     "slide_type": "slide"
    }
   },
   "source": [
    "## Die Datenstruktur `set`: Weitere Operationen\n",
    "\n",
    "- Vereinigung zweier Mengen: `|`"
   ]
  },
  {
   "cell_type": "code",
   "execution_count": 16,
   "metadata": {
    "slideshow": {
     "slide_type": "-"
    }
   },
   "outputs": [
    {
     "data": {
      "text/plain": [
       "{'Apfel', 'Birne', 'Orange', 'Zitrone'}"
      ]
     },
     "execution_count": 16,
     "metadata": {},
     "output_type": "execute_result"
    }
   ],
   "source": [
    "suedfruechte = set([\"Orange\", \"Zitrone\"])\n",
    "\n",
    "fruechte | suedfruechte"
   ]
  },
  {
   "cell_type": "markdown",
   "metadata": {
    "slideshow": {
     "slide_type": "fragment"
    }
   },
   "source": [
    "- Schnittmenge mit `&`"
   ]
  },
  {
   "cell_type": "code",
   "execution_count": 17,
   "metadata": {
    "slideshow": {
     "slide_type": "-"
    }
   },
   "outputs": [
    {
     "data": {
      "text/plain": [
       "{'Orange'}"
      ]
     },
     "execution_count": 17,
     "metadata": {},
     "output_type": "execute_result"
    }
   ],
   "source": [
    "fruechte & suedfruechte"
   ]
  },
  {
   "cell_type": "markdown",
   "metadata": {
    "slideshow": {
     "slide_type": "fragment"
    }
   },
   "source": [
    "- Mengendifferenz mit `-`\n"
   ]
  },
  {
   "cell_type": "code",
   "execution_count": 19,
   "metadata": {
    "slideshow": {
     "slide_type": "-"
    }
   },
   "outputs": [
    {
     "data": {
      "text/plain": [
       "{'Apfel', 'Birne'}"
      ]
     },
     "execution_count": 19,
     "metadata": {},
     "output_type": "execute_result"
    }
   ],
   "source": [
    "fruechte - suedfruechte"
   ]
  },
  {
   "cell_type": "markdown",
   "metadata": {
    "slideshow": {
     "slide_type": "fragment"
    }
   },
   "source": [
    "- Abfragen ob Teilmenge"
   ]
  },
  {
   "cell_type": "code",
   "execution_count": 25,
   "metadata": {},
   "outputs": [
    {
     "name": "stdout",
     "output_type": "stream",
     "text": [
      "{'Zitrone', 'Apfel', 'Birne', 'Orange'}\n",
      "{'Zitrone', 'Orange'}\n"
     ]
    },
    {
     "data": {
      "text/plain": [
       "True"
      ]
     },
     "execution_count": 25,
     "metadata": {},
     "output_type": "execute_result"
    }
   ],
   "source": [
    "fruechte.add(\"Zitrone\")\n",
    "print (fruechte)\n",
    "print (suedfruechte)\n",
    "suedfruechte.issubset(fruechte)"
   ]
  },
  {
   "cell_type": "markdown",
   "metadata": {
    "slideshow": {
     "slide_type": "slide"
    }
   },
   "source": [
    "# 5. Kollisionen, Hashfunktionen und Auslastung"
   ]
  },
  {
   "cell_type": "markdown",
   "metadata": {
    "slideshow": {
     "slide_type": "slide"
    }
   },
   "source": [
    "## Kollisionen\n",
    "\n",
    "- idealerweise führt jede Eingabe in die Hashfunktion zu einer unterschiedlichen Ausgabe \n",
    "\n",
    "<img src=\"./img/17.png\" width=\"40%\" align=\"middle\">\n",
    "\n",
    "- dies ist in der Umsetzung nahezu unmöglich, wenn man gleichzeitig eine performante Hashfunktion sucht\n",
    "- führen zwei verschiedene Eingaben bei einer Hashfunktion zur selben Ausgabe, so spricht man von einer **Kollision**\n",
    "\n",
    "$\\rightarrow$ für solche Fälle müssen Lösungen gefunden werden!\n"
   ]
  },
  {
   "cell_type": "markdown",
   "metadata": {
    "slideshow": {
     "slide_type": "slide"
    }
   },
   "source": [
    "##  Beispiel Kollision: Alphabet-Hash\n",
    "\n",
    "- wir haben ein Array mit 26 Elementen\n",
    "\n",
    "<img src=\"./img/18.png\" width=\"80%\" align=\"middle\">\n",
    "\n",
    "- die Hashfunktion gibt den Index des ersten Buchstaben des Wortes im Alphabet zurück\n",
    "\n",
    "<img src=\"./img/18a.png\" width=\"80%\" align=\"middle\">"
   ]
  },
  {
   "cell_type": "markdown",
   "metadata": {
    "slideshow": {
     "slide_type": "slide"
    }
   },
   "source": [
    "##  Beispiel Kollision: Alphabet-Hash\n",
    "\n",
    "- Einfügen kann funktionieren...\n",
    "\n",
    "<img src=\"./img/19.png\" width=\"30%\" align=\"middle\">\n",
    "\n",
    "- ...oder auch nicht:\n",
    "\n",
    "<img src=\"./img/20.png\" width=\"30%\" align=\"middle\">"
   ]
  },
  {
   "cell_type": "markdown",
   "metadata": {
    "slideshow": {
     "slide_type": "slide"
    }
   },
   "source": [
    "## Behebung von Kollisionen\n",
    "- eine Kollision tritt auf, wenn mehreren Schlüsseln gleicher Speicherplatz zugewiesen\n",
    "- der Wert darf nicht überschrieben werden (Verlust von Informationen)\n",
    "- der Wert darf nicht einfach abgerufen werden (Falsche Informationen)\n",
    "\n",
    "- **ein möglicher Lösungsansatz:** Verwendung einer Linked List im Array\n",
    "\n",
    "<img src=\"./img/21.png\" width=\"60%\" align=\"middle\">"
   ]
  },
  {
   "cell_type": "markdown",
   "metadata": {
    "slideshow": {
     "slide_type": "slide"
    }
   },
   "source": [
    "## Behebung von Kollisionen mit Linked Lists\n",
    "\n",
    "- wenn jetzt auf \"Apfel\" oder \"Avocado\" zugegriffen wird, muss Linked List danach durchsucht werden $\\rightarrow$ langsamer\n",
    "- andere Zugriffe bleiben weiterhin schnell\n",
    "- es wird dann roblematisch, wenn Linked Lists im Array zu groß werden\n",
    "- im (theoretischen) Extremfall (worst case) ist dann eine Hash-Tabelle so langsam wie eine Linked List\n",
    "\n",
    "<img src=\"./img/22.png\" width=\"80%\" align=\"middle\">\n",
    "\n",
    "> Finden einer guten Hash-Funktion mit wenig Kollision sehr wichtig!"
   ]
  },
  {
   "cell_type": "markdown",
   "metadata": {
    "slideshow": {
     "slide_type": "slide"
    }
   },
   "source": [
    "## Gute vs schlechte Hashfunktionen\n",
    "\n",
    "- Gute Hashfunktionen sollten Werte gleichmäßig im Array verteilen\n",
    "\n",
    "<img src=\"./img/28.png\" width=\"40%\" align=\"middle\">\n",
    "\n",
    "- Schlechte Hashfunktionen verursachen Kollisionen\n",
    "\n",
    "<img src=\"./img/29.png\" width=\"40%\" align=\"middle\">"
   ]
  },
  {
   "cell_type": "markdown",
   "metadata": {
    "slideshow": {
     "slide_type": "slide"
    }
   },
   "source": [
    "## Beispiele für Hashfunktionen\n",
    "\n",
    "- wir hatten schon eine sehr naive Hashfunktion für Zeichenketten (strings) kennengelernt (Stelle des Anfangsbuchstabens im Alphabet)\n",
    "    \n",
    "><div class=\"alert alert-block alert-info\">\n",
    "<b>Wie könnte eine gute Hashfunktion aussehen?</b></div>"
   ]
  },
  {
   "cell_type": "markdown",
   "metadata": {
    "slideshow": {
     "slide_type": "fragment"
    }
   },
   "source": [
    "- wir könnten mehrere Buchstaben nutzen und den Buchstabenindizes weitere Operationen durchführen:\n",
    "  - Addition: addiere die Indizes aller Buchstaben des Eingabestrings im Alphabet\n",
    "  - Multiplikation: multipliziere die Indizes aller Buchstaben des Eingabestrings im Alphabet"
   ]
  },
  {
   "cell_type": "markdown",
   "metadata": {
    "slideshow": {
     "slide_type": "fragment"
    }
   },
   "source": [
    "  \n",
    "- anstelle des Index $i$ im Alphabet könnte man auch die $i$-te Primzahl nehmen.."
   ]
  },
  {
   "cell_type": "markdown",
   "metadata": {
    "slideshow": {
     "slide_type": "fragment"
    }
   },
   "source": [
    "- oder die Unicode-Zahl des Zeichens - Python bietet sogar die Funktion `ord` an, mit der dies wiedergegeben werden kann"
   ]
  },
  {
   "cell_type": "code",
   "execution_count": 1,
   "metadata": {
    "slideshow": {
     "slide_type": "-"
    }
   },
   "outputs": [
    {
     "data": {
      "text/plain": [
       "46"
      ]
     },
     "execution_count": 1,
     "metadata": {},
     "output_type": "execute_result"
    }
   ],
   "source": [
    "ord(\".\")"
   ]
  },
  {
   "cell_type": "markdown",
   "metadata": {
    "slideshow": {
     "slide_type": "slide"
    }
   },
   "source": [
    "## Beispiel für die Implementierung einer Hashfunktion\n",
    "- hier ein vereinfachtes Beispiel einer solchen Hashfunktion:"
   ]
  },
  {
   "cell_type": "code",
   "execution_count": 3,
   "metadata": {
    "slideshow": {
     "slide_type": "-"
    }
   },
   "outputs": [],
   "source": [
    "def hash_addition(schluessel):\n",
    "    hash = 0\n",
    "    for buchstabe in schluessel:\n",
    "        hash += ord(buchstabe)\n",
    "    return hash"
   ]
  },
  {
   "cell_type": "markdown",
   "metadata": {
    "slideshow": {
     "slide_type": "fragment"
    }
   },
   "source": [
    "Hier als Beispiel:"
   ]
  },
  {
   "cell_type": "code",
   "execution_count": 4,
   "metadata": {
    "slideshow": {
     "slide_type": "-"
    }
   },
   "outputs": [
    {
     "data": {
      "text/plain": [
       "6232533031704089720"
      ]
     },
     "execution_count": 4,
     "metadata": {},
     "output_type": "execute_result"
    }
   ],
   "source": [
    "hash_addition(\"Birne\")\n",
    "hash_addition(\"Banane\")\n",
    "\n",
    "\n",
    "hash(\"Apfel\")"
   ]
  },
  {
   "cell_type": "markdown",
   "metadata": {
    "slideshow": {
     "slide_type": "slide"
    }
   },
   "source": [
    "## Hashfunktionen und Array-Größe\n",
    "\n",
    "- oben hatten wir erwähnt, dass Hashfunktionen Werte ergeben sollten, die der Größe des zugrundeliegenden Arrays entspricht\n",
    "\n",
    "><div class=\"alert alert-block alert-info\">\n",
    "<b>Wie kann man das auf einfache Art und Weise erreichen?</b></div>\n"
   ]
  },
  {
   "cell_type": "markdown",
   "metadata": {
    "slideshow": {
     "slide_type": "fragment"
    }
   },
   "source": [
    "- wir können einfach die Modulo-Funktion `%` nutzen:\n",
    "  - sie gibt den Rest beim ganzzahligen Teilen mit Rest zurück\n",
    "- Bsp: wir wollen Werte mit der Maximalgröße 7 haben:"
   ]
  },
  {
   "cell_type": "code",
   "execution_count": 49,
   "metadata": {
    "slideshow": {
     "slide_type": "-"
    }
   },
   "outputs": [
    {
     "data": {
      "text/plain": [
       "3"
      ]
     },
     "execution_count": 49,
     "metadata": {},
     "output_type": "execute_result"
    }
   ],
   "source": [
    "3 % 7"
   ]
  },
  {
   "cell_type": "code",
   "execution_count": 50,
   "metadata": {
    "slideshow": {
     "slide_type": "-"
    }
   },
   "outputs": [
    {
     "data": {
      "text/plain": [
       "5"
      ]
     },
     "execution_count": 50,
     "metadata": {},
     "output_type": "execute_result"
    }
   ],
   "source": [
    "12 % 7"
   ]
  },
  {
   "cell_type": "markdown",
   "metadata": {
    "slideshow": {
     "slide_type": "slide"
    }
   },
   "source": [
    "## Hashfunktionen und Array-Größe\n",
    "\n",
    "- diese Idee kann mit allen Hashfunktionen genutzt werden\n",
    "- hier ein Beispiel für die oben generierte Funktion:"
   ]
  },
  {
   "cell_type": "code",
   "execution_count": 51,
   "metadata": {
    "slideshow": {
     "slide_type": "-"
    }
   },
   "outputs": [],
   "source": [
    "def hash_addition_array_groesse(schluessel, array_groesse):\n",
    "    return hash_addition (schluessel) % array_groesse"
   ]
  },
  {
   "cell_type": "markdown",
   "metadata": {
    "slideshow": {
     "slide_type": "fragment"
    }
   },
   "source": [
    "- Hier ein Beispiel. Ursprüngliche Hashfunktion:"
   ]
  },
  {
   "cell_type": "code",
   "execution_count": 52,
   "metadata": {
    "slideshow": {
     "slide_type": "-"
    }
   },
   "outputs": [
    {
     "data": {
      "text/plain": [
       "488"
      ]
     },
     "execution_count": 52,
     "metadata": {},
     "output_type": "execute_result"
    }
   ],
   "source": [
    "hash_addition(\"Apfel\")"
   ]
  },
  {
   "cell_type": "markdown",
   "metadata": {},
   "source": [
    "- Wir nehmen an, dass wir ein Array mit der Größe 7 haben:"
   ]
  },
  {
   "cell_type": "code",
   "execution_count": 56,
   "metadata": {},
   "outputs": [
    {
     "data": {
      "text/plain": [
       "1"
      ]
     },
     "execution_count": 56,
     "metadata": {},
     "output_type": "execute_result"
    }
   ],
   "source": [
    "array_groesse = 9\n",
    "\n",
    "hash_addition_array_groesse(\"Orange\",array_groesse)"
   ]
  },
  {
   "cell_type": "markdown",
   "metadata": {
    "slideshow": {
     "slide_type": "slide"
    }
   },
   "source": [
    "## Die Hashfunktion in Python\n",
    "\n",
    "- in den meisten Programiersprachen sind \"Standard-Hashfunktionen\" bereits eingebaut\n",
    "- in Python nennt sich diese Funktion `hash`"
   ]
  },
  {
   "cell_type": "code",
   "execution_count": 54,
   "metadata": {
    "slideshow": {
     "slide_type": "fragment"
    }
   },
   "outputs": [
    {
     "data": {
      "text/plain": [
       "1145293539142138516"
      ]
     },
     "execution_count": 54,
     "metadata": {},
     "output_type": "execute_result"
    }
   ],
   "source": [
    "hash(\"Birne\")"
   ]
  },
  {
   "cell_type": "code",
   "execution_count": 5,
   "metadata": {
    "slideshow": {
     "slide_type": "fragment"
    }
   },
   "outputs": [
    {
     "data": {
      "text/plain": [
       "47"
      ]
     },
     "execution_count": 5,
     "metadata": {},
     "output_type": "execute_result"
    }
   ],
   "source": [
    "hash(\"Birne\") % 100"
   ]
  },
  {
   "cell_type": "code",
   "execution_count": 55,
   "metadata": {
    "slideshow": {
     "slide_type": "fragment"
    }
   },
   "outputs": [
    {
     "data": {
      "text/plain": [
       "42"
      ]
     },
     "execution_count": 55,
     "metadata": {},
     "output_type": "execute_result"
    }
   ],
   "source": [
    "hash(42)"
   ]
  },
  {
   "cell_type": "code",
   "execution_count": 60,
   "metadata": {
    "slideshow": {
     "slide_type": "fragment"
    }
   },
   "outputs": [
    {
     "data": {
      "text/plain": [
       "-6571442690632340136"
      ]
     },
     "execution_count": 60,
     "metadata": {},
     "output_type": "execute_result"
    }
   ],
   "source": [
    "hash(tuple(fruechte))"
   ]
  },
  {
   "cell_type": "markdown",
   "metadata": {
    "slideshow": {
     "slide_type": "slide"
    }
   },
   "source": [
    "## Die Auslastung einer Hash-Tabelle\n",
    "\n",
    "- der **Auslastungsfaktor** hält fest, wie voll eine Hash-Tabelle ist\n",
    "\n",
    "$\\mathit{Auslastungsfaktor} =\\frac{\\text{Anzahl der Elemente in Hashtabelle}}{\\text{Größe des Arrays}}$\n",
    "\n",
    "<img src=\"./img/24.png\" width=\"30%\" align=\"middle\">"
   ]
  },
  {
   "cell_type": "markdown",
   "metadata": {
    "slideshow": {
     "slide_type": "slide"
    }
   },
   "source": [
    "## Auslastung\n",
    "\n",
    "- wenn das gesamtes Array der Hash-Tabelle mit jeweils einem Element gefüllt ist, beträgt der Auslastungsfaktor 1\n",
    "- wenn Kollisionen auftreten, kann der Faktor > 1 werden\n",
    "- hohe Auslastungsfaktoren führen zu schlechterer Performance\n",
    "\n",
    "><div class=\"alert alert-block alert-info\">\n",
    "<b>Warum werden dann nicht alle Hash-Tabellen immer sehr groß angelegt?</b></div>"
   ]
  },
  {
   "cell_type": "markdown",
   "metadata": {
    "slideshow": {
     "slide_type": "slide"
    }
   },
   "source": [
    "## Auslastung: Größenanpassung\n",
    "\n",
    "- wenn die Auslastung anwächst, sollte eine **Größenanpassung** vorgenommen werden\n",
    "\n",
    "<img src=\"./img/25.png\" width=\"30%\" align=\"middle\">\n",
    "\n",
    "- diese Hash-Tabelle ist schon ziemlich voll $\\rightarrow$ Größenanpassung sinnvoll\n",
    "- Faustregel: Größe des Arrays verdoppeln\n",
    "\n",
    "<img src=\"./img/26.png\" width=\"40%\" align=\"middle\">"
   ]
  },
  {
   "cell_type": "markdown",
   "metadata": {
    "slideshow": {
     "slide_type": "slide"
    }
   },
   "source": [
    "## Die Auslastung einer Hash-Tabelle\n",
    "- alle Elemente von vorher müssen mit veränderter Hash-Funktion (i.d.R. mit anderem Modulo-Wert) in eine neue Hash-Tabelle eingefügt werden\n",
    "\n",
    "<img src=\"./img/27.png\" width=\"40%\" align=\"middle\">\n",
    "\n",
    "- Größenanpassungen sind entsprechend zeitaufwendig\n",
    "- es gilt in der Praxis also, eine Balance zwischen nicht zu hoher Auslastung und wenig Anpassungen zu finden\n",
    "- **Faustregel:** bei Auslastung über 0,7 lohnt sich Anpassung"
   ]
  },
  {
   "cell_type": "markdown",
   "metadata": {
    "slideshow": {
     "slide_type": "slide"
    }
   },
   "source": [
    "# 6. Performance"
   ]
  },
  {
   "cell_type": "markdown",
   "metadata": {
    "slideshow": {
     "slide_type": "slide"
    }
   },
   "source": [
    "# Performance\n",
    "- im Vergleich zu Arrays und Linked List sind Hashbabellen effizienter in Bezug auf viele Operationen\n",
    "\n",
    "<img src=\"./img/23.png\" width=\"50%\" align=\"middle\">\n",
    "\n",
    "- Suchen, Einfügen und Löschen funktioniert bei Hash-Tabellen  sehr schnell\n",
    "- $O(1)$ (*konstante Laufzeit*) heißt nicht sofortiger Zugriff, sondern nur Zugriff unabhängig von Größe der Liste\n",
    "- im worst-case können Hash-Tabellen langsam sein. \n",
    "  - **Aber:** Der Worst Case ist extrem selten bei **geringer Auslastung** und guter **Hashfunktion**\n",
    "- **Beachte:** Hashtabellen sind im Allgemeinen nicht sortiert, d.h. ein sortiertes \"Durchlaufen\" aller Werte ist nicht möglich"
   ]
  },
  {
   "cell_type": "markdown",
   "metadata": {
    "slideshow": {
     "slide_type": "slide"
    }
   },
   "source": [
    "# 7. Übungen zur Anwendung: Abbildung von sozialen Netzwerken\n",
    "\n",
    "Schlagen Sie Implementierungen vor, die effizientes Einfügen und Abfragen von Beziehungen in folgenden Arten von sozialen Netzwerken ermöglichen:\n",
    "\n",
    "1. Follower-Strukturen (wie bei Twitter)"
   ]
  },
  {
   "cell_type": "code",
   "execution_count": 3,
   "metadata": {},
   "outputs": [],
   "source": [
    "# \"Klaus\" folgt \"Maria\"\n"
   ]
  },
  {
   "cell_type": "markdown",
   "metadata": {
    "slideshow": {
     "slide_type": "fragment"
    }
   },
   "source": [
    "2. Befreundet sein (wie bei Facebook)\n",
    "3. Allgemeine Beziehungen mit \"Richtung\": \n",
    "    - z.B. \"Noel\", \"ist verliebt in\" , \"Anna\"  ;  \"Anna\", \"mag\", \"Henry\"\n",
    "4. Allgemeine Beziehungen mit \"Richtung\" und mehreren möglichen Beziehungen:\n",
    "    - z.B. \"Henry\", \"mag\", \"Nele\"   ;   \"Henry\", \"folgt auf Instagram\" , \"Nele\", "
   ]
  },
  {
   "cell_type": "markdown",
   "metadata": {
    "slideshow": {
     "slide_type": "slide"
    }
   },
   "source": [
    "## 8. Zusammenfassung\n",
    "\n",
    "#### Hash-Tabellen\n",
    "- sind eine sehr nützliche und weit verbreitete Datenstruktur\n",
    "- können wie **\"verallgemeinerte Arrays** benutzt werden, in denen nicht nur ganzzahlige Werte, sondern beliebige Objekte als Schlüssel dienen können\n",
    "- werden mit Hilfe von  **Hash-Funktionen** und **Arrays** implementiert\n",
    "- sind sehr performant: Suchen, Einfügen und Löschen in $O(1)$\n",
    "- bei Kollisionen können Linked Lists genutzt werden\n",
    "- eine geringe Auslastung und gute Hashfunktionen verhindern Kollisionen\n",
    "\n",
    "#### Nächster Teil: Breitensuche in Graphen\n",
    "\n"
   ]
  }
 ],
 "metadata": {
  "celltoolbar": "Slideshow",
  "kernelspec": {
   "display_name": "Python 3 (ipykernel)",
   "language": "python",
   "name": "python3"
  },
  "language_info": {
   "codemirror_mode": {
    "name": "ipython",
    "version": 3
   },
   "file_extension": ".py",
   "mimetype": "text/x-python",
   "name": "python",
   "nbconvert_exporter": "python",
   "pygments_lexer": "ipython3",
   "version": "3.9.19"
  },
  "toc": {
   "base_numbering": 1,
   "nav_menu": {},
   "number_sections": false,
   "sideBar": true,
   "skip_h1_title": false,
   "title_cell": "Table of Contents",
   "title_sidebar": "Contents",
   "toc_cell": false,
   "toc_position": {},
   "toc_section_display": true,
   "toc_window_display": false
  },
  "varInspector": {
   "cols": {
    "lenName": 16,
    "lenType": 16,
    "lenVar": 40
   },
   "kernels_config": {
    "python": {
     "delete_cmd_postfix": "",
     "delete_cmd_prefix": "del ",
     "library": "var_list.py",
     "varRefreshCmd": "print(var_dic_list())"
    },
    "r": {
     "delete_cmd_postfix": ") ",
     "delete_cmd_prefix": "rm(",
     "library": "var_list.r",
     "varRefreshCmd": "cat(var_dic_list()) "
    }
   },
   "types_to_exclude": [
    "module",
    "function",
    "builtin_function_or_method",
    "instance",
    "_Feature"
   ],
   "window_display": false
  }
 },
 "nbformat": 4,
 "nbformat_minor": 2
}
