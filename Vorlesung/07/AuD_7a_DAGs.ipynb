{
 "cells": [
  {
   "cell_type": "markdown",
   "metadata": {
    "slideshow": {
     "slide_type": "slide"
    }
   },
   "source": [
    "<img src=\"./img/logo_wiwi.png\" width=\"23%\" align=\"left\">\n",
    "<img src=\"./img/decision_analytics_logo.png\" width=\"17%\" align=\"right\">\n",
    "\n",
    "<br><br><br><br>\n",
    "\n",
    "\n",
    "## Algorithmen und Datenstrukturen\n",
    "Wintersemester 2024/25\n",
    "\n",
    "\n",
    "# 7a Kürzeste Wege in gerichteten azyklischen Graphen\n",
    "\n",
    "\n",
    "<br><br><br>\n",
    "J-Prof. Dr. Michael Römer, Jakob Schulte"
   ]
  },
  {
   "cell_type": "markdown",
   "metadata": {
    "heading_collapsed": true,
    "slideshow": {
     "slide_type": "slide"
    }
   },
   "source": [
    "## Überblick\n",
    "\n",
    "1. Motivation: Schnellere kürzere Wege in gerichteten azyklischen Graphen\n",
    "2. Topologische Sortierung von Knoten in gerichteten azyklischen Graphen\n",
    "3. Ermittlung einer Topologischen Sortierung\n",
    "4. Kürzeste Wege in DAGs: Algorithmus\n",
    "4. Kürzeste Wege in DAGs: Python-Implementierung\n",
    "6. Zusammenfassung"
   ]
  },
  {
   "cell_type": "markdown",
   "metadata": {
    "slideshow": {
     "slide_type": "slide"
    }
   },
   "source": [
    "## Motivation: Gerichtete Azyklische Graphen\n",
    "\n",
    "Wir kennen bereits folgende Konzpte:\n",
    "- gerichtete Graphen \n",
    "- Zyklen in gerichteten Graphen \n",
    "\n",
    "Beides brauhen wir für folgende Definition:\n",
    "\n",
    "> Einen gerichteten Graphen ohne Zyklen nennt man einen **gerichteten azyklischen Graph** (directed acyclic graph, **DAG**)\n",
    "- gerade für Optimierungsprobleme ist diese Eigenschaft sehr wichtig, weil viele Probleme auf DAGs leichter zu lösen sind als auf allgemeinen Graphen!"
   ]
  },
  {
   "cell_type": "markdown",
   "metadata": {
    "slideshow": {
     "slide_type": "fragment"
    }
   },
   "source": [
    "Schauen wir uns doch noch einnmal unsere Beispielgraphen an:\n",
    "\n",
    "<img src=\"./img/02.png\" width=\"30%\" align=\"left\">\n",
    "\n",
    "<img src=\"./img/25.png\" width=\"30%\" align=\"right\">"
   ]
  },
  {
   "cell_type": "markdown",
   "metadata": {
    "slideshow": {
     "slide_type": "-"
    }
   },
   "source": [
    "..beide sind DAGs!"
   ]
  },
  {
   "cell_type": "markdown",
   "metadata": {
    "slideshow": {
     "slide_type": "slide"
    }
   },
   "source": [
    "## Motivation: Kürzeste Wege in azyklischen Graphen\n",
    "\n",
    "Aufgrund ihrer Struktur erlauben DAGs eine effizientere Berechung von kürzesten Wegen:\n",
    "- kürzeste Wege in DAGs: $O(|N| + |E|)$ (Anzahl Knoten + Anzahl Kanten)\n",
    "\n",
    "Zum Vergleich:\n",
    "- unsere Dijkstra-Implementierung braucht $O(|N|^2 + O|E|)$\n",
    "- eine effizientere Dijkstra-Implementierung braucht $O(|N| \\log |N| + O|E|)$\n",
    "\n",
    "#### In diesem Teil werden wir lernen\n",
    "- wieso das so ist und\n",
    "- wie der Algorithmus für kürzeste Wege in DAGs funktioniert\n"
   ]
  },
  {
   "cell_type": "markdown",
   "metadata": {
    "slideshow": {
     "slide_type": "slide"
    }
   },
   "source": [
    "## Gerichtete azyklische Graphen: Relevanz in der Praxis\n",
    "\n",
    "\n",
    "In der praktischen Modellierung / Problemlösung kommen folgende Fälle oft vor:\n",
    "- Knoten haben Zeitinformationen (z.B. Abfahrtzeiten von Bussen, Zügen, oder Abflugzeiten an Flughäfen)\n",
    "- Knoten beziehen sich auf Stufen / Phasen / Schritte (z.B. Wartungszustände, akkumulierte Arbeitszeit, Anzahl besuchter Kunden, etc.)\n",
    "\n",
    "In diesen Fällen \"kann man nicht zurück\"  $\\rightarrow$  der resultierende Graph ist azyklisch"
   ]
  },
  {
   "cell_type": "markdown",
   "metadata": {
    "slideshow": {
     "slide_type": "fragment"
    }
   },
   "source": [
    "<img src=\"./img/Kleidergraph.png\" width=\"30%\" align=\"right\"> \n",
    "\n",
    "Außerdem können gerichtete Graphen genutzt werden, um **Abhängigkeiten zwischen Schritten** darzustellen\n",
    "- z.B. in einem Projekt \"Schritt B kann nur durchgeführt werden, wenn Schritt A fertig ist\"\n",
    "- siehe Beispiel rechts (Quelle: Wikipedia)\n",
    "- diese Graphen sollten azyklisch sein, weil sonst ein **Deadlock** vorliegt"
   ]
  },
  {
   "cell_type": "markdown",
   "metadata": {
    "slideshow": {
     "slide_type": "slide"
    }
   },
   "source": [
    "# 2. (Topologische) Sortierung von Knoten in DAGs"
   ]
  },
  {
   "cell_type": "markdown",
   "metadata": {
    "slideshow": {
     "slide_type": "slide"
    }
   },
   "source": [
    "## Gerichtete Graphen: Topologische Sortierung\n",
    "\n",
    "Eine Kerneigenschaft von DAGs ist, dass man die Knoten **topologisch sortieren** kann:\n",
    "\n",
    ">Eine Liste der Knoten heißt **topologisch sortiert**, wenn gilt:\n",
    "> - kein **Vorgänger** eines Knotens kommt in der Liste **nach** diesem Knoten "
   ]
  },
  {
   "cell_type": "markdown",
   "metadata": {
    "slideshow": {
     "slide_type": "fragment"
    }
   },
   "source": [
    "<img src=\"./img/Kleidergraph.png\" width=\"30%\" align=\"right\"> \n",
    "\n",
    "### Topologische Sortierung im Ankleidebeispiel\n",
    "- eine topologische Sortierung gibt uns eine \"zulässige\" Ankleidereihenfolge!\n",
    "\n",
    "Beispiel für topologische Sortierungen:\n",
    "\n",
    "- Unterhose $\\rightarrow$ Socken $\\rightarrow$ Unterhemd  $\\rightarrow$ Hose  $\\rightarrow$ Pullover  $\\rightarrow$ Mantel  $\\rightarrow$ Schuhe\n",
    "\n",
    "- Unterhose $\\rightarrow$ Hose  $\\rightarrow$  Socken  $\\rightarrow$ Unterhemd  $\\rightarrow$ Pullover   $\\rightarrow$  Schuhe $\\rightarrow$ Mantel\n",
    "\n",
    "#### Beachte: Topologische Sortierungen sind in der Regel nicht eindeutig!"
   ]
  },
  {
   "cell_type": "markdown",
   "metadata": {
    "slideshow": {
     "slide_type": "slide"
    }
   },
   "source": [
    "## Topologische Sortierung: Weitere Beispiele\n",
    "\n",
    "><div class=\"alert alert-block alert-info\">\n",
    "<b> Wie sehen mögliche topologische Sortierungen für die Knoten der folgenden Graphen aus? </b></div>\n",
    "\n",
    "<img src=\"./img/03.png\" width=\"30%\" align=\"left\"> \n",
    "<img src=\"./img/25.png\" width=\"35%\" align=\"right\">\n",
    "\n"
   ]
  },
  {
   "cell_type": "markdown",
   "metadata": {
    "slideshow": {
     "slide_type": "slide"
    }
   },
   "source": [
    "# 3. Ansätze zur Ermittlung von topologischen Sortierungen"
   ]
  },
  {
   "cell_type": "markdown",
   "metadata": {
    "slideshow": {
     "slide_type": "slide"
    }
   },
   "source": [
    "## Wie kommt man zu einer topologischen Sortierung?\n",
    "\n",
    "Wie kann man eine topologische Sortierung ermitteln?\n",
    "\n",
    "<center>\n",
    "<img src=\"./img/Kleidergraph.png\" width=\"20%\" align=\"middle\"> \n",
    "</center>"
   ]
  },
  {
   "cell_type": "markdown",
   "metadata": {
    "slideshow": {
     "slide_type": "-"
    }
   },
   "source": [
    "#### Ein einfacher graphischer Ansatz:\n",
    "- ordne die Knoten linear nebeneinander so an, dass alle Kanten von links nach rechts zeigen\n",
    "<img src=\"./img/Kleidergraphsortiert.png\" width=\"75%\" align=\"middle\"> "
   ]
  },
  {
   "cell_type": "markdown",
   "metadata": {
    "heading_collapsed": true,
    "slideshow": {
     "slide_type": "slide"
    }
   },
   "source": [
    "## Algorithmus zur Herstellung einer topologischen Sortierung\n",
    "\n",
    "**Ziel:** Erstelle eine topologisch sortierte Liste $L$ der Knoten eines (gerichteten, azyklischen) Graphen\n",
    "\n",
    "### Einfache Beschreibung des Algorithmus: \n",
    "\n",
    "Solange es Knoten ohne Vorgänger gibt:\n",
    "- wähle einen solchen Knoten\n",
    "- hänge ihn an die Liste $L$ an\n",
    "- entferne den Knoten samt seiner ausgehenden Kanten (dadurch gibt es ggf. neue Knoten ohne Vorgänger)\n",
    "\n",
    "(dies ist der so genannte Algorithmus von Kahn)"
   ]
  },
  {
   "cell_type": "markdown",
   "metadata": {
    "slideshow": {
     "slide_type": "slide"
    }
   },
   "source": [
    "## Algorithmus zur Herstellung einer topologischen Sortierung\n",
    "\n",
    "\n",
    "Am Beispiel-Graph:  <img src=\"./img/03.png\" width=\"30%\" align=\"center\"> \n",
    "\n",
    "Wir beginnen mit einer leeren Liste $L$\n",
    "\n",
    "Zunächst hat nur der Knoten \"START\" keine Vorgänger"
   ]
  },
  {
   "cell_type": "markdown",
   "metadata": {
    "slideshow": {
     "slide_type": "slide"
    }
   },
   "source": [
    "<img src=\"./img/03_topo_2.png\" width=\"30%\" align=\"right\"> \n",
    "\n",
    "**Schritt 1:**\n",
    "- Hänge START an die Liste an: $L$ = \\[ START \\]\n",
    "- Entferne START samt ausgehender Kanten\n",
    "- nun hat Knoten B keinen Vorgänger mehr"
   ]
  },
  {
   "cell_type": "markdown",
   "metadata": {
    "slideshow": {
     "slide_type": "fragment"
    }
   },
   "source": [
    "<img src=\"./img/03_topo_3.png\" width=\"30%\" align=\"right\"> \n",
    "\n",
    "**Schritt 2:**\n",
    "- Hänge B an die Liste an: $L$ = \\[ START, B \\]\n",
    "- Entferne B samt ausgehender Kanten\n",
    "- nun hat Knoten A keinen Vorgänger mehr"
   ]
  },
  {
   "cell_type": "markdown",
   "metadata": {
    "slideshow": {
     "slide_type": "slide"
    }
   },
   "source": [
    "<img src=\"./img/03_topo_4.png\" width=\"30%\" align=\"right\"> \n",
    "\n",
    "**Schritt 3:**\n",
    "- Hänge A an die Liste an: $L$ = \\[ START, B, A \\]\n",
    "- Entferne A samt ausgehender Kanten\n",
    "- nun hat Knoten ZIEL keinen Vorgänger mehr"
   ]
  },
  {
   "cell_type": "markdown",
   "metadata": {
    "slideshow": {
     "slide_type": "fragment"
    }
   },
   "source": [
    "\n",
    "\n",
    "**Schritt 4:**\n",
    "- Hänge ZIEL an die Liste an: $L$ = \\[ START, B, A, ZIEL \\]\n",
    "- ZIEL wird  entfernt\n",
    "- ... alle Knoten wurden bearbeitet, und die Liste ist topologisch sortiert!"
   ]
  },
  {
   "cell_type": "markdown",
   "metadata": {
    "slideshow": {
     "slide_type": "slide"
    }
   },
   "source": [
    "## Algorithmus zur Herstellung einer topologischen Sortierung: Etwas formaler\n",
    "\n",
    "- $L$ sei eine leere Liste, in der die Knoten in topologischer Sortierung ablegt werden\n",
    "- Bilde eine Menge $S$ an Knoten, die keine eingehenden Kanten hat\n",
    "- Für jeden Knoten $v$ in der Menge $S$:\n",
    "  - hänge $v$ an die Liste $L$ an\n",
    "  - entferne $v$ und alle von $v$ ausgehenden Kanten\n",
    "    - für jede von $v$ ausgehende Kante:\n",
    "       - wenn der Zielknoten nach Entfernung der Kante keine eingehenden Kanten hat: \n",
    "         - füge ihn zu $S$ hinzu\n"
   ]
  },
  {
   "cell_type": "markdown",
   "metadata": {
    "slideshow": {
     "slide_type": "fragment"
    }
   },
   "source": [
    "## Anmerkung zur Implementierung\n",
    "\n",
    "- in unserer Implementierung eines Graphen (siehe Teil 6/7) speichern wir die eingehenden Kanten eines Knotens nicht\n",
    "- was wir stattdessen tun können:\n",
    "  - wir speicheren bei jedem Knoten die Anzahl der eingehenden Kanten  (z.B. mit einer Hash-Tabelle)\n",
    "      - dies kann entweder direkt beim Erstellen des Graphen passieren oder in einem Durchlauf durch alle Kanten \n",
    "  - bei der Entfernung eines Knotens und seiner ausgehenden Kanten reduzieren wir diese Werte jeweils\n",
    "  \n",
    "  \n",
    ".. beachte: wir zeigen hier keine Implementierung dieses Algorithmus"
   ]
  },
  {
   "cell_type": "markdown",
   "metadata": {
    "slideshow": {
     "slide_type": "slide"
    }
   },
   "source": [
    "## Topologische Sortierung: Komplexität\n",
    "\n",
    "><div class=\"alert alert-block alert-info\">\n",
    "<b> Was ist die Laufzeitkomplexität des Algorithmus zur topologischen Sortierung? </b></div>"
   ]
  },
  {
   "cell_type": "markdown",
   "metadata": {
    "slideshow": {
     "slide_type": "slide"
    }
   },
   "source": [
    "## \"Natürliche\" topologische Sortierungen\n",
    "\n",
    "Nicht immer ist es nötig, die Knoten explizit topologisch zu sortieren!\n",
    "\n",
    "In den o.g. Praxisbeispielen für DAGs gibt es eine Reihe von \"natürlichen\" Sortierkriterien, die eine Topologische Sortierung implizieren:\n",
    "- wenn Knoten mit Zeit assoziiert sind: zeitliche Sortierung der Knoten\n",
    "- wenn Knoten mit Stufen o.ä. assoziiert sind: Sortierung anhand der Stufen\n",
    "\n"
   ]
  },
  {
   "cell_type": "markdown",
   "metadata": {
    "slideshow": {
     "slide_type": "slide"
    }
   },
   "source": [
    "# 4. Kürzeste Wege in DAGs: Algorithmus"
   ]
  },
  {
   "cell_type": "markdown",
   "metadata": {
    "slideshow": {
     "slide_type": "slide"
    }
   },
   "source": [
    "## Kürzeste Wege in DAGs - der Algorithmus\n",
    "\n",
    "####  Skizze des Algorithmus\n",
    "\n",
    "- Setze zunächst die Entferungen aller Knoten auf $\\infty$, außer für den Startknoten (Entferngung = 0)\n",
    "- Durchlaufe die Knoten in topologischer Sortierung, für jeden Knoten $v$: \n",
    "  - für jeden Nachfolger $w$ des Knoten:\n",
    "    - aktualisiere den kürzesten Weg zu $w$, falls der Weg über $v$ kürzer ist als der bisher bekannte\n",
    "\n",
    "#### Beachte:\n",
    "- falls die topologische Sortierung nicht bekannt / natürlich gegeben ist, muss sie vorher ermittelt werden!"
   ]
  },
  {
   "cell_type": "markdown",
   "metadata": {
    "slideshow": {
     "slide_type": "fragment"
    }
   },
   "source": [
    "#### Vergleich mit Dijkstra\n",
    "- auch bei Dijkstra werden alle Knoten durchlaufen und die kürzesten Wege zum Nachfolger aktualisiert\n",
    "- es wird allerdings der nächste zu bearbeitende Knoten in jeder Iteration **auf Basis der bisherigen kürzesten Wege bestimmt**\n",
    "- $\\rightarrow$ **dies kann man sich in einem DAG sparen, weil man anhand der topologischen Sortierung vorgeht!**\n"
   ]
  },
  {
   "cell_type": "markdown",
   "metadata": {
    "slideshow": {
     "slide_type": "slide"
    }
   },
   "source": [
    "## Kürzeste Wege in DAGs: Beispiel:\n",
    "\n",
    "\n",
    "<img src=\"./img/03.png\" width=\"30%\" align=\"center\"> \n",
    "\n",
    "- Wir haben die topologische Sortierung $L$ = \\[ START, B, A, ZIEL \\]\n",
    "- wir initialisierung zuerst die Entfernungen:\n",
    "\n",
    "|Knoten|Entfernung|\n",
    "|--|--|\n",
    "|START | 0 |\n",
    "| A | $\\infty$ |\n",
    "| B | $\\infty$ |\n",
    "| ZIEL | $\\infty$ |\n",
    "\n"
   ]
  },
  {
   "cell_type": "markdown",
   "metadata": {
    "slideshow": {
     "slide_type": "slide"
    }
   },
   "source": [
    "\n",
    "Topologische Sortierung $L$ = \\[ START, B, A, ZIEL \\]\n",
    "\n",
    "#### Iteration 1: Knoten START\n",
    "\n",
    "|Knoten|Entfernung|\n",
    "|--|--|\n",
    "|START | 0 |\n",
    "| A | 6 |\n",
    "| B | 2 |\n",
    "| ZIEL | $\\infty$ |\n"
   ]
  },
  {
   "cell_type": "markdown",
   "metadata": {
    "slideshow": {
     "slide_type": "fragment"
    }
   },
   "source": [
    "Topologische Sortierung $L$ = \\[ START, B, A, ZIEL \\]\n",
    "\n",
    "#### Iteration 2: Knoten B\n",
    "\n",
    "<img src=\"./img/03.png\" width=\"30%\" align=\"right\"> \n",
    "\n",
    "|Knoten|Entfernung|\n",
    "|--|--|\n",
    "|START | 0 |\n",
    "| A | 5 |\n",
    "| B | 2 |\n",
    "| ZIEL | 7 |\n"
   ]
  },
  {
   "cell_type": "markdown",
   "metadata": {
    "slideshow": {
     "slide_type": "slide"
    }
   },
   "source": [
    "Topologische Sortierung $L$ = \\[ START, B, A, ZIEL \\]\n",
    "\n",
    "#### Iteration 3: Knoten A\n",
    "\n",
    "<img src=\"./img/03.png\" width=\"30%\" align=\"right\"> \n",
    "\n",
    "|Knoten|Entfernung|\n",
    "|--|--|\n",
    "|START | 0 |\n",
    "| A | 5 |\n",
    "| B | 2 |\n",
    "| ZIEL | 6 |\n"
   ]
  },
  {
   "cell_type": "markdown",
   "metadata": {
    "slideshow": {
     "slide_type": "slide"
    }
   },
   "source": [
    "Topologische Sortierung $L$ = \\[ START, B, A, ZIEL \\]\n",
    "\n",
    "#### Iteration 4: Knoten ZIEL\n",
    "\n",
    "<img src=\"./img/03.png\" width=\"30%\" align=\"right\"> \n",
    "\n",
    ".. keine Änderung, da letzer Knoten!\n",
    "\n",
    "|Knoten|Entfernung|\n",
    "|--|--|\n",
    "|START | 0 |\n",
    "| A | 5 |\n",
    "| B | 2 |\n",
    "| ZIEL | 6 |\n"
   ]
  },
  {
   "cell_type": "markdown",
   "metadata": {
    "slideshow": {
     "slide_type": "slide"
    }
   },
   "source": [
    "## Kürzeste Wege in DAGs: Laufzeitkomplexität\n",
    "\n",
    "><div class=\"alert alert-block alert-info\">\n",
    "<b> Was ist die Laufzeitkomplexität des Algorithmus für kürzeste Wege in DAGs? </b></div>"
   ]
  },
  {
   "cell_type": "markdown",
   "metadata": {
    "slideshow": {
     "slide_type": "fragment"
    }
   },
   "source": [
    "#### Vergleich mit Dijkstra\n",
    "- unsere Dijkstra-Implementierung hatte eine Laufzeit von  $O(|N|^2 + O|E|)$\n",
    "- eine effizientere Dijkstra-Implementierung braucht $O(|N| \\log |N| + O|E|)$\n",
    "\n",
    "... $\\rightarrow$ in DAGs lassen sich kürzeste Wege sehr viel effizenter berechnen!"
   ]
  },
  {
   "cell_type": "markdown",
   "metadata": {
    "slideshow": {
     "slide_type": "slide"
    }
   },
   "source": [
    "# 5. Kürzeste Wege in DAGs: Python-Implementierung"
   ]
  },
  {
   "cell_type": "markdown",
   "metadata": {
    "slideshow": {
     "slide_type": "slide"
    }
   },
   "source": [
    "## Kürzeste Wege in DAGs: Python-Implementierung"
   ]
  },
  {
   "cell_type": "code",
   "execution_count": 2,
   "metadata": {
    "slideshow": {
     "slide_type": "-"
    }
   },
   "outputs": [],
   "source": [
    "def dag_shortest_path(graph, start_node, topo_sorted_nodes):\n",
    "    \n",
    "    #initalisierung der Datenstrukturen\n",
    "    parents = {}\n",
    "    costs = {}\n",
    "    \n",
    "    for node in graph: # iteriere über alle Knoten \n",
    "        costs[node] = float(\"inf\")  # wir setzen zunächst alle Kosten auf unendlich\n",
    "        \n",
    "    costs[start_node] = 0  # dann setzen wir die Kosten des Startknotens auf 0\n",
    "    \n",
    "    node = start_node # wir beginnen mit dem Startknoten    \n",
    "    \n",
    "    for node in topo_sorted_nodes: # für jeden Knoten, in topologischer Sortierung\n",
    "        \n",
    "        # iteration über die \"innere\" Hash-Tabelle von node (Schlüssel: Nachbar, Wert: Kantengewicht (distanz))\n",
    "        for neighbor, edge_weight in graph[node].items(): # .items() sorgt dafür, dass Schlüssel-Wert-Paar genutzt wird\n",
    "            \n",
    "            # wenn: Entfernung des node vom Startknoten + Distanz von node zu neighbor < bisherige Enferung(neighbor)\n",
    "            if costs[node] + edge_weight < costs[neighbor]: \n",
    "                costs[neighbor] = costs[node] + edge_weight  # aktualisiere Entfernungslabel costs von neighbor\n",
    "                parents[neighbor] = node # aktualisiere den Vorgänger auf dem kürzesten Weg zum neighbor\n",
    "            \n",
    "    return costs, parents # gib sowohl die Kosten als auch die parents zurück\n"
   ]
  },
  {
   "cell_type": "markdown",
   "metadata": {
    "slideshow": {
     "slide_type": "slide"
    }
   },
   "source": [
    "## Test der Python-Implementierung"
   ]
  },
  {
   "cell_type": "code",
   "execution_count": 3,
   "metadata": {
    "slideshow": {
     "slide_type": "-"
    }
   },
   "outputs": [
    {
     "data": {
      "text/plain": [
       "({'start': 0, 'A': 5, 'B': 2, 'fin': 6}, {'A': 'B', 'B': 'start', 'fin': 'A'})"
      ]
     },
     "execution_count": 3,
     "metadata": {},
     "output_type": "execute_result"
    }
   ],
   "source": [
    "graph = {}\n",
    "graph[\"start\"] =  {\"A\":6, \"B\":2} # Direkte Initialisierung des dict mit Schlüssel:Wert-Paaren    \n",
    "graph[\"A\"] =  {\"fin\":1} \n",
    "graph[\"B\"] =  {\"A\":3, \"fin\":5}  \n",
    "graph[\"fin\"] =  {}  \n",
    "graph\n",
    "\n",
    "sorted_nodes = [\"start\",\"B\",\"A\",\"fin\"]\n",
    "\n",
    "dag_shortest_path(graph, \"start\", sorted_nodes)"
   ]
  },
  {
   "cell_type": "markdown",
   "metadata": {
    "slideshow": {
     "slide_type": "slide"
    }
   },
   "source": [
    "## Zusammenfassung\n",
    "\n",
    "- gerichtete azyklische Graphen (DAGs) sind eine wichtige und praktisch relevante Klasse von Graphen\n",
    "- in diesen Graphen lassen sich kürzeste Wege deutlich effizienter berechnen als in allgemeinen Graphen\n",
    "- der Algorithmus für kürzeste Wege in DAGs durchläuft alle Knoten in der Reihenfolge einer topologischen Sortierung\n",
    "- alle DAGs können effizient (in Linearzeit) topologisch sortiert werden\n",
    "  - manchmal liegt eine \"natürliche\" topologische Sortierung vor"
   ]
  },
  {
   "cell_type": "markdown",
   "metadata": {
    "slideshow": {
     "slide_type": "slide"
    }
   },
   "source": [
    "#### Ausblick\n",
    "- im nächsten Teil befassen wir uns mit **schwierigeren** Problemen\n",
    "- wir lernen **Greedy-Verfahren** kennen, ein Konstruktionsprinzip für **Heuristiken**\n",
    "  - d.h. Verfahren, die in kurzer Zeit (hoffentlich) gute Lösungen erzeugen."
   ]
  }
 ],
 "metadata": {
  "celltoolbar": "Slideshow",
  "kernelspec": {
   "display_name": "Python 3 (ipykernel)",
   "language": "python",
   "name": "python3"
  },
  "language_info": {
   "codemirror_mode": {
    "name": "ipython",
    "version": 3
   },
   "file_extension": ".py",
   "mimetype": "text/x-python",
   "name": "python",
   "nbconvert_exporter": "python",
   "pygments_lexer": "ipython3",
   "version": "3.9.19"
  },
  "rise": {
   "enable_chalkboard": true
  },
  "toc": {
   "base_numbering": 1,
   "nav_menu": {},
   "number_sections": false,
   "sideBar": true,
   "skip_h1_title": false,
   "title_cell": "Table of Contents",
   "title_sidebar": "Contents",
   "toc_cell": false,
   "toc_position": {},
   "toc_section_display": true,
   "toc_window_display": false
  },
  "varInspector": {
   "cols": {
    "lenName": 16,
    "lenType": 16,
    "lenVar": 40
   },
   "kernels_config": {
    "python": {
     "delete_cmd_postfix": "",
     "delete_cmd_prefix": "del ",
     "library": "var_list.py",
     "varRefreshCmd": "print(var_dic_list())"
    },
    "r": {
     "delete_cmd_postfix": ") ",
     "delete_cmd_prefix": "rm(",
     "library": "var_list.r",
     "varRefreshCmd": "cat(var_dic_list()) "
    }
   },
   "types_to_exclude": [
    "module",
    "function",
    "builtin_function_or_method",
    "instance",
    "_Feature"
   ],
   "window_display": false
  }
 },
 "nbformat": 4,
 "nbformat_minor": 2
}
