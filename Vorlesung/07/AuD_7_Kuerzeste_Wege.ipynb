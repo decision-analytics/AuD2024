{
 "cells": [
  {
   "cell_type": "markdown",
   "metadata": {
    "slideshow": {
     "slide_type": "slide"
    }
   },
   "source": [
    "<img src=\"./img/logo_wiwi.png\" width=\"23%\" align=\"left\">\n",
    "<img src=\"./img/decision_analytics_logo.png\" width=\"17%\" align=\"right\">\n",
    "\n",
    "<br><br><br><br>\n",
    "\n",
    "\n",
    "## Algorithmen und Datenstrukturen\n",
    "Wintersemester 2024/25\n",
    "\n",
    "\n",
    "# 7 Der Dijkstra-Algorithmus zur Berechnung Kürzester Wege\n",
    "\n",
    "\n",
    "<br><br><br>\n",
    "J-Prof. Dr. Michael Römer, Jakob Schulte "
   ]
  },
  {
   "cell_type": "markdown",
   "metadata": {
    "slideshow": {
     "slide_type": "slide"
    }
   },
   "source": [
    "# Motivation"
   ]
  },
  {
   "cell_type": "markdown",
   "metadata": {
    "slideshow": {
     "slide_type": "slide"
    }
   },
   "source": [
    "## Motivation: Ein Beispiel, das wir bereits kennen..\n",
    "\n",
    "\n",
    "\n",
    "<img src=\"./img/01.png\" width=\"40%\" align=\"middle\">\n",
    "\n",
    "In der vergangenen Veranstaltung haben wir gelernt, dass wir mit Breitensuche \n",
    "- feststellen können, ob ein Weg / Pfad zwischen zwei Knoten besteht\n",
    "- den Weg mit den wenigsten Kanten / Umstiegen / Streckenabschnitten ermitteln können\n"
   ]
  },
  {
   "cell_type": "markdown",
   "metadata": {
    "slideshow": {
     "slide_type": "slide"
    }
   },
   "source": [
    "## Motivation: Eine leichte Abwandlung des Beispiels\n",
    "\n",
    "Nehmen wir nun an, dass wir die Reisezeit minimieren wollen:\n",
    "\n",
    "<img src=\"./img/02.png\" width=\"40%\" align=\"middle\">\n",
    "\n",
    "- die Fahrtzeiten auf den Kanten werden allgemein auch **Kantengewichte** genannt,\n",
    "- wir sprechen von einem gewichteten Graph"
   ]
  },
  {
   "cell_type": "markdown",
   "metadata": {
    "slideshow": {
     "slide_type": "fragment"
    }
   },
   "source": [
    "- ...es zeigt sich, dass der schnellste Weg (d.h. der kürzeste in Bezug auf die Dauer) ein anderer ist!\n",
    "\n",
    "- $\\rightarrow$ heute werden wir einen wichtigen Algorithmus zur Bestimmung von **kürzesten Wegen** kennenlernen: den **Dijkstra-Algorithmus**"
   ]
  },
  {
   "cell_type": "markdown",
   "metadata": {
    "slideshow": {
     "slide_type": "slide"
    }
   },
   "source": [
    "## Überblick über diesen Teil der Veranstaltung\n",
    "\n",
    "Heute beschäftigen wir uns mit der Suche nach kürzesten Wegen - wir lernen etwas über: \n",
    "- die Funktionsweise des Dijkstra-Algorithmus\n",
    "- gewichtete Graphen\n",
    "- die Auswirkung von negative Kanten und Zyklen auf den Dijkstra-Algorithmus\n",
    "- die Implementierung des Dijkstra-Algorithmus\n",
    "- die Laufzeitkomplexität des Diijkstra-Algorithmus."
   ]
  },
  {
   "cell_type": "markdown",
   "metadata": {
    "slideshow": {
     "slide_type": "slide"
    }
   },
   "source": [
    "# 1. Die Funktionsweise des Dijkstra-Algorithmus"
   ]
  },
  {
   "cell_type": "markdown",
   "metadata": {
    "slideshow": {
     "slide_type": "slide"
    }
   },
   "source": [
    "## Ein weiteres Beispiel\n",
    "\n",
    "Gegeben sei folgender gewichteter Graph:\n",
    "\n",
    "<img src=\"./img/03.png\" width=\"40%\" align=\"middle\">\n",
    "\n",
    "Wir wollen in diesem Graph den kürzesten Weg vom Start zum Ziel berechnen"
   ]
  },
  {
   "cell_type": "markdown",
   "metadata": {
    "slideshow": {
     "slide_type": "fragment"
    }
   },
   "source": [
    "><div class=\"alert alert-block alert-info\">\n",
    "<b> Wie würde die Lösung der Breitensuche aussehen?</b></div>"
   ]
  },
  {
   "cell_type": "markdown",
   "metadata": {
    "slideshow": {
     "slide_type": "slide"
    }
   },
   "source": [
    "## Breitensuche: Der Weg mit den wenigsten Kanten\n",
    "\n",
    "- die Breitensuche würde uns folgenden Pfad geben:\n",
    "\n",
    "<img src=\"./img/04.png\" width=\"40%\" align=\"middle\">\n",
    "\n",
    "- dieser Pfad hat eine Länge von **7**"
   ]
  },
  {
   "cell_type": "markdown",
   "metadata": {
    "slideshow": {
     "slide_type": "slide"
    }
   },
   "source": [
    "><div class=\"alert alert-block alert-info\">\n",
    "<b> Gibt es einen kürzeren Weg?</b></div>"
   ]
  },
  {
   "cell_type": "markdown",
   "metadata": {
    "slideshow": {
     "slide_type": "slide"
    }
   },
   "source": [
    "## Die Funktionsweise des Dijkstra-Algorithmus\n",
    "\n",
    "Im Dijskstra-Algorithmus wird **für jeden Knoten** die bekannte Entfernung vom Startknoten **Schritt für Schritt** bestimmt\n",
    "- die Entfernung wird als Knoten-\"Label\" beim Knoten festgehalten\n",
    "- das Entfernungslabel wird im Laufe des Algorithmus aktualisiert\n",
    "- am Anfang sind alle Enfernungslabels als unendlich festgesetzt bis auf den Startknoten - der hat Entfernung 0"
   ]
  },
  {
   "cell_type": "markdown",
   "metadata": {
    "slideshow": {
     "slide_type": "slide"
    }
   },
   "source": [
    "Der Algorithmus basiert auf der **Abarbeitung aller Knoten**\n",
    "- in der **Reihenfolge der (bekannten) Entfernung vom Startknoten**\n",
    "- bei der **Abarbeitung eines Knotens** werden jeweils **die Entfernungen der noch nicht bearbeiteten Nachbarn aktualisiert** (falls so die Entfernung verkürzt wurde)\n",
    "- nach der Bearbeitung eines Knotens wird sein Entfernungslabel **nicht mehr verändert** \n",
    "  - man sagt auch: der Knoten ist **permanent gelabelt** (davor ist er nur **temporär** gelabelt)"
   ]
  },
  {
   "cell_type": "markdown",
   "metadata": {
    "slideshow": {
     "slide_type": "slide"
    }
   },
   "source": [
    "#### Ablauf des Algorithmus:\n",
    "\n",
    "0. Initialisiere die temporären Labels für die Entfernungen \n",
    "\n",
    "\n",
    "1. Finde den Knoten, der als nächstes bearbeitet werden soll. Dies ist der Knoten, der die minimale Entfernung aufweist\n",
    "\n",
    "2. Bei der Bearbeitung des aktuellen Knotens: Aktualisiere die Entfernungen der Nachbarn des Knotens\n",
    "  - für jeden Nachbarn: aktualisiere falls:\n",
    "     - Entfernungslabel des aktuellen Knotens + Enfernung des Nachbarn zum aktuellen Knotens < Enfernungslabel des Nachbarn\n",
    "\n",
    "3. Falls noch unbebarbeitete Knoten da sind: Gehe zu Schritt 1\n",
    "\n",
    "4. Berechne den endgültigen kürzesten Weg\n"
   ]
  },
  {
   "cell_type": "markdown",
   "metadata": {
    "slideshow": {
     "slide_type": "slide"
    }
   },
   "source": [
    "## Illustration am Beispiel\n",
    "\n",
    "0: Initialisierung: Setze alle Entferungen auf unendlich, nur die des Startknotens auf 0.\n",
    "\n",
    "\n",
    "Schritt 1: Bestimme den nächsten zu bearbeitenden Knoten\n",
    "- dies ist der Startknoten"
   ]
  },
  {
   "cell_type": "markdown",
   "metadata": {
    "slideshow": {
     "slide_type": "fragment"
    }
   },
   "source": [
    "Schritt 2: Aktualisiere die temporären Labels:\n",
    "\n",
    "- der Startknoten hat 2 Nachbarn: A und B, beide hatten vorher das Label $\\infty$ (unendlich)\n",
    "- beide werden aktualisiert: die Entfernung von Startknoten (0 + jeweilige Kantenlänge) < $\\infty$\n",
    "\n",
    "\n",
    " <img src=\"./img/05.png\" width=\"40%\" align=\"left\"/>\n",
    " \n",
    "\n",
    " \n",
    " <img src=\"./img/06.png\" width=\"30%\" align=\"right\"/> "
   ]
  },
  {
   "cell_type": "markdown",
   "metadata": {
    "slideshow": {
     "slide_type": "slide"
    }
   },
   "source": [
    "## Illustration am Beispiel: Nächste Iteration\n",
    "\n",
    "\n",
    "Schritt 1: Bestimme den nächsten zu bearbeitenden Knoten\n",
    "- von den noch nicht bearbeiteten Knoten ist B der mit dem kleinsten Label\n",
    "\n",
    "\n"
   ]
  },
  {
   "cell_type": "markdown",
   "metadata": {
    "slideshow": {
     "slide_type": "-"
    }
   },
   "source": [
    "Schritt 2: Aktualisiere die Entfernungslabels der Nachbarn\n",
    "- B hat zwei Nachbarn: A und Ziel\n",
    "  - A muss aktualisiert werden, denn Label von B (2) + Entfernung von B nach A (3) = 5 < bisheriges Label (6)\n",
    "  - Ziel muss aktualisiert werden: Label von B (2) + Entfernung von B nach Ziel (5) = 7 < bisheriges Label ($\\infty$)\n"
   ]
  },
  {
   "cell_type": "markdown",
   "metadata": {
    "slideshow": {
     "slide_type": "-"
    }
   },
   "source": [
    "<img src=\"./img/07.png\" width=\"40%\" align=\"middle\">"
   ]
  },
  {
   "cell_type": "markdown",
   "metadata": {
    "slideshow": {
     "slide_type": "slide"
    }
   },
   "source": [
    "## Illustration: Beachte: Der kürzeste Weg vom Start nach B hat sich geändert\n",
    "#### Vorher:\n",
    "\n",
    "<img src=\"./img/08.png\" width=\"40%\" align=\"left\">\n",
    "\n",
    "#### Nachher:\n",
    "\n",
    "<img src=\"./img/09.png\" width=\"40%\" align=\"right\">"
   ]
  },
  {
   "cell_type": "markdown",
   "metadata": {
    "slideshow": {
     "slide_type": "slide"
    }
   },
   "source": [
    "## Illustration am Beispiel: Nächste Iteration\n",
    "\n",
    "<img src=\"./img/10.png\" width=\"25%\" align=\"right\">\n",
    "\n",
    "Schritt 1: Bestimme den nächsten zu bearbeitenden Knoten\n",
    "- von den noch nicht bearbeiteten Knoten ist **A** der mit dem kleinsten Label\n",
    "\n",
    "\n",
    "\n",
    "\n",
    "\n",
    "\n",
    "\n",
    "\n"
   ]
  },
  {
   "cell_type": "markdown",
   "metadata": {
    "slideshow": {
     "slide_type": "-"
    }
   },
   "source": [
    "<img src=\"./img/12.png\" width=\"25%\" align=\"right\">\n",
    "\n",
    "Schritt 2: Aktualisiere die Entfernungslabels der Nachbarn (einziger Nachbar: Ziel)\n",
    "- das Ziel hatte vorher das Entfernungslabel 7, es bekommt nun das neue Label 5 + 1 = 6\n",
    "<img src=\"./img/11.png\" width=\"40%\" align=\"left\">\n"
   ]
  },
  {
   "cell_type": "markdown",
   "metadata": {
    "heading_collapsed": true,
    "slideshow": {
     "slide_type": "slide"
    }
   },
   "source": [
    "## Illustration am Beispiel: Das war's\n",
    "\n",
    "- alle Knoten außer der Zielknoten wurden bearbeitet\n",
    "- der Zielknoten hat überdies keine ausgehenden unbearbeiteten Kanten"
   ]
  },
  {
   "cell_type": "markdown",
   "metadata": {
    "hidden": true,
    "slideshow": {
     "slide_type": "fragment"
    }
   },
   "source": [
    "- so sieht der kürzeste Weg aus:\n",
    "<img src=\"./img/13.png\" width=\"80%\" align=\"middle\">"
   ]
  },
  {
   "cell_type": "markdown",
   "metadata": {
    "hidden": true,
    "slideshow": {
     "slide_type": "fragment"
    }
   },
   "source": [
    "><div class=\"alert alert-block alert-info\">\n",
    "<b> Wie sähe der \"kürzeste\" Weg bei einer Breitensuche aus?</b></div>"
   ]
  },
  {
   "cell_type": "markdown",
   "metadata": {
    "hidden": true,
    "slideshow": {
     "slide_type": "fragment"
    }
   },
   "source": [
    "><div class=\"alert alert-block alert-info\">\n",
    "<b> Wir haben ja bisher nur die besten Labels berechnet - wie genau bekommt man eigentlich den Weg, der zu dem besten Label des Ziels führt?</b></div>"
   ]
  },
  {
   "cell_type": "markdown",
   "metadata": {
    "slideshow": {
     "slide_type": "slide"
    }
   },
   "source": [
    "## Warum funktioniert der Algorithmus?\n",
    "\n",
    "><div class=\"alert alert-block alert-info\">\n",
    "<b> Wieso stellt die Auswahl des \"entfernungsmininalen\" nächsten Knotens sicher, dass der Algorithmus funktioniert (solange alle Kantengwichte nicht negativ sind)? </b></div>\n",
    "\n",
    "**Beweis durch Widerspruch:**\n",
    "\n",
    "- der Algorithmus würde **nicht** korrekt funktionieren, wenn sich für einen Knoten (nennen wir ihn $v$) **nach** der Bearbeitung des Knotens herausstellen sollte, dass es einen kürzeren Weg vom Startknoten zu $v$ gibt als denjenigen, der dem (permanenten) Entfernungslabel entspricht\n",
    "- jeder Knoten wird genau einmal bearbeitet. Damit der obige Fall eintreten kann, müsste $v$ der Nachfolger / Nachbar eines noch nicht bearbeiteten Knotens sein und der entsprechende Weg vom Startknoten kürzer sein.\n",
    "- das wiederum setzt bei nicht negativen Kanten voraus, dass die Entfernung des Startknotens zu diesem Knoten kleiner ist als das permanente Label des Knotens $v$ - dies kann jedoch nicht sein, da wir ja jeweils den entfernungsminimalen Knoten als nächsten zu bearbeitenden Knoten auswählen.\n"
   ]
  },
  {
   "cell_type": "markdown",
   "metadata": {
    "slideshow": {
     "slide_type": "slide"
    }
   },
   "source": [
    "## Dijkstra online\n",
    "\n",
    "Auf der folgenden Seite kann man den Dijkstra-Algorithmus Schritt für Schritt durchspielen:\n",
    "\n",
    "https://algorithms.discrete.ma.tum.de/graph-algorithms/spp-dijkstra/index_en.html\n"
   ]
  },
  {
   "cell_type": "markdown",
   "metadata": {
    "slideshow": {
     "slide_type": "slide"
    }
   },
   "source": [
    "# 2. Kantengewichte und Zyklen"
   ]
  },
  {
   "cell_type": "markdown",
   "metadata": {
    "slideshow": {
     "slide_type": "slide"
    }
   },
   "source": [
    "## Ein wenig Notation"
   ]
  },
  {
   "cell_type": "markdown",
   "metadata": {
    "slideshow": {
     "slide_type": "-"
    }
   },
   "source": [
    "Ein Graph mit Kosten, Entfernungen, etc. auf Kanten wird **gewichteter Graph** genannt\n",
    "\n",
    "<img src=\"./img/16.png\" width=\"35%\" align=\"middle\">\n",
    "\n",
    "Ungewichteter vs gewichteter Graph\n",
    "<img src=\"./img/17.png\" width=\"80%\" align=\"middle\">"
   ]
  },
  {
   "cell_type": "markdown",
   "metadata": {
    "slideshow": {
     "slide_type": "slide"
    }
   },
   "source": [
    "## Zyklen in gerichteten Graphen\n",
    "\n",
    "<img src=\"./img/18.png\" width=\"40%\" align=\"middle\">"
   ]
  },
  {
   "cell_type": "markdown",
   "metadata": {
    "slideshow": {
     "slide_type": "slide"
    }
   },
   "source": [
    "## Beeinflussen Zyklen kürzeste Wege?\n",
    "\n",
    "<img src=\"./img/19.png\" width=\"30%\" align=\"middle\">\n",
    "\n",
    "#### Der kürzeste Weg (ohne Zyklus)                         und  mit Zyklus\n",
    "<img src=\"./img/20.png\" width=\"30%\" align=\"left\">\n",
    "\n",
    "<img src=\"./img/21.png\" width=\"30%\" align=\"right\">"
   ]
  },
  {
   "cell_type": "markdown",
   "metadata": {
    "slideshow": {
     "slide_type": "slide"
    }
   },
   "source": [
    "><div class=\"alert alert-block alert-info\">\n",
    "<b> Was muss passieren, damit sich ein Zyklus auf den kürzesten Weg auswirkt?</b></div>"
   ]
  },
  {
   "cell_type": "markdown",
   "metadata": {
    "slideshow": {
     "slide_type": "fragment"
    }
   },
   "source": [
    "- im Fall von negativen Zyklen (d.h. Zyklen, deren Gesamtgewicht negativ ist) kann folgendes passieren:\n",
    "  - wenn jede Kante nur einmal durchlaufen werden kann: der kürzeste Weg wird reduziert\n",
    "  - wenn jede Kante mehrfach durchlaufen werden kann: der kürzeste Weg wird unendlich negativ"
   ]
  },
  {
   "cell_type": "markdown",
   "metadata": {
    "slideshow": {
     "slide_type": "slide"
    }
   },
   "source": [
    "## Dijkstra und Zyklen"
   ]
  },
  {
   "cell_type": "markdown",
   "metadata": {
    "slideshow": {
     "slide_type": "fragment"
    }
   },
   "source": [
    "><div class=\"alert alert-block alert-info\">\n",
    "<b> Funktioniert der Dijkstra-Algorithmus auch dann, wenn ein Graph Zyklen hat?</b></div>"
   ]
  },
  {
   "cell_type": "markdown",
   "metadata": {
    "slideshow": {
     "slide_type": "fragment"
    }
   },
   "source": [
    "- der Dijkstra-Algorithmus funktioniert: \n",
    "  - korrekt, wenn der Graph positive Zyklen hat\n",
    "  - nicht korrekt, wenn der Graph negative Zyklen hat"
   ]
  },
  {
   "cell_type": "markdown",
   "metadata": {
    "slideshow": {
     "slide_type": "slide"
    }
   },
   "source": [
    "## Gerichtete und ungerichtete Graphen\n",
    "\n",
    "- schon in der vergangenen Veranstaltung haben wir gerichtete und ungerichtete Graphen unterschieden:\n",
    "<img src=\"./img/23.png\" width=\"40%\" align=\"middle\">\n",
    "\n",
    "- beachte: wir können ungerichtete Graphen in gerichtete Graphen transformieren, indem wir gerichtete Kanten in beide Richtungen einfügen!\n",
    "\n",
    "<img src=\"./img/24.png\" width=\"40%\" align=\"middle\">\n",
    "\n",
    "><div class=\"alert alert-block alert-info\">\n",
    "<b> Funktioniert der Dijkstra-Algorithums auch für ungerichtete Graphen?</b></div>\n",
    "- ja, er funktioniert auch für ungerichtete Graphen, solange die Kantengewichte positiv sind"
   ]
  },
  {
   "cell_type": "markdown",
   "metadata": {
    "slideshow": {
     "slide_type": "slide"
    }
   },
   "source": [
    "# 3. Ein weiteres Beispiel, und die Rolle von negativen Kanten"
   ]
  },
  {
   "cell_type": "markdown",
   "metadata": {
    "slideshow": {
     "slide_type": "slide"
    }
   },
   "source": [
    "## Ein weiteres Beispiel: Suche Klavier, biete ein Notenheft\n",
    "\n",
    "Richard hat ein Notenheft, dass er gern loswerden würde, und er hätte stattdessen ein Klavier.\n",
    "\n",
    "Er fragt seine Freunde:\n",
    "\n",
    "- **Alex:** \"Ich würde dir  ein Poster meiner Lieblingsband geben, oder eine seltene LP von Rick Ashley, falls du 5 € drauflegst \n",
    "\n",
    "- **Amy:** Die LP soll gut sein. Wenn du mir noch 15 € dazugibst, bekommst du meine Gitarre; für die LP und 20 € bekommst du mein Schlagzeug. Das Poster würde ich auch nehmen, dann musst mir aber 30 € für die Gitarre geben oder 35 € für das Schlagzeug.\n",
    "\n",
    "- **Beethoven:** Ich wollte schon lange ein neues Instrument lernen. Du kannst mein altes Klavier haben, wenn du mir die Gitarre und 20 € gibst, oder das Schlagzeug und 10 €.\n",
    "\n",
    "Wir können das auch als Graph darstellen:\n",
    "\n",
    "<img src=\"./img/25.png\" width=\"35%\" align=\"right\">"
   ]
  },
  {
   "cell_type": "markdown",
   "metadata": {
    "slideshow": {
     "slide_type": "slide"
    }
   },
   "source": [
    "## Ein weiteres Beispiel: Suche Klavier, biete ein Notenheft\n",
    "\n",
    "Hier noch einmal der \"Tausch-Graph\":\n",
    "\n",
    "<img src=\"./img/25.png\" width=\"35%\" align=\"middle\">\n",
    "\n",
    "- der kürzeste Weg in diesem Graphen entspricht dem für Richard kostengünstigen Weg, um sein Notenheft in ein Klavier zu tauschen\n",
    "\n",
    "- wir nutzen dieses Beispiel, um noch einmal den Dijkstra-Algorithmus zu illustrieren"
   ]
  },
  {
   "cell_type": "markdown",
   "metadata": {
    "slideshow": {
     "slide_type": "slide"
    }
   },
   "source": [
    "## Tausch-Beispiel: Der Anfang\n",
    "\n",
    "<img src=\"./img/25.png\" width=\"35%\" align=\"middle\">\n",
    "\n",
    "- wir beginnen mit dem Notenheft und initialisieren die Enfernungen und Pfade\n",
    "\n",
    "<img src=\"./img/26.png\" width=\"40%\" align=\"left\">\n",
    "\n",
    "\n",
    "<img src=\"./img/27.png\" width=\"25%\" align=\"right\">"
   ]
  },
  {
   "cell_type": "markdown",
   "metadata": {
    "slideshow": {
     "slide_type": "slide"
    }
   },
   "source": [
    "## Tauschbeispiel: Nächster Schritt - Knoten \"Poster\"\n",
    "\n",
    "- das Poster ist am günstigsten zu erreichen\n",
    "- wir aktualisieren die Kosten und Vorgänger (Elternteile) für die Nachbarn\n",
    "\n",
    "<img src=\"./img/30.png\" width=\"80%\" align=\"middle\">\n",
    "\n",
    "\n",
    "\n"
   ]
  },
  {
   "cell_type": "markdown",
   "metadata": {
    "slideshow": {
     "slide_type": "slide"
    }
   },
   "source": [
    "## Tauschbeispiel: Nächster Schritt - Knoten \"LP\"\n",
    "\n",
    "- die LP ist am günstigsten zu erreichen (von den noch nicht bearbeiteten Knoten)\n",
    "- wir aktualisieren die Kosten und Vorgänger (Elternteile) für die Nachbarn\n",
    "\n",
    "<img src=\"./img/32.png\" width=\"80%\" align=\"middle\">\n",
    "\n",
    "\n",
    "\n"
   ]
  },
  {
   "cell_type": "markdown",
   "metadata": {
    "slideshow": {
     "slide_type": "slide"
    }
   },
   "source": [
    "## Tauschbeispiel: Nächster Schritt - Knoten \"Bassgitarre\"\n",
    "\n",
    "- die ist Bassgitarre am günstigsten zu erreichen (von den noch nicht bearbeiteten Knoten)\n",
    "- wir aktualisieren die Kosten und Vorgänger (Elternteile) für die Nachbarn\n",
    "\n",
    "<img src=\"./img/33.png\" width=\"80%\" align=\"middle\">\n",
    "\n",
    "\n",
    "\n"
   ]
  },
  {
   "cell_type": "markdown",
   "metadata": {
    "slideshow": {
     "slide_type": "slide"
    }
   },
   "source": [
    "## Tauschbeispiel: Nächster Schritt - Knoten \"Schlagzeug\"\n",
    "\n",
    "- das Schlagzeug ist am günstigsten zu erreichen (von den noch nicht bearbeiteten Knoten)\n",
    "- wir aktualisieren die Kosten und Vorgänger (Elternteile) für die Nachbarn\n",
    "\n",
    "<img src=\"./img/34.png\" width=\"80%\" align=\"middle\">\n",
    "\n",
    "\n",
    "\n"
   ]
  },
  {
   "cell_type": "markdown",
   "metadata": {
    "slideshow": {
     "slide_type": "slide"
    }
   },
   "source": [
    "## Tauschbeispiel: Nächster Schritt - Knoten \"Klavier\"\n",
    "\n",
    "- das Klavier hat keine Nachfolger \n",
    "- Algorithmus endet, weil es keine \"unbesuchten\" Knoten mehr"
   ]
  },
  {
   "cell_type": "markdown",
   "metadata": {
    "slideshow": {
     "slide_type": "fragment"
    }
   },
   "source": [
    "\n",
    "\n",
    "- der kürzeste Weg hat die Länge 35\n",
    "- schauen wir nun, wie wir mittels der Tabelle \"Elternteil\" den kürzesten Weg bestimmen können:\n",
    "<img src=\"./img/35.png\" width=\"20%\" align=\"middle\">\n"
   ]
  },
  {
   "cell_type": "markdown",
   "metadata": {
    "slideshow": {
     "slide_type": "slide"
    }
   },
   "source": [
    "## Tauschbeispiel: Bestimmung des Kürzesten Wegs\n",
    "\n",
    "\n",
    "\n",
    "\n",
    "**Wir fangen beim Zielknoten an und bewegen uns über die Elternteile nach vorn**\n",
    "\n",
    "<img src=\"./img/35.png\" width=\"20%\" align=\"right\">\n",
    "\n",
    "<img src=\"./img/36.png\" width=\"40%\" align=\"left\">"
   ]
  },
  {
   "cell_type": "markdown",
   "metadata": {
    "slideshow": {
     "slide_type": "fragment"
    }
   },
   "source": [
    "\n",
    "| ..und arbeiten uns nach vorn.. | ..fertig |\n",
    "|:-|:-|\n",
    "|<img src=\"./img/37.png\" >| <img src=\"./img/38.png\"> |\n"
   ]
  },
  {
   "cell_type": "markdown",
   "metadata": {
    "slideshow": {
     "slide_type": "slide"
    }
   },
   "source": [
    "## Tauschbeispiel: Bestimmung des Kürzesten Wegs\n",
    "\n",
    ".. nun können wir uns von vorn nach hinten den günstigsten Weg (= eine Tauschabfolge für Richard) aufbauen!\n",
    "\n",
    "<img src=\"./img/38.png\" width=\"50%\" align=\"left\"> \n",
    "\n",
    "\n",
    "<img src=\"./img/39.png\" width=\"30%\" align=\"right\">"
   ]
  },
  {
   "cell_type": "markdown",
   "metadata": {
    "slideshow": {
     "slide_type": "slide"
    }
   },
   "source": [
    "## Illustration von negativen Kanten am Tauschbeispiel\n",
    "\n",
    "Nehmen wir nun an, dass eine weitere Freundin, Sarah, die Platte so toll findet, dass sie Richard für die Platte das Poster und **zusätzlich 7 €** geben würde.\n",
    "\n",
    "><div class=\"alert alert-block alert-info\">\n",
    "<b> Wie können wir das im Graph abbilden? </b></div>"
   ]
  },
  {
   "cell_type": "markdown",
   "metadata": {
    "slideshow": {
     "slide_type": "slide"
    }
   },
   "source": [
    "..mit negativen Gewichten (Kosten) auf der Kante\n",
    "\n",
    "<img src=\"./img/41.png\" width=\"40%\" align=\"middle\">\n",
    "\n",
    "\n"
   ]
  },
  {
   "cell_type": "markdown",
   "metadata": {
    "slideshow": {
     "slide_type": "slide"
    }
   },
   "source": [
    "## Was passiert bei negativen Kanten?\n",
    "\n",
    "- Betrachten wir mal nur einen Teilabschnitt bis zum Schlagzeug:\n",
    "\n",
    "<img src=\"./img/42.png\" width=\"60%\" align=\"middle\">\n",
    "\n",
    "- das bedeutet, dass der Knoten \"Poster\" jetzt mit -2 markiert sein müsste!"
   ]
  },
  {
   "cell_type": "markdown",
   "metadata": {
    "slideshow": {
     "slide_type": "slide"
    }
   },
   "source": [
    "- das heißt, der kürzeste Weg in diesem Teilgraphen wäre nicht 35, sondern 33:\n",
    "\n",
    "<img src=\"./img/43.png\" width=\"50%\" align=\"middle\">"
   ]
  },
  {
   "cell_type": "markdown",
   "metadata": {
    "slideshow": {
     "slide_type": "slide"
    }
   },
   "source": [
    "## Was macht der Dijkstra-Algorithmus?\n",
    "\n",
    "<img src=\"./img/44.png\" width=\"20%\" align=\"right\">\n",
    "\n",
    "\n",
    "- zunächst werden die Kosten für die vom Start erreichbaren Knoten initalisiert:\n",
    "\n",
    "\n",
    "- dann wird der \"nächste\" Knoten \"Poster\" bearbeitet und **permanent** markiert\n",
    "- das Schlagzeug als direkter Nachbar bekommt den Wert \"35\"\n",
    "<img src=\"./img/45.png\" width=\"60%\" align=\"middle\">\n"
   ]
  },
  {
   "cell_type": "markdown",
   "metadata": {
    "heading_collapsed": true,
    "slideshow": {
     "slide_type": "slide"
    }
   },
   "source": [
    "## Nächster Knoten: \"LP\" -  was passiert jetzt? \n",
    "\n",
    "<img src=\"./img/46.png\" width=\"20%\" align=\"right\">\n",
    "\n",
    "- Poster als Nachfolger von LP wird aktualisiert, **ist aber schon bearbeitet**\n",
    "\n",
    "<img src=\"./img/47.png\" width=\"50%\" align=\"middle\">\n",
    "\n",
    "- d.h.: **die \"Verkürzung\" durch die negative Kante \"kommt nicht an\" beim Schlagzeug!**"
   ]
  },
  {
   "cell_type": "markdown",
   "metadata": {
    "hidden": true,
    "slideshow": {
     "slide_type": "subslide"
    }
   },
   "source": [
    "<img src=\"./img/48.png\" width=\"20%\" align=\"right\">\n",
    "\n",
    "- der Dijkstra-Algorithmus \"denkt\", dass die Kosten für das Schlagzeug 35 betragen, obwohl es tatsächlich 33 sind"
   ]
  },
  {
   "cell_type": "markdown",
   "metadata": {
    "slideshow": {
     "slide_type": "slide"
    }
   },
   "source": [
    "## Was  tun bei negativen Kanten?\n",
    "\n",
    "- man kann den Algorithmus leicht modifzieren, um negative Kanten zu erlauben\n",
    "\n",
    "><div class=\"alert alert-block alert-info\">\n",
    "<b> Wie? </b></div>\n",
    "\n",
    "- negative Zyklen kann der Algorithmus dann allerdings immer noch nicht erkennen\n",
    "\n",
    "- in einem solchen Fall muss auf andere Algorithmen zurückgegriffen werden, z.B. auf den so genannten **Bellmann-Ford**-Algorithmus\n",
    "\n"
   ]
  },
  {
   "cell_type": "markdown",
   "metadata": {
    "slideshow": {
     "slide_type": "slide"
    }
   },
   "source": [
    "# 4. Implementierung des Dijkstra-Algorithmus"
   ]
  },
  {
   "cell_type": "markdown",
   "metadata": {
    "slideshow": {
     "slide_type": "slide"
    }
   },
   "source": [
    "## Implementierung des Dijkstra-Algorithmus: Datenstrukturen"
   ]
  },
  {
   "cell_type": "markdown",
   "metadata": {
    "slideshow": {
     "slide_type": "slide"
    }
   },
   "source": [
    "Wir nutzen folgendes Beispiel, um die Implemementierung zu diskutieren:\n",
    "<img src=\"./img/49.png\" width=\"40%\" align=\"middle\">"
   ]
  },
  {
   "cell_type": "markdown",
   "metadata": {
    "slideshow": {
     "slide_type": "slide"
    }
   },
   "source": [
    "## Datenstrukturen für den Graph, die Kantengewichte und die Speicherung des kürzesten Wegs\n",
    "\n",
    "- wie in der vergangenen Veranstaltung wollen den (gerichteten) Graph und seine Informationen mit **Hash-Tabellen** impementieren\n",
    "\n",
    "Zuvor haben wir die Graphenstruktur mit einer **Hash-Tabelle** gespeichtert\n",
    "- **Schlüssel:** Knoten\n",
    "- **Wert:** Liste mit Nachfolgern (Nachbarn)\n",
    "\n",
    "..d.h. Kanten wurden implizit dargestellt (je eine Kante mit Startknoten *Schlüssel* für jedes Element in der Liste, die im *Wert* gespeichert wird\n",
    "\n",
    "><div class=\"alert alert-block alert-info\">\n",
    "<b> Wie können wir denn nun die Gewichte bei Kanten ablegen / wie können wir Kanten mit Informationen assoziieren?</b></div>"
   ]
  },
  {
   "cell_type": "markdown",
   "metadata": {
    "slideshow": {
     "slide_type": "slide"
    }
   },
   "source": [
    "## Implementierung eines gewichteten Graphen (Graph mit Kanteninformationen): Hash-Tabelle in Hash-Tabelle\n",
    "\n",
    "\n",
    "\n",
    "- immer dann, wenn wir nicht nur eine Liste mit Objekten haben wollen, sondern auch **Informationen mit diesen Objekten verknüpfen** möchten, können wir eine **Hash-Tabelle** nutzen\n",
    "- in diesem Fall nutzen wir eine Hash-Tabelle in der Hash-Tabelle:\n",
    "\n",
    "<img src=\"./img/52.png\" width=\"20%\" align=\"right\"/>\n",
    "\n",
    "#### Verschachtelte Hash-Tabelle für einen gerichteten Graphen:\n",
    "- **Schlüssel:** Knoten\n",
    "- **Wert:** Hash-Tabelle mit:\n",
    "  - **Schlüssel:** Nachfolger (Nachbar) des Knotens\n",
    "  - **Wert:** Kantengewicht (z.B. Distanz, Kosten)\n",
    "  "
   ]
  },
  {
   "cell_type": "markdown",
   "metadata": {
    "slideshow": {
     "slide_type": "fragment"
    }
   },
   "source": [
    "..der gesamte Graph: \n",
    "<img src=\"./img/53.png\" width=\"25%\" align=\"right\" >\n"
   ]
  },
  {
   "cell_type": "markdown",
   "metadata": {
    "slideshow": {
     "slide_type": "slide"
    }
   },
   "source": [
    "## Implementierung in Python"
   ]
  },
  {
   "cell_type": "code",
   "execution_count": 1,
   "metadata": {
    "slideshow": {
     "slide_type": "-"
    }
   },
   "outputs": [
    {
     "data": {
      "text/plain": [
       "{'start': {'A': 6, 'B': 2},\n",
       " 'A': {'fin': 1},\n",
       " 'B': {'A': 3, 'fin': 5},\n",
       " 'fin': {}}"
      ]
     },
     "execution_count": 1,
     "metadata": {},
     "output_type": "execute_result"
    }
   ],
   "source": [
    "graph = {}\n",
    "graph[\"start\"] =  {\"A\":6, \"B\":2} # Direkte Initialisierung des dict mit Schlüssel:Wert-Paaren    \n",
    "# äquivalent zu:\n",
    "#graph[\"start\"] = {}\n",
    "#graph[\"start\"][\"A\"] = 6\n",
    "#graph[\"start\"][\"B\"] = 2\n",
    "graph[\"A\"] =  {\"fin\":1} \n",
    "graph[\"B\"] =  {\"A\":3, \"fin\":5}  \n",
    "graph[\"fin\"] =  {}  \n",
    "graph"
   ]
  },
  {
   "cell_type": "markdown",
   "metadata": {
    "slideshow": {
     "slide_type": "fragment"
    }
   },
   "source": [
    "Man kann dann auf das Kantengewicht für eine Kante, z.B. von \"start\" nach \"A\" zugreifen mit `graph[\"start\"][\"A\"]`"
   ]
  },
  {
   "cell_type": "code",
   "execution_count": 2,
   "metadata": {
    "slideshow": {
     "slide_type": "-"
    }
   },
   "outputs": [
    {
     "name": "stdout",
     "output_type": "stream",
     "text": [
      "6\n"
     ]
    }
   ],
   "source": [
    "if \"A\" in graph[\"start\"]:\n",
    "    print(graph[\"start\"][\"A\"])"
   ]
  },
  {
   "cell_type": "markdown",
   "metadata": {
    "slideshow": {
     "slide_type": "fragment"
    }
   },
   "source": [
    "Visualisierung der Datenstruktur in Python-Tutor: [Hier](https://pythontutor.com/visualize.html#code=graph%20%3D%20%7B%7D%0Agraph%5B%22start%22%5D%20%3D%20%20%7B%22A%22%3A6,%20%22B%22%3A2%7D%20%23%20Direkte%20Initialisierung%20des%20dict%20mit%20Schl%C3%BCssel%3AWert-Paaren%20%20%20%20%0Agraph%5B%22A%22%5D%20%3D%20%20%7B%22fin%22%3A1%7D%20%0Agraph%5B%22B%22%5D%20%3D%20%20%7B%22A%22%3A3,%20%22fin%22%3A5%7D%20%20%0Agraph%5B%22fin%22%5D%20%3D%20%20%7B%7D&cumulative=false&curInstr=5&heapPrimitives=nevernest&mode=display&origin=opt-frontend.js&py=3&rawInputLstJSON=%5B%5D&textReferences=false)"
   ]
  },
  {
   "cell_type": "markdown",
   "metadata": {
    "slideshow": {
     "slide_type": "slide"
    }
   },
   "source": [
    "## Speicherung von Knoteninformationen: Hash-Tabelle\n",
    "\n",
    "Knoteninformationen (Knoten-Labels) können einfach mit einer Hash-Tabelle abgelegt werden:\n",
    "- **Schlüssel**: Knoten\n",
    "- **Wert**: Knotenlabel\n",
    "\n",
    "Wir werden für unsere Dijkstra-Implementierung zwei Hash-Tabellen für Knoteninformationen nutzen:\n",
    "- `costs` zum Ablegen der Entfernung (Kosten) vom Startknoten\n",
    "- `parents` zum Ablegen des Vorgängers (Elternteils) eines Knotens, über den der kürzeste Weg zum Knoten führt"
   ]
  },
  {
   "cell_type": "code",
   "execution_count": null,
   "metadata": {
    "slideshow": {
     "slide_type": "-"
    }
   },
   "outputs": [],
   "source": [
    "costs = {}\n",
    "parents = {}"
   ]
  },
  {
   "cell_type": "markdown",
   "metadata": {
    "slideshow": {
     "slide_type": "slide"
    }
   },
   "source": [
    "## Überblick über die verwendeten Hash-Tabellen:\n",
    "\n",
    "\n",
    "<img src=\"./img/50.png\" width=\"40%\" align=\"middle\">"
   ]
  },
  {
   "cell_type": "markdown",
   "metadata": {
    "slideshow": {
     "slide_type": "slide"
    }
   },
   "source": [
    "## Ablegen der bereits bearbeiteten Knoten\n",
    "\n",
    "Wir wollen außerdem festhalten, welche Knoten bereits bearbeitet wurden. \n",
    "\n",
    "><div class=\"alert alert-block alert-info\">\n",
    "<b> Welche Datenstruktur können wir hierfür verwenden?</b></div>"
   ]
  },
  {
   "cell_type": "markdown",
   "metadata": {
    "slideshow": {
     "slide_type": "slide"
    }
   },
   "source": [
    "Unter den möglichen Datenstrukturen sind:\n",
    "- Array / `list` (wie im Buch)\n",
    "- Menge / `set` (wie in der Breitensuche)\n",
    "\n",
    "Bevor wir uns festlegen: Schauen wir doch einmal, an welchen Stellen des Algorithmus wir die bereits bearbeiteten Knoten betrachten"
   ]
  },
  {
   "cell_type": "markdown",
   "metadata": {
    "slideshow": {
     "slide_type": "slide"
    }
   },
   "source": [
    "- nach dem Bearbeiten fügen wir den Konten zu den bearbeiteten hinzu\n",
    "- in Schritt 1 (ausgeführt so oft, wie es Knoten gibt):\n",
    "  - **suchen wir den noch nicht bearbeiteten Knoten mit dem kleinsten Enfernungslabel**"
   ]
  },
  {
   "cell_type": "markdown",
   "metadata": {
    "slideshow": {
     "slide_type": "slide"
    }
   },
   "source": [
    "## Suche nach dem noch nicht bearbeiteten Knoten mit der kleinsten Entfernung\n",
    "\n",
    "Hier eine Beispiel-Implementierung der Funktion mit zwei Parameter:\n",
    "- `costs`: Hash-Tabelle mit bisher bekannten Entfernungen der Knoten\n",
    "- `processed`: Set mit den bisher bearbeiten Knoten"
   ]
  },
  {
   "cell_type": "code",
   "execution_count": 8,
   "metadata": {
    "slideshow": {
     "slide_type": "-"
    }
   },
   "outputs": [],
   "source": [
    "def find_lowest_cost_node(costs, processed):\n",
    "    lowest_cost = float(\"inf\") # initialisierung: Enfernung / Kosten auf unendlich\n",
    "    lowest_cost_node = None #initialisierung\n",
    "    \n",
    "    for node, cost in costs.items(): # .items() gibt uns pro Iteration ein Schlüssel-Wert Paar\n",
    "        \n",
    "        # wenn die Entfernung des aktuellen Knotens < die bisher kürzeste Entfernung UND der Knoten noch nicht bearbeitet wurde:\n",
    "        if cost < lowest_cost and node not in processed: \n",
    "            lowest_cost = cost   # aktualisiere die bisher besten Kosten\n",
    "            lowest_cost_node = node \n",
    "    return lowest_cost_node"
   ]
  },
  {
   "cell_type": "markdown",
   "metadata": {
    "slideshow": {
     "slide_type": "fragment"
    }
   },
   "source": [
    "..probieren wir es aus:"
   ]
  },
  {
   "cell_type": "code",
   "execution_count": 10,
   "metadata": {
    "slideshow": {
     "slide_type": "-"
    }
   },
   "outputs": [
    {
     "data": {
      "text/plain": [
       "'A'"
      ]
     },
     "execution_count": 10,
     "metadata": {},
     "output_type": "execute_result"
    }
   ],
   "source": [
    "beispiel_costs = {\"A\":5, \"B\":1, \"FIN\":float(\"inf\")}\n",
    "beispiel_processed = {\"B\"} # äquivalent zu: set([\"B\"])\n",
    "\n",
    "find_lowest_cost_node(beispiel_costs, beispiel_processed)"
   ]
  },
  {
   "cell_type": "markdown",
   "metadata": {
    "slideshow": {
     "slide_type": "slide"
    }
   },
   "source": [
    "## Ablegen der bereits bearbeiteten Knoten\n",
    "\n",
    "- Angesichts des Codes für `find_lowest_cost_node` ist die Nutzung eines `set` besser als eine `list`,\n",
    "- weil die Überprüfung `node not in processed` \n",
    "  - bei `set` in konstanter Zeit, d.h. in $O(1)$ erfolgt\n",
    "  - bei `list` jedoch in linearer Zeit, nämlich in  $O(n)$, wobei $n$ die Zahl der Knoten ist.\n"
   ]
  },
  {
   "cell_type": "markdown",
   "metadata": {
    "slideshow": {
     "slide_type": "fragment"
    }
   },
   "source": [
    "#### Bemerkung: Effizientere Implementierung mit `priority queues`\n",
    "- effizientere Dijkstra-Implementierungen arbeiten etwas anders\n",
    "- sie legen nicht die bearbeiteten Knoten ab, sondern die bisher \"erreichbaren\", noch nicht bearbeiteten\n",
    "- dabei werden Prioritätswarteschlangen (**priority queues**) genutzt\n",
    "  - wie Warteschlangen, nur dass jedes Element einen Prioritätswert hat\n",
    "  - die `pop`-Operation gibt dann das Objekt mit der höchsten Priorität (hier: kleinste Entfernung) zurück\n"
   ]
  },
  {
   "cell_type": "markdown",
   "metadata": {
    "slideshow": {
     "slide_type": "slide"
    }
   },
   "source": [
    "## Die Implementierung des Dijkstra-Algorithmus: Übersicht\n",
    "\n",
    "<img src=\"./img/56.png\" width=\"40%\" align=\"middle\">\n",
    "\n",
    "\n"
   ]
  },
  {
   "cell_type": "markdown",
   "metadata": {
    "slideshow": {
     "slide_type": "slide"
    }
   },
   "source": [
    "## Die Implementierung des Dijkstra-Algorithmus: Python-Code"
   ]
  },
  {
   "cell_type": "code",
   "execution_count": 13,
   "metadata": {
    "slideshow": {
     "slide_type": "-"
    }
   },
   "outputs": [],
   "source": [
    "def dijkstra(graph, start_node):    \n",
    "    #initalisierung der Datenstrukturen\n",
    "    processed = set()\n",
    "    parents = {}\n",
    "    costs = {}    \n",
    "    for node in graph: # iteriere über alle Knoten \n",
    "        costs[node] = float(\"inf\")  # wir setzen zunächst alle Kosten auf unendlich\n",
    "    costs[start_node] = 0  # dann setzen wir die Kosten des Startknotens auf 0 \n",
    "\n",
    "    node = start_node # wir beginnen mit dem Startknoten        \n",
    "    while node is not None: # solange wir einen zu bearbeitenden Knoten haben\n",
    "        print (\"betrachteter knoten:\", node)\n",
    "        # iteration über die \"innere\" Hash-Tabelle von node (Schlüssel: Nachbar, Wert: Kantengewicht (distanz))\n",
    "        for neighbor, edge_weight in graph[node].items(): # .items() sorgt dafür, dass Schlüssel-Wert-Paar genutzt wird\n",
    "            \n",
    "            # wenn: Entfernung des node vom Startknoten + Distanz von node zu neighbor < bisherige Enferung(neighbor)\n",
    "            if costs[node] + edge_weight < costs[neighbor]: \n",
    "                costs[neighbor] = costs[node] + edge_weight  # aktualisiere Entfernungslabel costs von neighbor\n",
    "                parents[neighbor] = node # aktualisiere den Vorgänger auf dem kürzesten Weg zum neighbor\n",
    "                print(\"        aktualisiere nachfolger: \", neighbor, \" neue Distanz\", costs[neighbor])       \n",
    "        processed.add(node) # füge den Knoten zur Menge der beabeiteten hinzu       \n",
    "        \n",
    "        node = find_lowest_cost_node(costs, processed) # finde den nächsten Knoten (None, wenn alle bearbeitet wurden) \n",
    "    return costs, parents # gib sowohl die Kosten als auch die parents zurück    "
   ]
  },
  {
   "cell_type": "code",
   "execution_count": 29,
   "metadata": {
    "scrolled": true,
    "slideshow": {
     "slide_type": "-"
    }
   },
   "outputs": [
    {
     "name": "stdout",
     "output_type": "stream",
     "text": [
      "betrachteter knoten: start\n",
      "        aktualisiere nachfolger:  A  neue Distanz 6\n",
      "        aktualisiere nachfolger:  B  neue Distanz 2\n",
      "betrachteter knoten: B\n",
      "        aktualisiere nachfolger:  A  neue Distanz 5\n",
      "        aktualisiere nachfolger:  fin  neue Distanz 7\n",
      "betrachteter knoten: A\n",
      "        aktualisiere nachfolger:  fin  neue Distanz 6\n",
      "betrachteter knoten: fin\n",
      "{'start': 0, 'A': 5, 'B': 2, 'fin': 6}\n"
     ]
    },
    {
     "data": {
      "text/plain": [
       "{'A': 'B', 'B': 'start', 'fin': 'A'}"
      ]
     },
     "execution_count": 29,
     "metadata": {},
     "output_type": "execute_result"
    }
   ],
   "source": [
    "costs, parents = dijkstra (graph, \"start\")\n",
    "print(costs)\n",
    "parents"
   ]
  },
  {
   "cell_type": "markdown",
   "metadata": {
    "slideshow": {
     "slide_type": "slide"
    }
   },
   "source": [
    "## Schritt-für Schritt-Betrachtung der Ausführung mit Python-Tutor\n",
    "\n",
    "- es kann sehr hilfreich sein, die Ausführung unserer Implementierung **Schritt für Schritt** zu verfolgen\n",
    "- im Buch \"Algorithmen kapieren\" (Kap. 7) finden Sie eine visuell gestützte Schritt-für-Schritt-Erklärung eine leicht anderen Implementierung\n",
    "\n",
    "- hier wollen wir die Ausfürhung in Python-Tutor Schritt für Schritt betrachten - klicken Sie [hier](https://pythontutor.com/visualize.html#code=def%20find_lowest_cost_node%28costs,%20processed%29%3A%0A%20%20%20%20lowest_cost%20%3D%20float%28%22inf%22%29%20%23%20initialisierung%3A%20Enfernung%20/%20Kosten%20auf%20unendlich%0A%20%20%20%20lowest_cost_node%20%3D%20None%20%23initialisierung%0A%20%20%20%20%0A%20%20%20%20for%20node,%20cost%20in%20costs.items%28%29%3A%20%23%20.items%28%29%20gibt%20uns%20pro%20Iteration%20ein%20Schl%C3%BCssel-Wert%20Paar%0A%20%20%20%20%20%20%20%20%0A%20%20%20%20%20%20%20%20%23%20wenn%20die%20Entfernung%20des%20aktuellen%20Knotens%20%3C%20die%20bisher%20k%C3%BCrzeste%20Entfernung%20UND%20der%20Knoten%20noch%20nicht%20bearbeitet%20wurde%3A%0A%20%20%20%20%20%20%20%20if%20cost%20%3C%20lowest_cost%20and%20node%20not%20in%20processed%3A%20%0A%20%20%20%20%20%20%20%20%20%20%20%20lowest_cost%20%3D%20cost%20%20%20%23%20aktualisiere%20die%20bisher%20besten%20Kosten%0A%20%20%20%20%20%20%20%20%20%20%20%20lowest_cost_node%20%3D%20node%20%0A%20%20%20%20return%20lowest_cost_node%0A%0Adef%20dijkstra%28graph,%20start_node%29%3A%0A%20%20%20%20%0A%20%20%20%20processed%20%3D%20set%28%29%0A%20%20%20%20parents%20%3D%20%7B%7D%0A%20%20%20%20%0A%20%20%20%20costs%20%3D%20%7B%7D%0A%20%20%20%20for%20node%20in%20graph%3A%0A%20%20%20%20%20%20%20%20costs%5Bnode%5D%20%3D%20float%28%22inf%22%29%0A%20%20%20%20costs%5Bstart_node%5D%20%3D%200%0A%20%20%20%20%0A%20%20%20%20node%20%3D%20start_node%20%20%0A%20%20%20%20%0A%20%20%20%20while%20node%20is%20not%20None%3A%0A%20%20%20%20%20%20%20%20%0A%20%20%20%20%20%20%20%20for%20neighbor,%20edge_weight%20in%20graph%5Bnode%5D.items%28%29%3A%0A%20%20%20%20%20%20%20%20%20%20%20%20%0A%20%20%20%20%20%20%20%20%20%20%20%20if%20costs%5Bnode%5D%20%2B%20edge_weight%20%3C%20costs%5Bneighbor%5D%3A%0A%20%20%20%20%20%20%20%20%20%20%20%20%20%20%20%20costs%5Bneighbor%5D%20%3D%20costs%5Bnode%5D%20%2B%20edge_weight%0A%20%20%20%20%20%20%20%20%20%20%20%20%20%20%20%20parents%5Bneighbor%5D%20%3D%20node%0A%20%20%20%20%20%20%20%20%0A%20%20%20%20%20%20%20%20processed.add%28node%29%20%20%0A%20%20%20%20%20%20%20%20node%20%3D%20find_lowest_cost_node%28costs,%20processed%29%20%20%20%20%20%20%20%20%0A%20%20%20%20return%20costs,%20parents%0A%20%20%20%20%0Agraph%20%3D%20%7B%7D%0Agraph%5B%22start%22%5D%20%3D%20%20%7B%22A%22%3A6,%20%22B%22%3A2%7D%20%23%20Direkte%20Initialisierung%20des%20dict%20mit%20Schl%C3%BCssel%3AWert-Paaren%20%20%20%20%0Agraph%5B%22A%22%5D%20%3D%20%20%7B%22fin%22%3A1%7D%20%0Agraph%5B%22B%22%5D%20%3D%20%20%7B%22A%22%3A3,%20%22fin%22%3A5%7D%20%20%0Agraph%5B%22fin%22%5D%20%3D%20%20%7B%7D%20%20%0A%0Acosts,%20parents%20%3D%20dijkstra%28graph,%20%22start%22%29&cumulative=false&curInstr=0&heapPrimitives=nevernest&mode=display&origin=opt-frontend.js&py=3&rawInputLstJSON=%5B%5D&textReferences=false)!"
   ]
  },
  {
   "cell_type": "markdown",
   "metadata": {
    "slideshow": {
     "slide_type": "slide"
    }
   },
   "source": [
    "## Ausgabe des kürzesten Wegs\n",
    "\n",
    "><div class=\"alert alert-block alert-info\">\n",
    "<b> Wie könnte eine Python-Funktion aussehen, die uns den kürzesten Weg vom Start zum Ziel ausgibt?</b></div>"
   ]
  },
  {
   "cell_type": "markdown",
   "metadata": {
    "slideshow": {
     "slide_type": "slide"
    }
   },
   "source": [
    "# 5. Laufzeitkomplexität des Dijkstra-Algorithmus\n"
   ]
  },
  {
   "cell_type": "markdown",
   "metadata": {
    "slideshow": {
     "slide_type": "slide"
    }
   },
   "source": [
    "## Laufzeitkomplexität des Dijkstra-Algorithmus\n",
    "\n",
    "><div class=\"alert alert-block alert-info\">\n",
    "<b> Welches ist die Laufzeitkomplexität des Dijkstra-Algorithmus (in unserer Implementierung?)</b></div>"
   ]
  },
  {
   "cell_type": "markdown",
   "metadata": {
    "slideshow": {
     "slide_type": "fragment"
    }
   },
   "source": [
    "- die Laufzeitkomplexität beträgt $O(|N|^2 + |E|)$\n",
    "  - wobei |N| die Zahl der Knoten und |E| die Zahl der Kanten ist\n",
    "  - beachte: Weil $|E|$ maximal so groß sein kann wie $|N|^2$, können wir die Laufzeit charakterisieren als $O(|N|^2 + |N|^2)$ = $O(|N|^2)$\n",
    "- denn: \n",
    "  - jede Kante wird genau einmal \"angefasst\"\n",
    "  - jeder Knoten wird genau einmal bearbeitet und die Suche nach dem entfernungsminimalen Knoten dauert $O(|N|)$\n",
    "  "
   ]
  },
  {
   "cell_type": "markdown",
   "metadata": {
    "slideshow": {
     "slide_type": "-"
    }
   },
   "source": [
    "**Beachte:**\n",
    "- wie oben beschrieben, gibt es effizientere Implementierungen auf Basis von Prioritätswarteschlangen (*priority queues*)\n",
    "- dadurch erfolgt Suche nach dem nächsten zu bearbeitenden Knoten schneller (in $O(log(|N|)$)\n",
    "- damit ist die gesamte Laufzeit ebenfalls schneller, nämlich $𝑂(|N|log(|N|) + |E|)$"
   ]
  },
  {
   "cell_type": "markdown",
   "metadata": {
    "slideshow": {
     "slide_type": "slide"
    }
   },
   "source": [
    "## Zusammenfassung\n",
    "- der Dijkstra-Algorithmus kann zur Berechnung kürzester Wege in (gerichteten und ungerichteten) Graphen verwendet werden\n",
    "- funktioniert für Graphen ohne negative Zyklen\n",
    "\n",
    "#### Als nächstes:\n",
    "- betrachten wir einen Spezialfall: kürzeste Wege in gerichteten Graphen ohne Zyklen\n",
    "- anschließend beginnen wir mit so genannten \"Greedy-Algorithmen\""
   ]
  }
 ],
 "metadata": {
  "celltoolbar": "Slideshow",
  "kernelspec": {
   "display_name": "Python 3 (ipykernel)",
   "language": "python",
   "name": "python3"
  },
  "language_info": {
   "codemirror_mode": {
    "name": "ipython",
    "version": 3
   },
   "file_extension": ".py",
   "mimetype": "text/x-python",
   "name": "python",
   "nbconvert_exporter": "python",
   "pygments_lexer": "ipython3",
   "version": "3.9.19"
  },
  "rise": {
   "enable_chalkboard": true
  },
  "toc": {
   "base_numbering": 1,
   "nav_menu": {},
   "number_sections": false,
   "sideBar": true,
   "skip_h1_title": false,
   "title_cell": "Table of Contents",
   "title_sidebar": "Contents",
   "toc_cell": false,
   "toc_position": {},
   "toc_section_display": true,
   "toc_window_display": false
  },
  "varInspector": {
   "cols": {
    "lenName": 16,
    "lenType": 16,
    "lenVar": 40
   },
   "kernels_config": {
    "python": {
     "delete_cmd_postfix": "",
     "delete_cmd_prefix": "del ",
     "library": "var_list.py",
     "varRefreshCmd": "print(var_dic_list())"
    },
    "r": {
     "delete_cmd_postfix": ") ",
     "delete_cmd_prefix": "rm(",
     "library": "var_list.r",
     "varRefreshCmd": "cat(var_dic_list()) "
    }
   },
   "types_to_exclude": [
    "module",
    "function",
    "builtin_function_or_method",
    "instance",
    "_Feature"
   ],
   "window_display": false
  }
 },
 "nbformat": 4,
 "nbformat_minor": 2
}
