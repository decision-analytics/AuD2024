{
 "cells": [
  {
   "cell_type": "markdown",
   "metadata": {
    "slideshow": {
     "slide_type": "fragment"
    }
   },
   "source": [
    "<img src=\"./img/logo_wiwi.png\" width=\"23%\" align=\"left\">\n",
    "<img src=\"./img/decision_analytics_logo.png\" width=\"17%\" align=\"right\">\n",
    "\n",
    "<br><br><br><br>\n",
    "\n",
    "\n",
    "## Algorithmen und Datenstrukturen\n",
    "Wintersemester 2024/25\n",
    "\n",
    "\n",
    "# 8 Greedy-Heuristiken für schwierige Optimierungsprobleme\n",
    "\n",
    "\n",
    "<br><br><br>\n",
    "J-Prof. Dr. Michael Römer, Jakob Schulte "
   ]
  },
  {
   "cell_type": "markdown",
   "metadata": {
    "slideshow": {
     "slide_type": "slide"
    }
   },
   "source": [
    "## Überblick\n",
    "\n",
    "1. Einführung und Motivation: Ähnliche Probleme - unterschiedlich schwierig\n",
    "2. Komplexität von Optimierungsproblemen\n",
    "3. Greedy-Verfahren \n",
    "4. Weiteres Beispiel: Das Rucksack-Problem\n",
    "5. Weiteres Beispiel: Das Stundenplan-Problem\n",
    "6. Das Set Covering-Problem\n",
    "7. Zusammenfassung"
   ]
  },
  {
   "cell_type": "markdown",
   "metadata": {
    "slideshow": {
     "slide_type": "slide"
    }
   },
   "source": [
    "## Motivation: Ähnliche Probleme - unterschiedlich schwierig\n",
    "\n",
    "### Die Suche nach einem kürzesten Weg zwischen zwei Knoten\n",
    "\n",
    "- in allgemeinen Graphen mit Laufzeit $O(|N|^2 + |E|)$ (unsere Implementierung) bzw. $O(|N|log|N| + |E|)$ (effizientere Implementierung Dijkstra)\n",
    "- in gerichteten azyklischen Graphen sogar nur $O(|N|+|E|)$"
   ]
  },
  {
   "cell_type": "markdown",
   "metadata": {
    "slideshow": {
     "slide_type": "fragment"
    }
   },
   "source": [
    "### Die Suche nach einem kürzesten Weg, *der alle Knoten beinhaltet*\n",
    "\n",
    "- es ist **kein effizienter** Algorithmus bekannt\n",
    "- genauer: es ist kein Algorithmus bekannt, der garantiert in polynmomieller Zeit einen solchen Weg findet"
   ]
  },
  {
   "cell_type": "markdown",
   "metadata": {
    "slideshow": {
     "slide_type": "slide"
    }
   },
   "source": [
    "## Die Suche nach Wegen, die alle Knoten beinhalten: Problemvarianten\n",
    "\n",
    "#### Shortest Hamiltonian Path Problem (SHPP)\n",
    "- ein Weg, der alle Knoten genau einmal besucht, wird **Hamiltonscher Pfad** genannt\n",
    "- das Problem, bei den man den den **kürzesten Hamiltonschen Pfad** sucht, nenn man das **Shortest Hamiltonian Path Problem (SHPP)**\n",
    "\n",
    "#### Traveling Salesperson Problem (TSP)\n",
    "- ein Weg, der alle Knoten genau einmal besucht und zum Ausgangspunkt zurückkehrt, wird **Hamiltonscher Zyklus** genannt\n",
    "- das Problem der Suche nach dem **kürzesten Hamiltonschen Zyklus** nennt man **Traveling Salesperson Problem (TSP)**"
   ]
  },
  {
   "cell_type": "markdown",
   "metadata": {
    "slideshow": {
     "slide_type": "fragment"
    }
   },
   "source": [
    "##### Beachte: Ungenauigkeit / Fehler im Buch!\n",
    "> In den Kapiteln 1 und 8 des Buches \"Algorithmen kapieren\" wird vom TSP gesprochen. In den Beispielen und Illustrationen wird jedoch das SHPP behandelt, da eine Rückkehr zum Ausgangsknoten nicht stattfindet"
   ]
  },
  {
   "cell_type": "markdown",
   "metadata": {
    "slideshow": {
     "slide_type": "slide"
    }
   },
   "source": [
    "## SHPP: Ein Beispiel\n",
    "\n",
    "\n",
    "<img src=\"./img/24.png\" width=\"25%\" align=\"right\">\n",
    "\n",
    "- wir suchen einen Hamiltonschen Pfad, der die Städte auf der rechten Seite miteinander verbindet\n",
    "- dabei ist der Startort nicht vorgegeben - die Wahl des Startknotens ist Teil der Fragestellung\n"
   ]
  },
  {
   "cell_type": "markdown",
   "metadata": {
    "slideshow": {
     "slide_type": "fragment"
    }
   },
   "source": [
    "- beispielhafte Pfade sehen so aus:\n",
    "\n",
    "<img src=\"./img/25.png\" width=\"40%\" align=\"middle\">"
   ]
  },
  {
   "cell_type": "markdown",
   "metadata": {
    "slideshow": {
     "slide_type": "slide"
    }
   },
   "source": [
    "## SHPP: Eigenschaften\n",
    "\n",
    "<img src=\"./img/26.png\" width=\"35%\" align=\"right\">\n",
    "\n",
    "- bei SHPP- und TSP-Problemen gibt es \n",
    "  - symmetrische Probleme (Distanz von A nach B = Distanz von B nach A) und\n",
    "  - asymmetrische Probleme (Distanz von A nach B $\\neq$ Distanz von B nach A)\n",
    " "
   ]
  },
  {
   "cell_type": "markdown",
   "metadata": {
    "slideshow": {
     "slide_type": "fragment"
    }
   },
   "source": [
    "-  gehen wir von einem asymmetrischen Problem aus, so gibt es bei 2 Knoten beim SHPP zwei Lösungen \n",
    "    \n",
    "><div class=\"alert alert-block alert-info\">\n",
    "<b> Wie viele gäbe es beim TSP? </b></div>\n",
    "\n",
    "    "
   ]
  },
  {
   "cell_type": "markdown",
   "metadata": {
    "slideshow": {
     "slide_type": "slide"
    }
   },
   "source": [
    "## SHPP: Anzahl an Lösungen: 3 Städte\n",
    "\n",
    "<img src=\"./img/27.png\" width=\"30%\" align=\"right\">\n",
    "\n",
    "- nehmen wir an, wir haben drei Städte - wie viele Lösungen für das SHPP gibt es?\n",
    "- für jede einzelne Stadt gibt zwei verschiedene Lösungen:"
   ]
  },
  {
   "cell_type": "markdown",
   "metadata": {
    "slideshow": {
     "slide_type": "fragment"
    }
   },
   "source": [
    "- jede Stadt kann Start-Stadt sein, also gibt es 3 $\\cdot$ 2 = 6 Lösungen\n",
    "\n",
    "<img src=\"./img/28_flat.png\" width=\"100%\" align=\"middle\">"
   ]
  },
  {
   "cell_type": "markdown",
   "metadata": {
    "slideshow": {
     "slide_type": "slide"
    }
   },
   "source": [
    "## SHPP: Anzahl an Lösungen: 4 Städte\n",
    "\n",
    "<img src=\"./img/29.png\" width=\"40%\" align=\"right\">\n",
    "\n",
    "- wie viele Lösungen gibt es für 4 Städte?\n",
    "- für jede einzelne Stadt gibt es 6 verschiedene Lösungen:"
   ]
  },
  {
   "cell_type": "markdown",
   "metadata": {
    "slideshow": {
     "slide_type": "fragment"
    }
   },
   "source": [
    "- jede Stadt kann Start-Stadt sein, also gibt es 4 $\\cdot$ 6 = 24 Lösungen\n",
    "\n",
    "<img src=\"./img/30.png\" width=\"50%\" align=\"middle\">"
   ]
  },
  {
   "cell_type": "markdown",
   "metadata": {
    "slideshow": {
     "slide_type": "slide"
    }
   },
   "source": [
    "## SHPP: Anzahl an Lösungen: Allgemeiner Fall\n",
    "\n",
    "Erkennen Sie eine Struktur?\n",
    "\n",
    "<img src=\"./img/31.png\" width=\"80%\" align=\"middle\">"
   ]
  },
  {
   "cell_type": "markdown",
   "metadata": {
    "slideshow": {
     "slide_type": "fragment"
    }
   },
   "source": [
    "- tatsächlich gibt es für $n$ Städte $n$ mal soviele Lösungen wir für $n-1$ Städte\n",
    "- das entspricht der so genannten Fakultätsfunktion $n!$\n",
    "\n",
    ".. wie wir wissen, steigt die sehr schnell an (sogar schneller als exponentiell):"
   ]
  },
  {
   "cell_type": "code",
   "execution_count": 7,
   "metadata": {
    "slideshow": {
     "slide_type": "fragment"
    }
   },
   "outputs": [
    {
     "data": {
      "text/plain": [
       "2432902008176640000"
      ]
     },
     "execution_count": 7,
     "metadata": {},
     "output_type": "execute_result"
    }
   ],
   "source": [
    "from math import factorial\n",
    "factorial(20)"
   ]
  },
  {
   "cell_type": "markdown",
   "metadata": {
    "slideshow": {
     "slide_type": "slide"
    }
   },
   "source": [
    "## SHPP: Enumerationsverfahren und Komplexität des Problems\n",
    "\n",
    "- den Algorithmus, der derauf beruht, alle Lösungen durchzugehen und die beste zu wählen, nennt man **vollständige Enumeration**\n",
    "- in der Regel ist dies jedoch nicht der beste Algorithmus für ein Problem...\n"
   ]
  },
  {
   "cell_type": "markdown",
   "metadata": {
    "slideshow": {
     "slide_type": "fragment"
    }
   },
   "source": [
    "\n",
    "#### Beachte daher:\n",
    "- die reine Anzahl aller zulässigen Lösungen macht noch keine Aussage über die Komplexität eines Problems!\n",
    "- es gibt Probleme mit einer exponentiell großen oder sogar unendlichen Zahl an möglichen Lösungen, die einfach lösbar sind!\n"
   ]
  },
  {
   "cell_type": "markdown",
   "metadata": {
    "slideshow": {
     "slide_type": "fragment"
    }
   },
   "source": [
    "#### Dennoch:\n",
    "- für das SHPP und das TSP sind zwar bessere Verfahren als die vollständige Enumeration,\n",
    "  - jedoch keine \"wirklich\" effizienten Verfahren!\n",
    "- die beste bekannte Worst-Case-Laufzeit ist $O(|N|^2 \\cdot 2^{|N|})$"
   ]
  },
  {
   "cell_type": "markdown",
   "metadata": {
    "slideshow": {
     "slide_type": "slide"
    }
   },
   "source": [
    "# 2. Komplexität von Optimierungsproblemen"
   ]
  },
  {
   "cell_type": "markdown",
   "metadata": {
    "slideshow": {
     "slide_type": "slide"
    }
   },
   "source": [
    "## Komplexitätsklassen\n",
    "\n",
    "Bisher haben wir meist \"leichte\" Probleme betrachtet, d.h. Probleme, für die Algorithmen bekannt sind, deren worst-case Laufzeit als Polynom der Eingabegrößen dargestellt werden kann.\n",
    "- derartige Probleme liegen in der **Komplexitätsklasse P** "
   ]
  },
  {
   "cell_type": "markdown",
   "metadata": {
    "slideshow": {
     "slide_type": "fragment"
    }
   },
   "source": [
    "Für \"schwere\" Probleme gilt (etwas vereinfacht gesagt): Es gibt keinen bekannten Algorithmus mit einer Laufzeit die schneller ist als exponentiell\n",
    "- Beispiele: TSP, SHPP, ...\n",
    "\n",
    "Derartige Probleme gehören zur Komplexitätsklasse der **NP-schweren** Probleme"
   ]
  },
  {
   "cell_type": "markdown",
   "metadata": {
    "slideshow": {
     "slide_type": "fragment"
    }
   },
   "source": [
    "##### Beachte:\n",
    "Im Buch wird davon gesprochen, dass das TSP und das Minimum Set Covering Problem \"NP-vollständigen\" Probleme sind: Das ist nicht (ganz) korrekt: Es sind **NP-schwere** (NP hard) Probleme\n",
    "\n",
    "..siehe auch: https://eklitzke.org/the-traveling-salesman-problem-is-not-np-complete"
   ]
  },
  {
   "cell_type": "markdown",
   "metadata": {
    "slideshow": {
     "slide_type": "slide"
    }
   },
   "source": [
    "## Ein weiteres Paar nur scheinbar ähnlicher Probleme:\n",
    "\n",
    "### Lineare Programmierung (mit kontinuierlichen Variablen)\n",
    "- die wir aus Grundlagen des OR kennen\n",
    "- ...ist in polynomieller Zeit lösbar in Komplexitätsklasse P\n",
    "- \"fun fact\": der Simplex-Algorithmus hat eine exponentielle Worst-Case-Laufzeit\n",
    "- so genannte Interior-Point-Verfahren haben eine polynomielle Laufzeit\n",
    "\n",
    "### Ganzzahlige Lineare Programmierung\n",
    "- kennen wir ebenfalls aus GOR?\n",
    "- ist NP-schwer!\n"
   ]
  },
  {
   "cell_type": "markdown",
   "metadata": {
    "slideshow": {
     "slide_type": "slide"
    }
   },
   "source": [
    "## NP-schwere Probleme in der Praxis\n",
    "\n",
    "- obwohl NP-schwere Probleme (theoretisch) eine exponentielle Laufzeit aufweisen, \n",
    "- können manche (aber bei weitem nicht alle!) Praxisprobleme, die NP-schwer sind, trotzdem in praktisch annehmbarer Zeit gelöst werden\n",
    "  - beachte: die praktisch annehmbare Zeit hängt vom Problem ab - manchmal braucht man eine Lösung in Sekunden,  manchmal hat man eine ganze Nacht oder sogar mehrere Tage lang Zeit\n",
    "- \"theoretically intractable, but practically tractable\"\n",
    "\n",
    "\n",
    "#### Beispiele:\n",
    "- TSPs mit 1000 Städten können auf dem iPhone gelöst werden: https://apps.apple.com/us/app/concorde-tsp/id498366515\n",
    "- noch wichtiger: (gemischt-)ganzzahlige Optimierung\n",
    "  - einerseits gibt es viele Praxisprobleme, deren Modellinstanzen relativ klein sind (< 100 000 Variablen)\n",
    "  - andererseits können (viele, aber bei weitem nicht alle) riesige ganzzahlige Optimierungsprobleme mit mehreren hunderttausenden Variablen heute effizient auf Notebooks gelöst werden\n",
    "- außerdem gibt es natürlich auch noch viel bessere Heuristiken als reine Greedy-Verfahren!"
   ]
  },
  {
   "cell_type": "markdown",
   "metadata": {
    "slideshow": {
     "slide_type": "slide"
    }
   },
   "source": [
    "## Anmerkung: P vs NP\n",
    "\n",
    "Das vielleicht wichtigste offene Problem der theoretischen Informatik ist das **P vs NP-Problem**:\n",
    "\n",
    "Obwohl die meisten Forscher annehmen, dass P $\\neq$ NP, so ist dies bisher nicht bewiesen worden!\n",
    "\n",
    "\n",
    "Bsp: Wenn P=NP gelten würde, so müsste ein polynomieller Algorithmus für das TSP existieren!\n",
    "\n",
    "\n",
    "### Komplexitätstheorie:\n",
    "- hiermit endet für uns schon unser kleiner Ausflug in die Komplexitätstheorie\n",
    "- eine weitere Vertiefung würde für uns zu weit führen!"
   ]
  },
  {
   "cell_type": "markdown",
   "metadata": {
    "slideshow": {
     "slide_type": "slide"
    }
   },
   "source": [
    "# 3. Greedy-Verfahren "
   ]
  },
  {
   "cell_type": "markdown",
   "metadata": {
    "slideshow": {
     "slide_type": "slide"
    }
   },
   "source": [
    "## Was tun, wenn kein effizienter Algorithmus bekannt ist?\n",
    "\n",
    "- für das SHPP und das TSP sind keine effizienten Algorithmen bekannt\n",
    "- was kann man tun, wenn man dennoch ein großes TSP, z.B. mit 10000 Städten lösen möchte?"
   ]
  },
  {
   "cell_type": "markdown",
   "metadata": {
    "slideshow": {
     "slide_type": "fragment"
    }
   },
   "source": [
    "#### Idee: Man gibt die Optimalitätsforderung auf!\n",
    "\n",
    "Wenn man es nicht schafft, in kurzer Zeit eine exakte / optimale Lösung zu finden,\n",
    "- kann man versuchen, in kurzer Zeit eine **gute** Lösung zu finden!\n",
    "- Verfahren, die das für Optimierungsprobleme versuchen, nennt man **Heuristiken**\n",
    "- ein besonders einfacher und allgemeiner Ansatz nennt sich **Greedy-Verfahren** (greedy = gierig)\n",
    " - diesen Ansatz werden wir nun näher betrachten"
   ]
  },
  {
   "cell_type": "markdown",
   "metadata": {
    "slideshow": {
     "slide_type": "slide"
    }
   },
   "source": [
    "## Ein Greedy-Ansatz für das Shortest Hamiltonian Path-Problem: Nearest-Neighbor"
   ]
  },
  {
   "cell_type": "markdown",
   "metadata": {
    "slideshow": {
     "slide_type": "-"
    }
   },
   "source": [
    "<img src=\"./img/32.png\" width=\"20%\" align=\"right\">\n",
    "\n",
    "\n",
    "Eine einfache und sehr bekannte Heuristik für das SHPP (und das TSP) nennt sich **nearest neighbor**:\n",
    "- man startet bei einem Knoten und\n",
    "- wählt in jedem Schritt immer den Knoten aus, der dem aktuellen am nächsten ist:\n",
    "\n",
    "Beispiel rechts: wir starten in Marin und suchen immer den nächsten Nachbarn"
   ]
  },
  {
   "attachments": {
    "image.png": {
     "image/png": "[encoded data removed]"
    }
   },
   "cell_type": "markdown",
   "metadata": {
    "slideshow": {
     "slide_type": "fragment"
    }
   },
   "source": [
    "><div class=\"alert alert-block alert-info\">\n",
    "<b> Welche Laufzeitkomplexität weist dieser Algorithmus auf? </b></div>\n",
    "\n",
    "![image.png](attachment:image.png)"
   ]
  },
  {
   "cell_type": "markdown",
   "metadata": {
    "slideshow": {
     "slide_type": "slide"
    }
   },
   "source": [
    "### Mehr zum TSP\n",
    "\n",
    "<img src=\"https://pup-assets.imgix.net/onix/images/9780691163529.jpg\" width=\"20%\" align=\"right\">\n",
    "\n",
    "- das TSP ist eines der bekanntesten Probleme der Informatik\n",
    "- viele Ideen in der  kombinatorische Optimierung, wurden zuerst für das TSP entwickelt\n",
    "- **Buchtipp:**  [In Pursuit of the Traveling Salesman](https://press.princeton.edu/books/paperback/9780691163529/in-pursuit-of-the-traveling-salesman)\n",
    " - die Geschichte des TSP aus Sicht eines der Protagonisten (William Cook)\n",
    "- Webseite zum TSP: https://www.math.uwaterloo.ca/tsp/index.html\n",
    "- TSP-Algorithmen selbst ausprobieren: https://www.math.uwaterloo.ca/tsp/app/diy.html\n"
   ]
  },
  {
   "cell_type": "markdown",
   "metadata": {
    "slideshow": {
     "slide_type": "slide"
    }
   },
   "source": [
    "## Vereinfachte Definition: Greedy-Algorithmus\n",
    "\n",
    "#### Kernidee von Greedy-Algorithmen\n",
    "- der Algorithmus geht Schritt für Schritt vor\n",
    "- die Auswahl des nächsten Schritts / der nächsten Aktion erfolgt \"gierig\", d.h.\n",
    "  - es wird ein (lokales) Kriterium definiert (z.B. Entfernung zu den Nachbarn) und\n",
    "  - eine \"lokal optimale\"  Aktion (ein lokal optimaler nächster Schritt) gewählt (z.B. der Nachbar mit der niedrigsten Entfernung)\n",
    "\n",
    "#### Beachte: \n",
    "Die \"lokal optimale\" Auswahl ist in der Regel nicht \"global optimal\""
   ]
  },
  {
   "cell_type": "markdown",
   "metadata": {
    "slideshow": {
     "slide_type": "fragment"
    }
   },
   "source": [
    "><div class=\"alert alert-block alert-info\">\n",
    "<b> Wieso trifft diese Aussage beim SHPP und mehr noch beim TSP zu? </b></div>"
   ]
  },
  {
   "cell_type": "markdown",
   "metadata": {
    "slideshow": {
     "slide_type": "fragment"
    }
   },
   "source": [
    "><div class=\"alert alert-block alert-info\">\n",
    "<b> Ist Dijkstra ein Greedy-Algorithmus? </b></div>"
   ]
  },
  {
   "cell_type": "markdown",
   "metadata": {
    "slideshow": {
     "slide_type": "slide"
    }
   },
   "source": [
    "# 4. Weiteres Beispiel: Das Rucksack-Problem"
   ]
  },
  {
   "cell_type": "markdown",
   "metadata": {
    "slideshow": {
     "slide_type": "slide"
    }
   },
   "source": [
    "## Das Rucksack-Problem (Knapsack Problem)\n",
    "\n",
    "Ein weiteres bekanntes Problem, das einfach zu verstehen, aber (für große Instanzen) schwer zu lösen ist, ist das\n",
    "\n",
    "#### Rucksack-Problem (Knapsack Problem)\n",
    "\n",
    "- Gegeben ist ein Rucksack, der ein **Maximalgewicht** fassen kann,\n",
    "- sowie Gegenstände, die eingepackt werden können. Diese haben jeweils\n",
    "  - ein Gewicht und\n",
    "  - einen Wert\n",
    "- das Ziel ist es, eine Menge von Gegenständen einzupacken, \n",
    "  - die das Maximalgewicht nicht überschreitet und\n",
    "  - einen möglichst großen Wert hat\n",
    "  "
   ]
  },
  {
   "cell_type": "markdown",
   "metadata": {
    "slideshow": {
     "slide_type": "fragment"
    }
   },
   "source": [
    "Wie das TSP ist dieses Optimierungsproblem NP-schwer!"
   ]
  },
  {
   "cell_type": "markdown",
   "metadata": {
    "slideshow": {
     "slide_type": "fragment"
    }
   },
   "source": [
    "><div class=\"alert alert-block alert-info\">\n",
    "<b> Wie könnte ein Greedy-Algorithmus für dieses Problem funktionieren? </b></div>"
   ]
  },
  {
   "cell_type": "markdown",
   "metadata": {
    "slideshow": {
     "slide_type": "slide"
    }
   },
   "source": [
    "## Das Rucksack-Problem: Beispiel\n",
    "\n",
    "<img src=\"./img/07.png\" width=\"20%\" align=\"right\">\n",
    "\n",
    "Nehmen wir an, du bist ein habgieriger Dieb. Du kannst in deiner Tasche maximal 35 Pfund transportieren und dich interessieren folgende drei Gegenstände:\n",
    "\n",
    "\n",
    "\n",
    "<img src=\"./img/08.png\" width=\"40%\" align=\"left \">"
   ]
  },
  {
   "cell_type": "markdown",
   "metadata": {
    "slideshow": {
     "slide_type": "fragment"
    }
   },
   "source": [
    "Was passiert, wenn wir als Greedy-Regel immer den wertvollsten noch passenden Gegenstand in den Rucksack packen?"
   ]
  },
  {
   "cell_type": "markdown",
   "metadata": {
    "slideshow": {
     "slide_type": "slide"
    }
   },
   "source": [
    "### Rucksack-Beispiel: Greedy-Lösung vs Optimale Lösung\n",
    "\n",
    "Die Lösung mit dem genannten Greedy-Ansatz sieht wie folgt aus:\n",
    "\n",
    "<img src=\"./img/09.png\" width=\"40%\" align=\"middle\">"
   ]
  },
  {
   "cell_type": "markdown",
   "metadata": {
    "slideshow": {
     "slide_type": "fragment"
    }
   },
   "source": [
    "Es ist leicht zu sehen, dass die optimale Lösung anders aussieht:\n",
    "<img src=\"./img/10.png\" width=\"20%\" align=\"middle\">"
   ]
  },
  {
   "cell_type": "markdown",
   "metadata": {
    "slideshow": {
     "slide_type": "fragment"
    }
   },
   "source": [
    "><div class=\"alert alert-block alert-info\">\n",
    "<b> Wie könnte ein alternativer Greedy-Algorithmus aussehen? </b></div>"
   ]
  },
  {
   "cell_type": "markdown",
   "metadata": {
    "slideshow": {
     "slide_type": "slide"
    }
   },
   "source": [
    "# 4. Weiteres Beispiel: Ein Stundenplanungsproblem"
   ]
  },
  {
   "cell_type": "markdown",
   "metadata": {
    "slideshow": {
     "slide_type": "slide"
    }
   },
   "source": [
    "## Ein Stundenplanungsproblem\n",
    "\n",
    "<img src=\"./img/01.png\" width=\"20%\" align=\"right\">\n",
    "\n",
    "- nehmen wir an, du bist Lehrer und du würdest gern möglichst viele Stunden unterrichten \n",
    "- möglich wären folgende Stunden:"
   ]
  },
  {
   "cell_type": "markdown",
   "metadata": {
    "slideshow": {
     "slide_type": "fragment"
    }
   },
   "source": [
    "..du kannst allerdings nicht alle unterrichten, denn die Stunden überlappen sich:\n",
    "\n",
    "<img src=\"./img/02.png\" width=\"40%\" align=\"middle\">"
   ]
  },
  {
   "cell_type": "markdown",
   "metadata": {
    "slideshow": {
     "slide_type": "fragment"
    }
   },
   "source": [
    "><div class=\"alert alert-block alert-info\">\n",
    "<b> Wie könnte ein Greedy-Algorithmus für dieses Problem funktionieren? </b></div>"
   ]
  },
  {
   "cell_type": "markdown",
   "metadata": {
    "slideshow": {
     "slide_type": "slide"
    }
   },
   "source": [
    "## Ein Greedy-Algorithmus\n",
    "\n",
    "<img src=\"./img/03.png\" width=\"30%\" align=\"right\">\n",
    "\n",
    "#### Möglicher Greedy-Ansatz\n",
    "- beginnend der frühesten Stunde: \n",
    "- füge jeweils die früheste noch passende  Stunde hinzu\n",
    "- Schritt 1: wir fangen mit Kunst an"
   ]
  },
  {
   "cell_type": "markdown",
   "metadata": {
    "slideshow": {
     "slide_type": "slide"
    }
   },
   "source": [
    "### Schritt 2:\n",
    "\n",
    "<img src=\"./img/04.png\" width=\"20%\" align=\"right\">\n",
    "\n",
    "- Englisch passt nicht wegen Überlappung..\n",
    "- Mathe schon!"
   ]
  },
  {
   "cell_type": "markdown",
   "metadata": {
    "slideshow": {
     "slide_type": "fragment"
    }
   },
   "source": [
    "### Schritt 3:\n",
    "\n",
    "<img src=\"./img/05.png\" width=\"20%\" align=\"right\">\n",
    "\n",
    "- Informatik passt nicht wegen Überlappung..\n",
    "- Musik schon!"
   ]
  },
  {
   "cell_type": "markdown",
   "metadata": {
    "slideshow": {
     "slide_type": "slide"
    }
   },
   "source": [
    "## Stundenplan-Beispiel\n",
    "\n",
    "..fertig ist der Stundenplan:\n",
    "\n",
    "<img src=\"./img/06.png\" width=\"40%\" align=\"middle\">\n",
    "\n",
    "\n",
    "... tatsächlich ist dies die optimale Lösung!\n"
   ]
  },
  {
   "cell_type": "markdown",
   "metadata": {
    "slideshow": {
     "slide_type": "fragment"
    }
   },
   "source": [
    "><div class=\"alert alert-block alert-info\">\n",
    "<b> Ist das ein Zufall? Woran liegt es, dass die Lösung optimal ist? Würde das immer der Fall sein, und welche Bedingungen müssen dafür gelten? </b></div>\n"
   ]
  },
  {
   "cell_type": "markdown",
   "metadata": {
    "slideshow": {
     "slide_type": "fragment"
    }
   },
   "source": [
    "#### Beachte:\n",
    "\n",
    "Echte Stundenplanungsprobleme mit \n",
    "- mehreren Lehrern\n",
    "- mehreren Klassen\n",
    "- und Raumzuordnungen\n",
    "\n",
    "...sind NP-schwere Probleme, für das Greedy-Verfahren in der Regel schlechte Lösungen bringen!"
   ]
  },
  {
   "cell_type": "markdown",
   "metadata": {
    "slideshow": {
     "slide_type": "slide"
    }
   },
   "source": [
    "# Beispiel: Das Set Covering-Problem "
   ]
  },
  {
   "cell_type": "markdown",
   "metadata": {
    "slideshow": {
     "slide_type": "slide"
    }
   },
   "source": [
    "# Beispiel: Das Set Covering-Problem (Mengenüberdeckungsproblem)\n",
    "\n",
    "Im **Set-Covering-Problem** (deutsch: **Mengenüberdeckungsproblem**) geht es darum,\n",
    "- alle Elemente einer Gesamtmenge zu überdecken mit \"Konstrukten\", die jeweils eine Teilmenge abdecken\n",
    "- wenn es um Set Covering als Optimierungsproblem geht, sucht man eine optimale (z.B. kostenminimale) Abdeckung\n",
    "\n",
    "\n",
    "#### Beispiele:\n",
    "- Crew Scheduling: \"Abdeckung\" aller Flüge in einem Flugplan mit Dienstplänen für geeignetes Personal\n",
    "- Umlaufplanung für Busse: Abdeckung aller Fahrten in einem Busfahrplan mit Umläufen für jedes Fahrzeug\n",
    "- Abdeckung einer Region mit Mobilfunknetzen durch Positionierung von Funkmasten\n",
    "- ...\n",
    "\n",
    "#### Beachte:\n",
    "Ein verwandtes Problem ist das so genannte **Set Partitioning**-Problem:\n",
    "- während beim Set Covering-Problem Mehrfachabdeckung erlaubt ist, ist das beim Set Partitioning nicht der Fall"
   ]
  },
  {
   "cell_type": "markdown",
   "metadata": {
    "slideshow": {
     "slide_type": "slide"
    }
   },
   "source": [
    "## Set Covering-Anwendung: Auswahl von Radiosendern für deine Sendung\n",
    "\n",
    "<img src=\"./img/11.png\" width=\"20%\" align=\"right\">\n",
    "\n",
    "- du produzierst eine Radiosendung und möchtest diese in allen US-Bundesstaaten ausstrahlen\n",
    "- die Ausstrahlung erfolgt über Radiosender\n",
    "  - jeder Sender wird in bestimmten Sendegebieten (u.U. mehrere Staaten) ausgestrahlt\n",
    "  - die Sendegebiete können sich dabei überlappen\n",
    "- $\\rightarrow$ Du möchtest die **kleinste Menge an Sendern** ermitteln, die **alle 50 Staaten abdecken**!\n",
    "\n",
    "\n",
    "\n",
    "<img src=\"./img/12.png\" width=\"20%\" align=\"left\"> \n",
    "\n",
    "<img src=\"./img/13.png\" width=\"20%\" align=\"right\">\n",
    "\n",
    "\n"
   ]
  },
  {
   "cell_type": "markdown",
   "metadata": {
    "slideshow": {
     "slide_type": "slide"
    }
   },
   "source": [
    "## Set Covering-Beispiel Radio: Welche Lösungen gibt es?\n",
    "\n",
    "- wir könnten versuchen, alle möglichen Lösungen zu ermitteln / **zu enumerieren**:\n",
    "\n",
    "<img src=\"./img/14.png\" width=\"35%\" align=\"middle\">"
   ]
  },
  {
   "cell_type": "markdown",
   "metadata": {
    "slideshow": {
     "slide_type": "fragment"
    }
   },
   "source": [
    "<img src=\"./img/15.png\" width=\"19%\" align=\"right\">\n",
    "\n",
    "- das würde bedeuten, **alle möglichen Kombinationen von Sendern** zu bilden\n",
    "  - also die Potenzmenge (power set) der Menge der Sender\n",
    "- ...und dann eine zu wählen, die \n",
    "  - alle Staaten abdeckt und\n",
    "  - eine minimale Anzahl von Sendern beinhaltet\n",
    "- es gibt $2^n$ Kombinationen - siehe rechts\n",
    "\n",
    " ..eine vollständige Enumeration hätte also eine Laufzeit von $O(2^n)$ - dies ist kein praktikabler Ansatz!"
   ]
  },
  {
   "cell_type": "markdown",
   "metadata": {
    "slideshow": {
     "slide_type": "slide"
    }
   },
   "source": [
    "## Set Covering  - ein Greedy-Ansatz?\n",
    "\n",
    "><div class=\"alert alert-block alert-info\">\n",
    "<b> Wie könnte ein Greedy-Ansatz für das Set Covering-Problem aussehen? </b></div>"
   ]
  },
  {
   "cell_type": "markdown",
   "metadata": {
    "slideshow": {
     "slide_type": "slide"
    }
   },
   "source": [
    "><div class=\"alert alert-block alert-info\">\n",
    "<b> Welche Datenstrukturen spielen hier eine besondere Rolle? </b></div>"
   ]
  },
  {
   "cell_type": "markdown",
   "metadata": {
    "slideshow": {
     "slide_type": "slide"
    }
   },
   "source": [
    "## Ein Greedy-Ansatz für das Set Covering-Problem: Skizze\n",
    "\n",
    "#### Skizze des Algorithmus\n",
    "\n",
    "Solange noch nicht alle Elemente (Staaten) abgedeckt sind:\n",
    "- ermittle das Konstrukt (den Radiosender), das die meisten noch  unabgedeckten Elemente (Staaten) aufweist\n",
    "- füge dieses Konstrukt (diesen Radiosender) zur Lösung (zur Liste der Radiosender) hinzu"
   ]
  },
  {
   "cell_type": "markdown",
   "metadata": {
    "slideshow": {
     "slide_type": "fragment"
    }
   },
   "source": [
    "><div class=\"alert alert-block alert-info\">\n",
    "<b> Wie ist die Laufzeitkomplexität dieses Ansatzes? </b></div>"
   ]
  },
  {
   "cell_type": "markdown",
   "metadata": {
    "slideshow": {
     "slide_type": "slide"
    }
   },
   "source": [
    "<img src=\"./img/22.png\" width=\"40%\" align=\"middle\">\n",
    "\n",
    "\n",
    "><div class=\"alert alert-block alert-info\">\n",
    "<b> Wie können wir auf einfache Art und Weise die unabgedeckten Elemente ermitteln? </b></div>"
   ]
  },
  {
   "cell_type": "markdown",
   "metadata": {
    "slideshow": {
     "slide_type": "slide"
    }
   },
   "source": [
    "## Die Datenstruktur `set`\n",
    "\n",
    "<img src=\"./img/18.png\" width=\"20%\" align=\"right\">\n",
    "<img src=\"./img/19.png\" width=\"20%\" align=\"right\">\n",
    "\n",
    "..haben wir bereits mehrfach genutzt!\n",
    "- sie bildet das mathematische Konstrukt einer Menge ab\n",
    "- insbesondere kann jedes Element nur einmal vorkommen\n",
    "- Erstellung aus einer Liste von Elementen:\n",
    "\n"
   ]
  },
  {
   "cell_type": "code",
   "execution_count": 2,
   "metadata": {
    "slideshow": {
     "slide_type": "-"
    }
   },
   "outputs": [],
   "source": [
    "obstsorten = set([\"Apfel\", \"Banane\", \"Tomate\"])\n",
    "gemuesesorten = set([\"Karotte\",\"Rübe\",\"Tomate\"])"
   ]
  },
  {
   "cell_type": "markdown",
   "metadata": {
    "slideshow": {
     "slide_type": "fragment"
    }
   },
   "source": [
    "- die Abfrage, ob ein Element vorhanden ist, erfolgt in $O(1)$\n",
    "- die Anzahl (Kardinalität) an Elementen einer Menge ebenfalls"
   ]
  },
  {
   "cell_type": "code",
   "execution_count": 3,
   "metadata": {
    "slideshow": {
     "slide_type": "-"
    }
   },
   "outputs": [
    {
     "name": "stdout",
     "output_type": "stream",
     "text": [
      "True\n"
     ]
    },
    {
     "data": {
      "text/plain": [
       "3"
      ]
     },
     "execution_count": 3,
     "metadata": {},
     "output_type": "execute_result"
    }
   ],
   "source": [
    "print(\"Apfel\" in obstsorten)\n",
    "len(obstsorten)"
   ]
  },
  {
   "cell_type": "markdown",
   "metadata": {
    "slideshow": {
     "slide_type": "slide"
    }
   },
   "source": [
    "\n",
    "## Die Datenstruktur `set`\n",
    "\n",
    "<img src=\"./img/20.png\" width=\"40%\" align=\"right\">\n",
    "\n",
    "- es werden die klassischen Mengenoperationen unterstützt\n",
    "  - Schnittmenge\n",
    "  - Vereingungsmenge\n",
    "  - Differenz"
   ]
  },
  {
   "cell_type": "code",
   "execution_count": 4,
   "metadata": {
    "slideshow": {
     "slide_type": "-"
    }
   },
   "outputs": [
    {
     "name": "stdout",
     "output_type": "stream",
     "text": [
      "{'Tomate', 'Apfel', 'Rübe', 'Karotte', 'Banane'}\n",
      "{'Tomate'}\n",
      "{'Apfel', 'Banane'}\n"
     ]
    }
   ],
   "source": [
    "print ( obstsorten | gemuesesorten )\n",
    "print ( obstsorten & gemuesesorten )\n",
    "print ( obstsorten - gemuesesorten )\n",
    "\n"
   ]
  },
  {
   "cell_type": "markdown",
   "metadata": {
    "slideshow": {
     "slide_type": "slide"
    }
   },
   "source": [
    "## Eine etwas genauere Beschreibung des Greedy-Algorithmus\n",
    "\n",
    "- die verwendeten Variablennamen  beziehen sich auf das Beispiel, der Algorithums selbst ist jedoch allgemein\n",
    "\n",
    "#### Gegeben: \n",
    "- eine Hash-Tabelle (`dict`) `stations` mit:\n",
    "  - **Schlüssel:** Name der Radio-Station\n",
    "  - **Wert:** Menge (`set`) der Staaten, die die Station abdeckt\n",
    "- eine Liste `states` aller zu überdeckenden Staaten \n",
    "\n",
    "\n",
    "#### Initialisiere:\n",
    "- die Menge (`set`)  `states_needed` der noch nicht überdeckten Staaten \n",
    "- die Liste `stations_selected` der ausgewählten Stationen\n",
    "\n",
    "\n",
    "**Solange** noch nicht alle Staaten überdeckt wurden:\n",
    "- Für jeden Sender `stations`, der nicht in `stations_selected` ist\n",
    "  - berechne die neu gecoverten Staaten als Schnittmenge aus `states_needed` und den vom Sender überdeckten Staaten\n",
    "  - wenn die  Anzahl der neu gecoverten Staaten größer ist als die des bisher besten Senders:\n",
    "    - aktualisiere den bisher besten Sender\n",
    "- füge den besten Sender zu `stations_selected`hinzu\n",
    "    "
   ]
  },
  {
   "cell_type": "markdown",
   "metadata": {
    "slideshow": {
     "slide_type": "slide"
    }
   },
   "source": [
    "## Implementierung in Python: Gegebene Daten\n",
    "\n"
   ]
  },
  {
   "cell_type": "code",
   "execution_count": 5,
   "metadata": {
    "slideshow": {
     "slide_type": "-"
    }
   },
   "outputs": [],
   "source": [
    "states = [\"mt\", \"wa\", \"or\", \"id\", \"nv\", \"ut\", \"ca\", \"az\"]\n",
    "\n",
    "stations = {}\n",
    "stations[\"reins\"] = set([\"id\", \"nv\", \"ut\"])\n",
    "stations[\"rzwei\"] = set([\"wa\", \"id\", \"mt\"])\n",
    "stations[\"rdrei\"] = set([\"or\", \"nv\", \"ca\"])\n",
    "stations[\"rvier\"] = set([\"nv\", \"ut\"])\n",
    "stations[\"rfünf\"] = set([\"ca\", \"az\"])"
   ]
  },
  {
   "cell_type": "markdown",
   "metadata": {
    "slideshow": {
     "slide_type": "fragment"
    }
   },
   "source": [
    "\n",
    "<img src=\"./img/17.png\" width=\"25%\" align=\"right\">\n",
    "...schauen wir uns doch mal diese Mengen an:\n",
    "<div class=\"alert alert-block alert-info\">\n",
    "<b> Was können wir jetzt schon über die Lösung sagen? </b></div>"
   ]
  },
  {
   "cell_type": "markdown",
   "metadata": {
    "slideshow": {
     "slide_type": "slide"
    }
   },
   "source": [
    "## Implementierung in Python"
   ]
  },
  {
   "cell_type": "code",
   "execution_count": 10,
   "metadata": {
    "slideshow": {
     "slide_type": "-"
    }
   },
   "outputs": [],
   "source": [
    "def greedy_set_cover(states, stations):\n",
    "    # initialisierung\n",
    "    states_needed = set(states) # die Staaten, die noch abzudecken sind   \n",
    "    selected_stations = [] # die bisher gewählten Stationen\n",
    "\n",
    "    while len(states_needed) > 0: # solange es Stationen gibt, die noch nicht gewählt wurden\n",
    "        # initialisiere die Variablen für jeden \"äußeren\" Schritt \n",
    "        best_station = None # die beste Station (diejenige, die die meisten noch nicht abgedeckten Staaten überdeckt)\n",
    "        best_number_covered = 0 # die entsprechende beste Zahl an Staaten\n",
    "        best_covered_needed_states = None # die beste Menge der hinzukommenden Staaten (bisher noch nicht abgedeckt)\n",
    "        \n",
    "        for station, covered in stations.items(): # iteration über das dict (.items() bedeutet: gib sowohl key als auch value zurück)\n",
    "            \n",
    "            covered_needed_states = covered & states_needed # Schnittmenge aus noch nicht überdeckten und von dieser Station überdeckten Stationen\n",
    "            number_covered = len(covered_needed_states) # Anzahl der von dieser Station \"neu\" überdeckten Staaten\n",
    "            \n",
    "            if number_covered > best_number_covered: # wenn diese Anzahl > ist als die bisher größte, aktualisiere \n",
    "                best_number_covered = number_covered # neue beste Anzahl\n",
    "                best_station = station # neue beste Station\n",
    "                best_covered_needed_states = covered_needed_states # neue Menge an hinzukommenden Staaten\n",
    "        # Ende der inneren Schleife\n",
    "                \n",
    "        selected_stations.append(best_station) # füge die Station zur Liste der ausgewählten hinzu        \n",
    "        states_needed -= best_covered_needed_states # Aktualisiere die Menge noch nicht überdeckten Staaten (rausnehmen der hinzugekommenen)\n",
    "    # Ende der äußeren Schleife   \n",
    "    \n",
    "    return selected_stations # Rückgabe der Lösung       "
   ]
  },
  {
   "cell_type": "markdown",
   "metadata": {
    "slideshow": {
     "slide_type": "fragment"
    }
   },
   "source": [
    "- Ausprobieren am Beispiel:"
   ]
  },
  {
   "cell_type": "code",
   "execution_count": 7,
   "metadata": {
    "slideshow": {
     "slide_type": "-"
    }
   },
   "outputs": [
    {
     "data": {
      "text/plain": [
       "['reins', 'rzwei', 'rdrei', 'rfünf']"
      ]
     },
     "execution_count": 7,
     "metadata": {},
     "output_type": "execute_result"
    }
   ],
   "source": [
    "greedy_set_cover(states, stations)"
   ]
  },
  {
   "cell_type": "markdown",
   "metadata": {
    "slideshow": {
     "slide_type": "slide"
    }
   },
   "source": [
    "## Zusammenfassung\n",
    "\n",
    "- während für manche Probleme effiziente Algorithmen bekannt sind (z.B. Sortierprobleme, Kürzeste Wege, Lineare Programmierung), sind für andere Probleme (z.B. TSP, gemischt-ganzzahlige Optimierung) nur Algorithmen bekannt, die eine **exponentielle** Laufzeit aufweisen\n",
    "- generell spricht man bei solchen Problemen von **kombinatorischen Optimierungsproblemen**, die zur Komplexitätsklasse der **NP-schweren** Probleme gehören"
   ]
  },
  {
   "cell_type": "markdown",
   "metadata": {
    "slideshow": {
     "slide_type": "fragment"
    }
   },
   "source": [
    "- es gibt zwar für manche NP-schwere Probleme Algorithmen, die bestimmte praktische Probleme in annehmbarer Zeit lösen können, \n",
    "- dennoch ist es oftmals nötig, auf **Heuristiken** zurückzugreifen, die schnell (hoffentlich) gute Lösungen liefern\n",
    "- eine einfache Klasse derartiger Verfahren sind so genannte **Greedy-Algorithmen**, die in jedem Schritt \"lokal optimale\" Entscheidungen treffen\n",
    "- wir haben einige Beispiele betrachtet:\n",
    "  - Wegeprobleme, bei denen jeder Knoten besucht werden muss (TSP und SHPP)\n",
    "  - das Rucksackproblem\n",
    "  - das (minimum) Set Covering Problem"
   ]
  },
  {
   "cell_type": "markdown",
   "metadata": {
    "slideshow": {
     "slide_type": "fragment"
    }
   },
   "source": [
    "### Beim nächsten Mal:  Dynamische Programmierung\n",
    "- eine wichtiges Konstruktionsprinzip für effiziente Algorithmen\n",
    "- die Basis für viele moderne Ansätze wie z.B. Reinforcement Learning\n"
   ]
  },
  {
   "cell_type": "markdown",
   "metadata": {
    "slideshow": {
     "slide_type": "slide"
    }
   },
   "source": [
    "# Anmerkungen zu Kapitel 8 des Buches"
   ]
  },
  {
   "cell_type": "markdown",
   "metadata": {
    "slideshow": {
     "slide_type": "slide"
    }
   },
   "source": [
    "## Approximationsalgorithmus vs Heuristik\n",
    "- Im Buch wird der Begriff \"Approximationsalgorithmus\" verwendet, um Verfahren zu beschreiben, die (hoffentlich) ein gute, aber nicht immmer eine optimale Lösung finden. Korrekt ist hierfür allerdings die Bezeichnung \"Heurisitik\" \n",
    "- Unter einem \"Approximationsalgorithmus\" verstehen wir einen Algorithmus, der uns eine **Qualitätsgarantie** gibt, z.B. : \"Die Lösung ist höchstens 5% schlechter als das Optimum\"\n",
    "- vereinfacht könnte man sagen: Ein Approximationsalgorithmus ist eine Heuristik mit gegebener Approximationsgüte\n",
    "..siehe z.B. https://en.wikipedia.org/wiki/Approximation_algorithm"
   ]
  },
  {
   "cell_type": "markdown",
   "metadata": {
    "slideshow": {
     "slide_type": "slide"
    }
   },
   "source": [
    "## Das Traveling Salesperson Problem (TSP)\n",
    "- beim \"echten\" TSP besucht der Handlungsreisende alle Knoten und kommt zum Startpunkt zurück, und die \"Rückkehr\" wird bei der Gesamtstrecke mitgezählt\n",
    "  - ein solcher Pfad mit Rückkehr wird als \"Hamiltonkreis\" bezeichnet\n",
    "  - man kann also sagen, dass beim TSP der kürzeste Hamiltonkreis gesucht wird\n",
    "  \n",
    "- das im Buch beschriebene Problem beinhaltet die Rückkehr nicht, d.h. es soll lediglich der kürzeste Pfad gesucht werden, der alle Knoten besucht \n",
    "  - ein solcher Pfad wird \"Hamiltonpfad\" genannt\n",
    "  - das Problem, das im Buch beschrieben wird, kann man also als Suche nach dem kürzesten Hamiltonpfad bezeichnen (Shortest Hamiltonian Path Problem / SHPP)\n",
    "  - es ist allerdings kein TSP - aber genauso schwierig zu lösen:\n",
    "    - beide Probleme können ineinander überführt werden\n",
    " \n"
   ]
  },
  {
   "cell_type": "markdown",
   "metadata": {
    "slideshow": {
     "slide_type": "slide"
    }
   },
   "source": [
    "## NP-vollständig vs NP-schwer\n",
    "Im Buch werden verschiedene Optimierungsprobleme (set covering, TSP) als **NP-vollständig** bezeichnet. \n",
    "- das ist jedoch nicht korrekt, denn das würde voraussetzen, dass man in polynomieller Zeit überprüfen kann, ob eine Lösung tatsächlich optimal ist. Das ist jedoch nicht der Fall\n",
    "\n",
    "- der richtige Begriff lautet: **NP-schwer** / **np hard**\n",
    "\n"
   ]
  }
 ],
 "metadata": {
  "celltoolbar": "Slideshow",
  "kernelspec": {
   "display_name": "Python 3 (ipykernel)",
   "language": "python",
   "name": "python3"
  },
  "language_info": {
   "codemirror_mode": {
    "name": "ipython",
    "version": 3
   },
   "file_extension": ".py",
   "mimetype": "text/x-python",
   "name": "python",
   "nbconvert_exporter": "python",
   "pygments_lexer": "ipython3",
   "version": "3.9.19"
  },
  "rise": {
   "enable_chalkboard": true
  },
  "toc": {
   "base_numbering": 1,
   "nav_menu": {},
   "number_sections": false,
   "sideBar": true,
   "skip_h1_title": false,
   "title_cell": "Table of Contents",
   "title_sidebar": "Contents",
   "toc_cell": false,
   "toc_position": {},
   "toc_section_display": true,
   "toc_window_display": false
  },
  "varInspector": {
   "cols": {
    "lenName": 16,
    "lenType": 16,
    "lenVar": 40
   },
   "kernels_config": {
    "python": {
     "delete_cmd_postfix": "",
     "delete_cmd_prefix": "del ",
     "library": "var_list.py",
     "varRefreshCmd": "print(var_dic_list())"
    },
    "r": {
     "delete_cmd_postfix": ") ",
     "delete_cmd_prefix": "rm(",
     "library": "var_list.r",
     "varRefreshCmd": "cat(var_dic_list()) "
    }
   },
   "types_to_exclude": [
    "module",
    "function",
    "builtin_function_or_method",
    "instance",
    "_Feature"
   ],
   "window_display": false
  }
 },
 "nbformat": 4,
 "nbformat_minor": 2
}
