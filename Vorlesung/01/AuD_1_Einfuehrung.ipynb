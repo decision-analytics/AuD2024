{
 "cells": [
  {
   "cell_type": "markdown",
   "metadata": {
    "slideshow": {
     "slide_type": "slide"
    }
   },
   "source": [
    "<img src=\"./img/logo_wiwi.png\" width=\"23%\" align=\"left\">\n",
    "\n",
    "<img src=\"./img/decision_analytics_logo.png\" width=\"17%\" align=\"right\">\n",
    "\n",
    "<br><br><br><br>\n",
    "\n",
    "## Algorithmen und Datenstrukturen\n",
    "\n",
    "Wintersemester 2024/25\n",
    "\n",
    "\n",
    "# Einführung und erste Algorithmen\n",
    "\n",
    "\n",
    "<br><br><br>\n",
    "J-Prof. Dr. Michael Römer, Jakob Schulte"
   ]
  },
  {
   "cell_type": "markdown",
   "metadata": {
    "cell_style": "center",
    "slideshow": {
     "slide_type": "slide"
    }
   },
   "source": [
    "## 31-M30 Profilmodul Algorithmen und Datenstrukturen \n",
    "\n",
    "- Pflichtmodul im Profil \"Data Science\" für 1-Fach Bachelor Wiwi\n",
    "- Wahlflichtmodul für die übrigen Profile im 1-Fach Bachelor Wiwi\n",
    "- Wahlpflichtmodul / Profilmodul für Bachelor-Studierende mit Nebenfach Wiwi\n"
   ]
  },
  {
   "cell_type": "markdown",
   "metadata": {
    "slideshow": {
     "slide_type": "fragment"
    }
   },
   "source": [
    "bestehend aus:\n",
    "\n",
    "- **Vorlesung (Wintersemester)**, 4 LP, wöchentlich, Prüfungsleistung Klausur\n",
    "  - Dienstag 12:15 Uhr im Raum V10-122 \n",
    "- **Praktische Übung (Wintersemester)**,  2 LP, zunächst wöchentlich, unbenotete Studienleistung\n",
    "  - Donnerstag **14:15 Uhr** im Raum Y-1-202, erster Termin: 19.10.2023 \n",
    "- **A+D-Projekt** (Sommersemester), 4 LP, Prüfungsleistung Hausarbeit zum Projekt\n"
   ]
  },
  {
   "cell_type": "markdown",
   "metadata": {
    "slideshow": {
     "slide_type": "slide"
    }
   },
   "source": [
    "## Was machen wir heute (und beim nächsten Mal)?\n",
    "\n",
    "1. Motivation, Organisatorisches, Ziele des Kurses\n",
    "2. Motivierendes Beispiel für Suchalgorithmen und Diskussion\n",
    "3. Suchprobleme: Algorithmen und Implementierung\n",
    "4. Big-O Notation (Landau-Notation)\n",
    "5. Zusammenfassung"
   ]
  },
  {
   "cell_type": "markdown",
   "metadata": {
    "slideshow": {
     "slide_type": "slide"
    }
   },
   "source": [
    "## Wer sind die Dozenten? "
   ]
  },
  {
   "cell_type": "markdown",
   "metadata": {
    "cell_style": "center",
    "slideshow": {
     "slide_type": "-"
    }
   },
   "source": [
    "<div>\n",
    "<img src=\"./img/Michael.jpg\" width=\"20%\" align = \"right\"/>\n",
    "</div>\n",
    "\n",
    "### J.-Prof. Dr. Michael Römer\n",
    "\n",
    "\n",
    "(michael.roemer@uni-bielefeld.de)\n",
    "#### Persönliches:\n",
    "- Wirtschaftsinformatik Studium an der Universität Paderborn\n",
    "- Promotion an der Martin Luther Universität Halle-Wittenberg zu Airline Crew Planning and Scheduling\n",
    "- 2017-2019 Forschung in Toronto und Montreal\n",
    "- Seit Dezember 2019: Juniorprofessor für Decision Analytics an der Universität Bielefeld\n",
    "\n",
    "#### Dieser Kurs:\n",
    "- Modulverantwortlicher\n",
    "- Dozent der wöchentlichen Vorlesungen"
   ]
  },
  {
   "cell_type": "markdown",
   "metadata": {
    "slideshow": {
     "slide_type": "slide"
    }
   },
   "source": [
    "## Wer sind die Dozenten? "
   ]
  },
  {
   "cell_type": "markdown",
   "metadata": {
    "cell_style": "center",
    "slideshow": {
     "slide_type": "-"
    }
   },
   "source": [
    "<div>\n",
    "<img src=\"./img/Michael.jpg\" width=\"20%\" align = \"right\"/>\n",
    "</div>\n",
    "\n",
    "### J.-Prof. Dr. Michael Römer\n",
    "#### Forschungsschwerpunkte:\n",
    "- Mathematische Optimierung\n",
    "- Graphenbasierte Modellierung von Optimierungsproblemen\n",
    "- Decision Diagrams\n",
    "- Simulation\n",
    "- Machine Learning\n",
    "\n",
    "#### Anwendungsbereiche:\n",
    "- Logistik\n",
    "- Personaleinsatzplanung\n",
    "- Gesundheitswesen"
   ]
  },
  {
   "cell_type": "markdown",
   "metadata": {
    "slideshow": {
     "slide_type": "slide"
    }
   },
   "source": [
    "## Wer sind die Dozenten? "
   ]
  },
  {
   "cell_type": "markdown",
   "metadata": {
    "cell_style": "center",
    "slideshow": {
     "slide_type": "-"
    }
   },
   "source": [
    "<div>\n",
    "<img src=\"./img/Jakob.jpeg\" width=\"20%\" align = \"right\"/>\n",
    "</div>\n",
    "\n",
    "### Jakob Schulte\n",
    "(jakob.schulte@uni-bielefeld.de)\n",
    "#### Persönliches:\n",
    "- Wiwi-Studium an der Universität Bielefeld\n",
    "- Seit Oktober 2020: Doktorand an der Universität Bielefeld zu Containerbeladungsproblemen\n",
    "- Gewinner des Scientific Prize der ROADEF Challenge 2022-2024\n",
    "\n",
    "#### Dieser Kurs:\n",
    "- Dozent der 2-wöchentlichen Übungen\n",
    "- Ansprechpartner für Fragen rund um die Veranstaltung"
   ]
  },
  {
   "cell_type": "markdown",
   "metadata": {
    "slideshow": {
     "slide_type": "slide"
    }
   },
   "source": [
    "## Wer sind Sie?\n",
    "\n",
    "><div class=\"alert alert-block alert-info\">\n",
    "<b>In welchem Semester sind Sie?   </b></div>  \n",
    "><div class=\"alert alert-block alert-info\">\n",
    "<b>Hören Sie parallel den Kurs von Kevin Tierney? <br>   </b></div>  \n",
    "><div class=\"alert alert-block alert-info\">\n",
    "<b>Haben Sie Programmiererfahrung? </b></div>  \n",
    "><div class=\"alert alert-block alert-info\">\n",
    "<b>Haben Sie bereits einen Algorithmen-Kurs besucht? </b></div>   "
   ]
  },
  {
   "cell_type": "markdown",
   "metadata": {
    "slideshow": {
     "slide_type": "slide"
    }
   },
   "source": [
    "## Welche Vorkenntnisse erwarten wir?\n",
    "\n",
    "- Grundlegende mathematische Fähigkeiten\n",
    "- Auffrischungen werden im Rahmen der Übung vorgenommen\n",
    "- Programmierkenntnisse sind hilfreich, aber (zu Beginn der Veranstaltung) nicht Voraussetzung\n",
    "- Empfohlen wird das gleichzeitige Lernen der Programmiersprache Python (passiert z.B. in der Veranstaltung von Prof. Tierney)\n",
    "- Eine kleine Einführung in Programmierung in Python erfolgt am Donnerstag in der Übung\n",
    "- Im Moodle werden noch Links zu Ressourcen zum eigenständigen Lernen von Python eingestellt"
   ]
  },
  {
   "cell_type": "markdown",
   "metadata": {
    "slideshow": {
     "slide_type": "slide"
    }
   },
   "source": [
    "## Was wünschen wir uns von Ihnen?\n",
    "- Besuch von Vorlesung und Übung\n",
    "- Aktive Teilnahme: \n",
    "  - Fragen beantworten\n",
    "  - Mitdenken und -überlegen\n",
    "  - Nachfragen, falls Dinge unklar bleiben\n",
    "- Aktives Nachvollziehen der Inhalte, z.B. durch variieren des vorgegebenen Codes\n",
    "- Bearbeitung der Übungszettel und einmalige Präsentation einer Lösung\n",
    "- Ehrliches und kritisches Feedback zum Kurs\n"
   ]
  },
  {
   "cell_type": "markdown",
   "metadata": {
    "slideshow": {
     "slide_type": "fragment"
    }
   },
   "source": [
    "..und dass Sie entdecken, dass Algorithmen Spaß machen können\n"
   ]
  },
  {
   "cell_type": "markdown",
   "metadata": {
    "slideshow": {
     "slide_type": "slide"
    }
   },
   "source": [
    "## Was wünschen Sie sich von uns / von dem Kurs?"
   ]
  },
  {
   "cell_type": "markdown",
   "metadata": {
    "slideshow": {
     "slide_type": "slide"
    }
   },
   "source": [
    "# Das Thema des Kurses"
   ]
  },
  {
   "cell_type": "markdown",
   "metadata": {
    "slideshow": {
     "slide_type": "slide"
    }
   },
   "source": [
    "## Worum geht es in diesem Kurs?\n",
    "\n",
    "><div class=\"alert alert-block alert-info\"><b>\n",
    "> Welche Algorithmen kennen Sie und was verstehen Sie unter einem Algorithmus?\n",
    "    </b></div>\n"
   ]
  },
  {
   "cell_type": "markdown",
   "metadata": {
    "slideshow": {
     "slide_type": "fragment"
    }
   },
   "source": [
    "## Beispiele für Algorithmen\n",
    "\n",
    "Algorithmen sind (fast) überall. Hier einige Beispiele:\n",
    "- der Euklidische Algorithmus zur Berechnung des größten gemeinsamen Teilers\n",
    "- kürzeste Wege-Algorithmen, die in Navigationsgeräten eingesetzt werden\n",
    "- der Simplex-Algorithmus der Linearen Programmierung\n",
    "- der PageRank-Algorithmus, der die Grundlage der Suchmaschine Google bildet\n",
    "- die Filter-Algorithmen, die die Feeds in Facebook, Twitter und Instagram steuern\n",
    "- AlphaGo, der Algorithmus, der erstmals stärker war als der beste menschliche Go-Spieler\n",
    "\n"
   ]
  },
  {
   "cell_type": "markdown",
   "metadata": {
    "slideshow": {
     "slide_type": "slide"
    }
   },
   "source": [
    "## Was verstehen wir hier unter einem Algorithmus?\n",
    "\n",
    "#### (Vereinfachte) Definition:\n",
    "\n",
    "Ein Algorithmus ist eine **Reihe von Schritten/Anweisungen**, um **deterministisch** eine **Aufgabe** auszuführen / zu lösen / zu bewältigen\n",
    "\n",
    "- **Reihe von Anweisungen**: eine Folge von wohldefinierten Schritten, die nacheinander ausgeführt werden sollen.\n",
    "- **deterministisch**: die gleiche Folge von Schritte muss jedes Mal zum gleichen Ergebnis kommen.\n",
    "- **Aufgabe**: ein vorher bekanntes Ziel soll erreicht werden.\n",
    "\n",
    "#### Beachte:\n",
    "\n",
    "Während die Definition hier sehr allgemein ist, gehen wir immer davon aus,\n",
    "- dass wir einen Algorithmus so genau und formal beschreiben,\n",
    "- dass er von einem Computer ausführbar \n",
    "- und für verschiedene Instanzen des gleichen Aufgabentyps anwendbar ist"
   ]
  },
  {
   "cell_type": "markdown",
   "metadata": {
    "slideshow": {
     "slide_type": "slide"
    }
   },
   "source": [
    "## Eine Denkaufgabe: Umfüllen von Wein\n",
    "\n",
    "- Sie haben einen 8-Liter-Behälter, der mit Wein gefüllt ist..\n",
    "- ...und zwei leere Behälter, die 3 und 5 Liter fassen\n",
    "\n",
    "Wie können Sie nur durch Umfüllen, d.h. ohne weitere Hilfsmittel, den Wein in zwei gleich große Mengen aufteilen?\n",
    "\n",
    "Überlegen Sie eine Lösung und besprechen Sie diese mit Ihrer Nachbarin / Ihrem Nachbarn!"
   ]
  },
  {
   "cell_type": "markdown",
   "metadata": {
    "slideshow": {
     "slide_type": "fragment"
    }
   },
   "source": [
    "#### Ergebnisse und weiterführende Fragen\n",
    "- Wie sieht Ihre Lösung aus?\n",
    "- Können Sie Ihr Vorgehen allgemein beschreiben, d.h. auch für andere Weinmengen und Behältergrößen?\n",
    "- Könnnen Sie ein Programm schreiben, das ein solch allgemeines Verfahren implementiert?"
   ]
  },
  {
   "cell_type": "markdown",
   "metadata": {
    "slideshow": {
     "slide_type": "slide"
    }
   },
   "source": [
    "## Worum geht es in diesem Kurs?\n",
    "\n",
    "><div class=\"alert alert-block alert-info\"><b>\n",
    "> Was verstehen Sie unter einem \"Algorithmus\" und welche Algorithmen kennen Sie?   \n",
    "    </b></div>\n",
    "><div class=\"alert alert-block alert-info\"><b>    \n",
    "    Was verstehen Sie unter einer \"Datenstruktur\" und welche Datenstrukturen kennen Sie?</b></div>"
   ]
  },
  {
   "cell_type": "markdown",
   "metadata": {
    "slideshow": {
     "slide_type": "slide"
    }
   },
   "source": [
    "## Was verstehen wir unter einer Datenstruktur?\n",
    "\n",
    "- Form der Speicherung/Ablage von Daten, die von Algorithmen genutzt werden\n",
    "\n",
    "- Beispiele:\n",
    "  - Arrays, Listen, Hashmaps, Queues \n",
    "  - ...werden Sie noch kennenlernen\n",
    "\n",
    "####  Eine Analogie:\n",
    "Wie legt man am besten Unterlagen (Versicherungen, Konten, etc.) ab, so dass \n",
    "- man Platz spart,\n",
    "- seine Unterlagen schnell findet und\n",
    "- das Ablegen schnell geht?"
   ]
  },
  {
   "cell_type": "markdown",
   "metadata": {
    "slideshow": {
     "slide_type": "fragment"
    }
   },
   "source": [
    "#### Datenstrukturen für Algorithmen\n",
    "Ähnliche Fragen stellt man sich bei der \"Ablage\" / von Daten, die von Algorithmen verwendet werden\n",
    "- die Effizienz eines Algorithmus hängt oft stark von den verwendeten Datenstrukturen ab"
   ]
  },
  {
   "cell_type": "markdown",
   "metadata": {
    "slideshow": {
     "slide_type": "slide"
    }
   },
   "source": [
    "## Was sind Kriterien für einen guten Algorithmus?\n",
    "\n",
    "Für viele Probleme gibt es verschiedene Algorithmen.\n",
    "\n",
    "Kriterien für **gute** Algorithmen sind:\n",
    "- Korrektheit (liefern Sie ein zulässiges / korrektes Ergebnis) und im Fall von Optimierungsalgorithmen Exaktheit (ergeben Sie erwiesenermaßen eine optimale Lösung?)\n",
    "- Speichereffizienz (effizienter Umgang mit Arbeitsspeicher)\n",
    "- Laufzeiteffizienz (Ergebnisse in kurzer Zeit)"
   ]
  },
  {
   "cell_type": "markdown",
   "metadata": {
    "slideshow": {
     "slide_type": "fragment"
    }
   },
   "source": [
    "**Beachte:**\n",
    "- Wenn man Algorithmen analysiert (wie später in dieser Vorlesung), wird die Lauftzeiteffizienz anhand der **Anzahl der Operationen** gemessen.\n",
    "- Die *tatsächliche Laufzeit* eines implementierten Algorithmus hängt allerdings von vielen anderen Faktoren ab wie\n",
    "    - Hardware\n",
    "    - Programmiersprache\n",
    "    - Effizienz der Implementierung / Programmierung"
   ]
  },
  {
   "cell_type": "markdown",
   "metadata": {
    "slideshow": {
     "slide_type": "slide"
    }
   },
   "source": [
    "# Ziele, Vorgehen und Aufbau des Kurses"
   ]
  },
  {
   "cell_type": "markdown",
   "metadata": {
    "slideshow": {
     "slide_type": "slide"
    }
   },
   "source": [
    "## Ziele des Kurses\n",
    "\n",
    "Im Kurs lernen Sie,\n",
    "- algorithmisch zu denken \n",
    "- relevante Algorithmen zu analysieren (insbes. im Hinblick auf Laufzeiteffizienz) und zu entwickeln\n",
    "- welche grundlegenden Datenstrukturen es gibt, welche Eigenschaften diese haben, und wie sie eingesetzt werden\n",
    "- einfache Algorithmen in Python zu implementieren\n",
    "- Voraussetzungen, Anwendungsmöglichkeiten und Grenzen von Algorithmen einzuschätzen"
   ]
  },
  {
   "cell_type": "markdown",
   "metadata": {
    "slideshow": {
     "slide_type": "slide"
    }
   },
   "source": [
    "## Algorithmen und Datenstrukturen für Wirtschaftswissenschaftler?\n",
    "\n",
    "><div class=\"alert alert-block alert-info\"><b>\n",
    "> Welche Gründe sprechen dafür, dass Wiwis (mit Data Science-Profil) etwas über Algorithmen und Datenstrukturen lernen? </b></div>\n",
    "\n"
   ]
  },
  {
   "cell_type": "markdown",
   "metadata": {
    "slideshow": {
     "slide_type": "fragment"
    }
   },
   "source": [
    "- Vorbereitung für ein weiterführendes Data Science-Studium:\n",
    "  - Verständnis der grundlegenden Funktionsweise von  Algorithmen, die die Grundlagen von  Machine Learning und Optimierung bilden\n",
    "  -  Erwerb von Problemlösungs- und Implementierungstechniken, die im Master Data Science relevant werden \n",
    "\n",
    "- Kenntnisse im Bereich Algorithmen und Datenstrukturen helfen Ihnen,\n",
    "  - Funktionsweisen von IT-/ ML-/ KI-Systemen, mit denen Sie sicher zu tun haben werden, besser zu verstehen\n",
    "  - Denkweisen von Experten in diesen Bereichen besser zu verstehen, was die interdisziplinäre Kommunikation erleichtert"
   ]
  },
  {
   "cell_type": "markdown",
   "metadata": {
    "slideshow": {
     "slide_type": "slide"
    }
   },
   "source": [
    "## Wie gehen wir im Kurs vor?\n",
    "- klassische A&D-Kurse richten sich an Informatiker und sind eher formal orientiert und beweislastig\n",
    "- wir versuchen, das Thema für Nicht-Informatiker aufzubereiten und entprechend zu vermitteln:\n",
    "    - wir nutzen viele Beispiele und visuelle Darstellungen\n",
    "    - ausgehend von einfachen Erklärungen wird eine Intuition entwickelt\n",
    "    - die Veranstaltung ist in vielerlei Hinsicht interaktiv (Algorithmen werden gemeinsam \"entwickelt\", programmiert und ausprobiert)\n",
    "- Empfohlen wird gleichzeitiger Besuch von *Programming for Data Analytics* bei Prof. Tierney\n",
    "- (kritisches) Feedback ist erwünscht!"
   ]
  },
  {
   "cell_type": "markdown",
   "metadata": {
    "slideshow": {
     "slide_type": "slide"
    }
   },
   "source": [
    "## Folien auf Basis von Juypter Notebooks\n",
    "\n",
    "- Die Basis dieser Folien sind so genannte Jupyter Notebooks\n",
    "- diese können nicht nur Text, sondern auch ausführbaren Code enthalten:\n"
   ]
  },
  {
   "cell_type": "code",
   "execution_count": 1,
   "metadata": {
    "slideshow": {
     "slide_type": "-"
    }
   },
   "outputs": [
    {
     "data": {
      "text/plain": [
       "8"
      ]
     },
     "execution_count": 1,
     "metadata": {},
     "output_type": "execute_result"
    }
   ],
   "source": [
    "2+6"
   ]
  },
  {
   "cell_type": "code",
   "execution_count": 3,
   "metadata": {
    "scrolled": false,
    "slideshow": {
     "slide_type": "fragment"
    }
   },
   "outputs": [
    {
     "data": {
      "image/png": "[encoded data removed]",
      "text/plain": [
       "<Figure size 432x288 with 1 Axes>"
      ]
     },
     "metadata": {
      "needs_background": "light"
     },
     "output_type": "display_data"
    }
   ],
   "source": [
    "import matplotlib.pyplot as plt\n",
    "import numpy as np\n",
    "a=np.arange(100,step=0.1)\n",
    "b=np.sin(a)\n",
    "plt.plot(a,b)\n",
    "plt.show()"
   ]
  },
  {
   "cell_type": "markdown",
   "metadata": {
    "slideshow": {
     "slide_type": "fragment"
    }
   },
   "source": [
    ".. Sie können die Inhalte aktiv mitverfolgen und auch direkt mit dem Code experimentieren \n",
    "- wir können auch in der Vorlesung kleinere Übungen am Rechner machen"
   ]
  },
  {
   "cell_type": "markdown",
   "metadata": {
    "slideshow": {
     "slide_type": "slide"
    }
   },
   "source": [
    "## Moodle\n",
    "\n",
    "Im Moodle gibt es\n",
    "- aktuelle Informationen zum Kurs\n",
    "- die Jupyter-Notebooks / Links zu Online-Versionen der Notebooks\n",
    "  - probieren Sie es einmal aus!\n",
    "- Material für die Übungen \n",
    "- Funktionen zum Hochladen der Übungszettel"
   ]
  },
  {
   "cell_type": "markdown",
   "metadata": {
    "slideshow": {
     "slide_type": "slide"
    }
   },
   "source": [
    "## Lehrformat\n",
    "- Vorlesung (wöchentlich) Dienstag 12:15 Uhr im Raum X-E0-218    **in Präsenz**:\n",
    "    * Vermittlung der Inhalte\n",
    "    * kleinere interaktive Elemente\n",
    "- Übung (alle zwei Wochen) Donnerstag 10:15 im Raum X-E0-224, erster Termin: 17.10.2024  **in Präsenz**:    \n",
    "    * Vertiefung von Gelerntem\n",
    "    * praktische Anwendung\n",
    "    * Präsentation / Besprechung von Übungszetteln\n",
    "- Übungszettel:\n",
    "    * Alle zwei Wochen\n",
    "    * Studienleistung (2LP)"
   ]
  },
  {
   "cell_type": "markdown",
   "metadata": {
    "slideshow": {
     "slide_type": "slide"
    }
   },
   "source": [
    "## Hilfreiche Literatur\n",
    "\n",
    "\n",
    "<img src=\"./img/grokking_deutsch.png\" width=\"17%\" align=\"right\">\n",
    "\n",
    "- ein wesentlischer Teil des Kurses basiert auf dem Buch **Grokking Algorithms** von Aditya Y. Bharagava\n",
    "- die deutsche Übersetzung **Algorithmen kapieren** ist über die Uni Bielefeld frei verfügbar\n",
    "\n",
    "https://content-select.com/media/moz_viewer/5c858648-6fb0-498b-8e0c-6037b0dd2d03/language:de\n",
    "\n",
    "\n",
    "\n",
    "\n",
    "- es gibt leichte Abweichungen / Ergänzungen zum Buch gegen Ende des Kurses"
   ]
  },
  {
   "cell_type": "markdown",
   "metadata": {
    "slideshow": {
     "slide_type": "slide"
    }
   },
   "source": [
    "## Inhalte (vorläufig)\n",
    " \n",
    "#### 1. Block: Erste Schritte\n",
    "    1. Einführung in Algorithmen (mit Binary Search)\n",
    "    2. Einführung in Datenstrukturen (mit Selection Sort)\n",
    " \n",
    "#### 2. Block: Wichtige Konzepte und Strukturen\n",
    "    3. Rekursion\n",
    "    4. Teile-und-Herrsche (mit Quicksort)\n",
    "    5. Hash-Tabellen (Dictionaries)\n",
    "    \n",
    "#### 3. Block: Suche und Wege in Graphen\n",
    "    6. Breitensuche\n",
    "    7. Kürzeste Wege: Dijkstra-Algorithmus\n",
    "    8. Effiziente kürzeste Wege in gerichteten Graphen\n",
    "\n",
    "    \n",
    "#### 4. Block: Greedy-Verfahren und Dynamische Programmierung\n",
    "    9. Greedy-Algorithmen\n",
    "    10. Dynamische Programmierung"
   ]
  },
  {
   "cell_type": "markdown",
   "metadata": {
    "slideshow": {
     "slide_type": "slide"
    }
   },
   "source": [
    "# 2. Motivierendes Beispiel für Suchalgorithmen und Diskussion"
   ]
  },
  {
   "cell_type": "markdown",
   "metadata": {
    "slideshow": {
     "slide_type": "slide"
    }
   },
   "source": [
    "## Spiel / Aufgabe: Zahlen raten\n",
    "\n",
    "Es spielen je zwei Personen\n",
    "- eine Person merkt sich eine Zahl zwischen 1 und 100\n",
    "- eine Person rät die Zahl, dabei dürfen Fragen gestellt werden, die mit \"ja\" oder \"nein\" beantwortet werden\n",
    "- zählen Sie die Anzahl der Fragen, die gestellt wurden, bis die richtige Zahl erraten wurde\n",
    "\n",
    "Jede*r Studierende sollte einmal der/die Ratende sein!\n",
    "\n"
   ]
  },
  {
   "cell_type": "markdown",
   "metadata": {
    "slideshow": {
     "slide_type": "fragment"
    }
   },
   "source": [
    "\n",
    "#### Ergebnisse und weiterführende Fragen\n",
    "- wie viele Schritte haben Sie gebraucht?\n",
    "- wie sind Sie vorgegangen?\n",
    "- wie viele Schritte hätten Sie bei diesem Vorgehen im Worst Case benötigt?\n",
    "- gibt es eine Formel, die beschreibt, wie viele Schritte Sie in Abhängkeit von der Anzahl an Zahlen benötigen würden?"
   ]
  },
  {
   "cell_type": "markdown",
   "metadata": {
    "slideshow": {
     "slide_type": "slide"
    }
   },
   "source": [
    "## Einfachstes Vorgehen: Lineare Suche / Linear Search\n"
   ]
  },
  {
   "cell_type": "markdown",
   "metadata": {
    "slideshow": {
     "slide_type": "fragment"
    }
   },
   "source": [
    "![image.png](./img/02_Zahlenraten_linear.png)"
   ]
  },
  {
   "cell_type": "markdown",
   "metadata": {
    "slideshow": {
     "slide_type": "-"
    }
   },
   "source": [
    "Sehr einfach, aber ineffizient\n",
    "\n",
    "><div class=\"alert alert-block alert-info\">\n",
    "<b>Wie viele Schritte brauchen wir im Schnitt? Wie viele im schlechtesten Fall?</b></div>"
   ]
  },
  {
   "cell_type": "markdown",
   "metadata": {
    "slideshow": {
     "slide_type": "slide"
    }
   },
   "source": [
    "## Wie kann man den Suchvorgang beschleunigen?"
   ]
  },
  {
   "cell_type": "markdown",
   "metadata": {
    "slideshow": {
     "slide_type": "-"
    }
   },
   "source": [
    "- beachten Sie: wir nutzen bei Linear Search nicht alle Eigenschaften  unseres Problems aus!\n",
    "- inbesondere wissen wir, dass wir es mit einer *geordneten Menge* zu tun haben, d.h. wir können Fragen, ob die gesuchte Zahl größer oder kleiner ist als unsere Schätzung..\n",
    "\n",
    "><div class=\"alert alert-block alert-info\">\n",
    "<b>Wie können wir diese Eigenschaft sinnvoll nutzen?</b></div>"
   ]
  },
  {
   "cell_type": "markdown",
   "metadata": {
    "slideshow": {
     "slide_type": "slide"
    }
   },
   "source": [
    "## Grundidee der Binären Suche / Binary Search"
   ]
  },
  {
   "cell_type": "markdown",
   "metadata": {
    "slideshow": {
     "slide_type": "fragment"
    }
   },
   "source": [
    "![image.png](./img/04_Zahlenraten_binär2.png)"
   ]
  },
  {
   "cell_type": "markdown",
   "metadata": {
    "slideshow": {
     "slide_type": "fragment"
    }
   },
   "source": [
    "..mit jedem neuen Schritt können wir mehrere Zahlen ausschließen\n",
    "\n",
    "![image.png](./img/05_Zahlenraten_binär3.png)"
   ]
  },
  {
   "cell_type": "markdown",
   "metadata": {
    "slideshow": {
     "slide_type": "fragment"
    }
   },
   "source": [
    "![image.png](./img/06_Zahlenraten_binär4.png)"
   ]
  },
  {
   "cell_type": "markdown",
   "metadata": {
    "slideshow": {
     "slide_type": "slide"
    }
   },
   "source": [
    "## Wie viele Schritte brauchen wir hier?\n",
    "\n",
    "><div class=\"alert alert-block alert-info\">\n",
    "<b>Wie viele Schritte brauchen wir hier im schlechtesten Fall?</b></div>"
   ]
  },
  {
   "cell_type": "markdown",
   "metadata": {
    "slideshow": {
     "slide_type": "fragment"
    }
   },
   "source": [
    "..insgesamt brauchen wir für 100 Zahlen maximal 7 Schritte (Statt maximal 100 bei Linear Search)\n",
    "![image.png](./img/07_Binary_Schritte.png)"
   ]
  },
  {
   "cell_type": "markdown",
   "metadata": {
    "slideshow": {
     "slide_type": "slide"
    }
   },
   "source": [
    "## Wörtersuche\n",
    "Angenommen, wir haben ein durchnummeriertes Wörterbuch mit 240.000 Begriffen...\n",
    "\n",
    "><div class=\"alert alert-block alert-info\">\n",
    "<b>Wie viele Schritte brauchen wir im <i>worst case</i> bei Linear bzw. Binary Search, wenn wir nach einem Wort in diesem Wörterbuch suchen?</b></div>"
   ]
  },
  {
   "cell_type": "markdown",
   "metadata": {
    "slideshow": {
     "slide_type": "fragment"
    }
   },
   "source": [
    "#### Linear Search:\n",
    "- wir gehen nacheinander alle 240.000 Begriffe durch, benötigen also 240.000 Schritte"
   ]
  },
  {
   "cell_type": "markdown",
   "metadata": {
    "slideshow": {
     "slide_type": "fragment"
    }
   },
   "source": [
    "#### Binary Search:\n",
    "- mit jedem Schritt schließen wir die Hälfte der \"verbleibenden\" Elemente aus $\\rightarrow$ Nur 18 Schritte\n",
    "\n",
    "![image.png](./img/08_Binary_240k_Schritte.png)"
   ]
  },
  {
   "cell_type": "markdown",
   "metadata": {
    "slideshow": {
     "slide_type": "slide"
    }
   },
   "source": [
    "\n",
    "## Wie viele Schritte braucht Binary Search im allgemeinen Fall?\n",
    "\n",
    "Wie aufwendig ist Binary Search bei $n$ Elementen?\n",
    "\n",
    "- 24 $\\rightarrow$ 5 Schritte\n",
    "\n",
    "- 2.400 $\\rightarrow$ 12 Schritte\n",
    "\n",
    "- 240.000 $\\rightarrow$ 18 Schritte\n",
    "\n",
    "$\\rightarrow$ es besteht ein Logarithmischer Zusammenhang: Man braucht $\\log_{2} n$ Schritte (aufgerundet)\n",
    "\n",
    "##### Auffrischung Logarithmen: \n",
    "- nächste Übung\n",
    "- Khan Academy: https://de.khanacademy.org/math/algebra2/exponential-and-logarithmic-functions/introduction-to-logarithms/v/logarithms"
   ]
  },
  {
   "cell_type": "markdown",
   "metadata": {
    "slideshow": {
     "slide_type": "slide"
    }
   },
   "source": [
    "## Vergleich der Verfahren\n",
    "\n",
    "#### Linear Search:\n",
    "- sehr einfaches Verfahren\n",
    "- schließt ein Element pro Frage aus\n",
    "- *braucht keine Sortierbarkeits- / Ordnungsannahmen*\n",
    "\n",
    "#### Binary Search:\n",
    "- etwas komplizierteres, aber immer noch recht einfaches Verfahren\n",
    "- schließt die Hälfte der übrigen möglichen Elemente pro Nachfrage aus\n",
    "- nutzt gegebene Eigenschaften (Anzahl der Elemente, Sortiertheit) aus"
   ]
  },
  {
   "cell_type": "markdown",
   "metadata": {
    "slideshow": {
     "slide_type": "slide"
    }
   },
   "source": [
    "# 3. Suchprobleme: Algorithmen und Implementierung\n"
   ]
  },
  {
   "cell_type": "markdown",
   "metadata": {
    "slideshow": {
     "slide_type": "slide"
    }
   },
   "source": [
    "## Im Allgemeinen verstehen wir  unter einem Suchproblem folgende Fragestellung:\n",
    "### Gegeben:\n",
    "- einen zu suchenden *Wert* $x$ (z.B. eine Zahl, ein Buchstabe, eine Name)\n",
    "- eine Auflistung von vielen Werten (und ggf. zugehörigen Informationen)\n",
    "\n",
    "### Gesucht:\n",
    "- die Position (und damit ggf. die Möglichkeit, weitere Informationen abzurufen) und\n",
    "- damit verbunden die Information, ob der gesuchte Wert überhaupt vorhanden ist"
   ]
  },
  {
   "cell_type": "markdown",
   "metadata": {
    "slideshow": {
     "slide_type": "fragment"
    }
   },
   "source": [
    "### Beispiele:\n",
    "- wie findet man einen Eintrag in einem Telefonbuch?\n",
    "- wie kann Facebook eine Suchanfrage verarbeiten?\n",
    "- wie findet man in einem Telefonbuch einen Namen heraus, wenn man nur die Nummer hat?\n",
    "\n",
    "><div class=\"alert alert-block alert-info\">\n",
    "<b>Worin unterscheiden sich diese Problemstellungen?</b></div>"
   ]
  },
  {
   "cell_type": "markdown",
   "metadata": {
    "slideshow": {
     "slide_type": "slide"
    }
   },
   "source": [
    "## Suchverfahren\n",
    "\n",
    "- es gibt verschiedene Ansätze, um Elemente zu finden. \n",
    "- diese Algorithmen werden auch als *Suchverfahren* bezeichnet.\n",
    "- bei einem Suchverfahren wird in der Regel die Position des gesuchten Elements in einer Liste als Ergebnis zurückgegeben oder die Information, dass das Element nicht in der Liste vorhanden ist.\n",
    "\n",
    "Wir betrachten hier zwei Verfahren:\n",
    "- lineare Suche\n",
    "- binäre Suche\n",
    "\n",
    "..analog zu den Folien oben"
   ]
  },
  {
   "cell_type": "markdown",
   "metadata": {
    "heading_collapsed": true,
    "slideshow": {
     "slide_type": "slide"
    }
   },
   "source": [
    "## Lineare Suche: Erklärung\n",
    "\n",
    "\n",
    "Für jedes einzelne Element der Liste (beginnend mit dem ersten Element):\n",
    "- schaue, ob der Wert des Elements dem gesuchten Wert entspricht\n",
    "    - wenn der Wert gefunden wurde: Fertig!\n",
    "    - sonst: suche weiter\n"
   ]
  },
  {
   "cell_type": "markdown",
   "metadata": {
    "slideshow": {
     "slide_type": "slide"
    }
   },
   "source": [
    "## Lineare Suche: Pseudocode und Python\n",
    "\n",
    "Gegeben:\n",
    "- eine Liste mit Werten\n",
    "- der zu suchende Wert"
   ]
  },
  {
   "cell_type": "code",
   "execution_count": 12,
   "metadata": {
    "slideshow": {
     "slide_type": "fragment"
    }
   },
   "outputs": [
    {
     "data": {
      "text/plain": [
       "8"
      ]
     },
     "execution_count": 12,
     "metadata": {},
     "output_type": "execute_result"
    }
   ],
   "source": [
    "liste = [1, 4, 6, 8, 11, 13, 16, 20]\n",
    "wert = 13\n",
    "len(liste)"
   ]
  },
  {
   "cell_type": "markdown",
   "metadata": {
    "slideshow": {
     "slide_type": "fragment"
    }
   },
   "source": [
    "Für jedes Element in der Liste:\n",
    "- schaue, ob der Wert des Elements dem gesuchten Wert entspricht\n",
    "  - wenn ja, so haben wir einen Erfolg\n",
    "  "
   ]
  },
  {
   "cell_type": "code",
   "execution_count": 10,
   "metadata": {
    "slideshow": {
     "slide_type": "-"
    }
   },
   "outputs": [
    {
     "name": "stdout",
     "output_type": "stream",
     "text": [
      "Wert wurde gefunden!\n"
     ]
    }
   ],
   "source": [
    "for element in liste:\n",
    "    #print(\"Jetzt hat element den Wert\", element)\n",
    "    if element == wert: \n",
    "        print(\"Wert wurde gefunden!\")         \n",
    "        break     "
   ]
  },
  {
   "cell_type": "markdown",
   "metadata": {
    "slideshow": {
     "slide_type": "fragment"
    }
   },
   "source": [
    "><div class=\"alert alert-block alert-info\">\n",
    "<b>Spielen Sie mit verschiedenen Werten!</b></div>"
   ]
  },
  {
   "cell_type": "markdown",
   "metadata": {
    "heading_collapsed": true,
    "slideshow": {
     "slide_type": "slide"
    }
   },
   "source": [
    "## Codeausführung \"beobachten\" mit Pythontutor\n",
    "\n",
    "Auf der Webseite **[Pythontutor](https://pythontutor.com/)** kann man Python-Code Schritt für Schritt ausführen\n",
    "\n",
    "Unser Beispiel finden Sie **[hier](https://pythontutor.com/visualize.html#code=%23%23%20Lineare%20Suche%3A%20Pseudocode%20und%20Python%0Aliste%20%3D%20%5B1,%204,%206,%208,%2011,%2013,%2016%5D%0Awert%20%3D%2013%0A%0Afor%20element%20in%20liste%3A%0A%20%20%20%20if%20element%20%3D%3D%20wert%3A%0A%20%20%20%20%20%20%20%20print%28%22Wert%20wurde%20gefunden!%22%29%0A%20%20%20%20%20%20%20%20break%20%20&cumulative=false&curInstr=0&heapPrimitives=nevernest&mode=display&origin=opt-frontend.js&py=3&rawInputLstJSON=%5B%5D&textReferences=false)!**\n"
   ]
  },
  {
   "cell_type": "markdown",
   "metadata": {
    "slideshow": {
     "slide_type": "slide"
    }
   },
   "source": [
    "## Lineare Suche in Python (II)\n",
    "\n",
    "Im vorherigen Code wurde das Element zwar gefunden, wir wissen aber nicht, an welcher Stelle.\n",
    "\n",
    "Wir können das ändern, indem wir explizit die Indizes einbeziehen:"
   ]
  },
  {
   "cell_type": "code",
   "execution_count": null,
   "metadata": {
    "slideshow": {
     "slide_type": "fragment"
    }
   },
   "outputs": [],
   "source": [
    "for index in range(len(liste)):\n",
    "    print(\"wir sind bei index \", index,  \" mit Wert\", liste[index])\n",
    "    if wert == liste[index]:\n",
    "        print(\"Wert\", wert, \"wurde gefunden an Index\", index)\n",
    "        break  "
   ]
  },
  {
   "cell_type": "markdown",
   "metadata": {
    "slideshow": {
     "slide_type": "-"
    }
   },
   "source": [
    "- der Ausdruck `range(n)` liefert eine Folge von Werten von 0 bis $n-1$.\n",
    "- der Ausdruck `len(liste)` gibt uns die Anzahl an Werten in einer Liste\n",
    "- `liste[index]` gibt uns den Wert an Index `index` in der Liste `liste`. Beachte: Das erste Element hat den Index 0\n",
    "- alternativ kann man mit `enumerate` arbeiten. `enumerate` liefert uns direkt in Paar aus `index` und `element` (Inhalt der Liste) in jeder Iteration"
   ]
  },
  {
   "cell_type": "code",
   "execution_count": 23,
   "metadata": {
    "slideshow": {
     "slide_type": "fragment"
    }
   },
   "outputs": [
    {
     "name": "stdout",
     "output_type": "stream",
     "text": [
      "Wert 13 wurde gefunden an Index 5\n"
     ]
    }
   ],
   "source": [
    "for index, element in enumerate(liste):\n",
    "    #print(\"wir sind bei index \", index,  \" mit Wert\", element)\n",
    "    if wert == element:\n",
    "        print(\"Wert\", wert, \"wurde gefunden an Index\", index)\n",
    "        break  "
   ]
  },
  {
   "cell_type": "markdown",
   "metadata": {
    "slideshow": {
     "slide_type": "slide"
    }
   },
   "source": [
    "## Lineare Suche in Python als Funktion\n",
    "- wenn wir Code schreiben, wollen wir in der Regel nicht jedes Mal, wenn wir eine Funktionalität benötigen, den ganzen Code neu schreiben\n",
    "- um code wiederzuverwenden, schreiben wir ihn als *Funktion*, die *Argumente* oder *Parameter* hat\n",
    "- für die lineare Suche schreiben wir die Funktion `linear search`, die die zwei Parameter `liste` und `wert` hat\n",
    "- die Funktion definieren wir mit dem keyword `def` wie folgt:"
   ]
  },
  {
   "cell_type": "code",
   "execution_count": 37,
   "metadata": {
    "slideshow": {
     "slide_type": "-"
    }
   },
   "outputs": [],
   "source": [
    "def linear_search(liste, wert):\n",
    "    for index in range(len(liste)):\n",
    "        if liste[index] == wert:\n",
    "            print(\"Wert\", wert, \"wurde gefunden an Index\", index)\n",
    "            return index\n",
    "    print(\"Wert\", wert, \"wurde nicht gefunden!\")\n",
    "    \n",
    "    return None\n"
   ]
  },
  {
   "cell_type": "markdown",
   "metadata": {
    "slideshow": {
     "slide_type": "fragment"
    }
   },
   "source": [
    "- das keyword `return` signalisiert die \"Antwort\" der Funktion\n",
    "- `None` ist ein leeres Objekt (Null-value) in Python\n"
   ]
  },
  {
   "cell_type": "markdown",
   "metadata": {
    "slideshow": {
     "slide_type": "slide"
    }
   },
   "source": [
    "## Lineare Suche in Python als Funktion: Probieren wir es aus\n"
   ]
  },
  {
   "cell_type": "code",
   "execution_count": 36,
   "metadata": {
    "slideshow": {
     "slide_type": "fragment"
    }
   },
   "outputs": [
    {
     "name": "stdout",
     "output_type": "stream",
     "text": [
      "Wert 12 wurde nicht gefunden!\n",
      "Der index ist None\n"
     ]
    }
   ],
   "source": [
    "wert = 12\n",
    "index_wert = linear_search(liste, wert)\n",
    "\n",
    "print(\"Der index ist\", index_wert)\n",
    "\n",
    "\n"
   ]
  },
  {
   "cell_type": "markdown",
   "metadata": {
    "slideshow": {
     "slide_type": "fragment"
    }
   },
   "source": [
    "..mit einer anderen Liste und einem anderen Wert:"
   ]
  },
  {
   "cell_type": "code",
   "execution_count": 40,
   "metadata": {
    "slideshow": {
     "slide_type": "-"
    }
   },
   "outputs": [
    {
     "name": "stdout",
     "output_type": "stream",
     "text": [
      "Wert Theresa wurde gefunden an Index 5\n"
     ]
    },
    {
     "data": {
      "text/plain": [
       "5"
      ]
     },
     "execution_count": 40,
     "metadata": {},
     "output_type": "execute_result"
    }
   ],
   "source": [
    "liste_2 = ['Michael', 'Till', 'Jakob', 'Henning', 'Mohsen', 'Theresa']\n",
    "wert_2 = 'Theresa'\n",
    "linear_search(liste_2, wert_2)\n"
   ]
  },
  {
   "cell_type": "markdown",
   "metadata": {
    "slideshow": {
     "slide_type": "fragment"
    }
   },
   "source": [
    "><div class=\"alert alert-block alert-info\">\n",
    "<b>Spielen Sie mit der Funktion, d.h. probieren Sie verschiedene Parameter aus! Erstellen Sie eine neue Liste und suchen Sie darin! </b></div>\n",
    "\n",
    "><div class=\"alert alert-block alert-info\">\n",
    "<b>Kopieren Sie den Code mit der Funktion und einem Beispiel und probieren Sie ihn in Pythontutor aus! </b></div>"
   ]
  },
  {
   "cell_type": "markdown",
   "metadata": {
    "slideshow": {
     "slide_type": "slide"
    }
   },
   "source": [
    "## Binäre Suche: Einfache Erklärung\n",
    "\n",
    "Voraussetzung: Wir haben eine sortierte Liste von Werten\n",
    "\n",
    "\n",
    "- Nimm das mittlere Element aus der Liste\n",
    "- wenn du den Wert gefunden hast: Prima!\n",
    "- wenn der gesuchte Wert größer ist als das mittlere Element:\n",
    "  - eliminiere alle Elemente unterhalb der Mitte und beginne von vorn\n",
    "- sonst: \n",
    "  - eliminiere alle Elemente oberhalb der Mitte und beginne von vorn\n",
    "\n"
   ]
  },
  {
   "cell_type": "markdown",
   "metadata": {
    "slideshow": {
     "slide_type": "slide"
    }
   },
   "source": [
    "## Binäre Suche: Pseudocode und Python"
   ]
  },
  {
   "cell_type": "markdown",
   "metadata": {
    "slideshow": {
     "slide_type": "-"
    }
   },
   "source": [
    "Im Code wäre die Elimination von Werten zu zeitaufwendig. Wir merken uns daher lediglich:\n",
    "- den niedrigsten Index `low` und den höchsten Index `high`\n",
    "- am Anfang setzen wir diese auf den ersten und letzten Index der Liste:"
   ]
  },
  {
   "cell_type": "code",
   "execution_count": 6,
   "metadata": {
    "slideshow": {
     "slide_type": "-"
    }
   },
   "outputs": [
    {
     "data": {
      "text/plain": [
       "[1, 4, 6, 8, 11, 13, 16]"
      ]
     },
     "execution_count": 6,
     "metadata": {},
     "output_type": "execute_result"
    }
   ],
   "source": [
    "liste = [1, 4, 6, 8, 11, 13, 16]\n",
    "wert = 13\n",
    "\n",
    "low = 0\n",
    "high = len(liste)-1\n",
    "\n",
    "ausschnitt = liste[low:high+1]\n",
    "ausschnitt"
   ]
  },
  {
   "cell_type": "markdown",
   "metadata": {
    "slideshow": {
     "slide_type": "slide"
    }
   },
   "source": [
    "- nun berechnen wir den mittleren Index `mid` und das zugehörige Element (wir nennen es im code `guess`)\n",
    "- wir vergleichen dieses mit dem gesuchten Wert\n",
    "  - wenn es übereinstimmt, sind wir fertig (*break* springt aus der Schleife)\n",
    "  - wenn das Element größer ist als der gesuchte  Wert, setzen wir `high` auf den Index unmittelbar unter `mid`\n",
    "  - sonst (Element ist kleiner als der gesuchte Wert), setzen wir `low` auf einen Index unmittelbar über `mid`\n",
    "- das machen wir so lange, (*while*-Bedingung ganz oben), wie es noch ein mittleres Element gibt"
   ]
  },
  {
   "cell_type": "code",
   "execution_count": 9,
   "metadata": {
    "slideshow": {
     "slide_type": "-"
    }
   },
   "outputs": [
    {
     "name": "stdout",
     "output_type": "stream",
     "text": [
      "low: 0 high: 6 [1, 4, 6, 8, 11, 13, 16] mid: 3 guess: 8\n",
      "low: 4 high: 6 [11, 13, 16] mid: 5 guess: 13\n",
      "Wert 13 wurde gefunden bei Index 5\n"
     ]
    }
   ],
   "source": [
    "liste = [1, 4, 6, 8, 11, 13, 16]\n",
    "wert = 13\n",
    "\n",
    "low = 0\n",
    "high = len(liste)-1\n",
    "\n",
    "while low <= high:\n",
    "    mid = (low+high) // 2 # // bedeutet, dass wir eine ganze Zahl bekommen (z.B. 2), und keine Dezimalzahl (z.B. 2.5)\n",
    "    guess = liste[mid]\n",
    "    print (\"low:\", low, \"high:\", high, liste[low:high+1], \"mid:\", mid, \"guess:\", guess)\n",
    "    if guess == wert:\n",
    "        print (\"Wert\", guess, \"wurde gefunden bei Index\", mid)\n",
    "        break\n",
    "    if guess > wert:\n",
    "        high = mid - 1\n",
    "    else: \n",
    "        low = mid + 1        "
   ]
  },
  {
   "cell_type": "markdown",
   "metadata": {
    "slideshow": {
     "slide_type": "slide"
    }
   },
   "source": [
    "## Binäre Suche: Den Code verstehen"
   ]
  },
  {
   "cell_type": "markdown",
   "metadata": {
    "slideshow": {
     "slide_type": "fragment"
    }
   },
   "source": [
    "Schauen wir uns das doch einmal bei PythonTutor an unter diesem **[Link](https://pythontutor.com/visualize.html#code=%23%23%20Lineare%20Suche%3A%20Pseudocode%20und%20Python%0Aliste%20%3D%20%5B1,%204,%206,%208,%2011,%2013,%2016%5D%0Awert%20%3D%2013%0A%0A%0Alow%20%3D%200%0Ahigh%20%3D%20len%28liste%29-1%0A%0Awhile%20low%20%3C%3D%20high%3A%0A%20%20%20%20mid%20%3D%20%28low%2Bhigh%29%20//%202%20%23%20//%20bedeutet,%20dass%20wir%20eine%20ganze%20Zahl%20bekommen%20%28z.B.%202%29,%20und%20keine%20Dezimalzahl%20%28z.B.%202.5%29%0A%20%20%20%20guess%20%3D%20liste%5Bmid%5D%0A%20%20%20%20if%20guess%20%3D%3D%20wert%3A%0A%20%20%20%20%20%20%20%20print%20%28%22Wert%20wurde%20gefunden%20bei%20Index%20%22,%20guess%29%0A%20%20%20%20%20%20%20%20break%0A%20%20%20%20if%20guess%20%3E%20wert%3A%0A%20%20%20%20%20%20%20%20high%20%3D%20mid%20-%201%0A%20%20%20%20else%3A%20%0A%20%20%20%20%20%20%20%20low%20%3D%20mid%20%2B%201%20%20%20%20%20%20%20%20%0A%20%20%20%20&cumulative=false&curInstr=0&heapPrimitives=nevernest&mode=display&origin=opt-frontend.js&py=3&rawInputLstJSON=%5B%5D&textReferences=false)**!"
   ]
  },
  {
   "cell_type": "markdown",
   "metadata": {
    "slideshow": {
     "slide_type": "fragment"
    }
   },
   "source": [
    "><div class=\"alert alert-block alert-info\">\n",
    "<b>Fügen Sie hier in Jupyter  Ausgaben ein, um den Verlauf der Suche zu \"beobachten\" und variieren Sie den zu suchenden Wert! </b></div>"
   ]
  },
  {
   "cell_type": "markdown",
   "metadata": {
    "slideshow": {
     "slide_type": "slide"
    }
   },
   "source": [
    "## Binäre Suche als Python-Funktion\n",
    "- wie bei der linearen Suche: Wir verpacken den Code in eine Funkion"
   ]
  },
  {
   "cell_type": "code",
   "execution_count": 43,
   "metadata": {
    "slideshow": {
     "slide_type": "-"
    }
   },
   "outputs": [],
   "source": [
    "def binary_search(liste, wert):\n",
    "    low = 0\n",
    "    high = len(liste)-1    \n",
    "    while low <= high:\n",
    "        mid = (low+high) // 2 # // bedeutet, dass wir eine ganze Zahl bekommen (z.B. 2), und keine Dezimalzahl (z.B. 2.5)\n",
    "        guess = liste[mid]\n",
    "        if guess == wert:\n",
    "            print (\"Wert\", guess, \"wurde gefunden bei Index\", mid)\n",
    "            return mid\n",
    "        if guess > wert:\n",
    "            high = mid - 1\n",
    "        else: \n",
    "            low = mid + 1\n",
    "    print(\"Wert wurde nicht gefunden!\")\n",
    "    return None"
   ]
  },
  {
   "cell_type": "markdown",
   "metadata": {
    "slideshow": {
     "slide_type": "slide"
    }
   },
   "source": [
    "Probieren wir es wieder aus:    "
   ]
  },
  {
   "cell_type": "code",
   "execution_count": 44,
   "metadata": {
    "slideshow": {
     "slide_type": "-"
    }
   },
   "outputs": [
    {
     "name": "stdout",
     "output_type": "stream",
     "text": [
      "Wert wurde nicht gefunden!\n"
     ]
    }
   ],
   "source": [
    "binary_search(liste, wert)"
   ]
  },
  {
   "cell_type": "code",
   "execution_count": 45,
   "metadata": {},
   "outputs": [
    {
     "name": "stdout",
     "output_type": "stream",
     "text": [
      "Wert Theresa wurde gefunden bei Index 5\n"
     ]
    },
    {
     "data": {
      "text/plain": [
       "5"
      ]
     },
     "execution_count": 45,
     "metadata": {},
     "output_type": "execute_result"
    }
   ],
   "source": [
    "binary_search(liste_2, \"Theresa\")"
   ]
  },
  {
   "cell_type": "markdown",
   "metadata": {
    "slideshow": {
     "slide_type": "fragment"
    }
   },
   "source": [
    "><div class=\"alert alert-block alert-info\">\n",
    "<b>Probieren Sie die Funktion aus mit dem Personen-Beispiel, das wir für lineare Suche verwendet haben!  </b></div>"
   ]
  },
  {
   "cell_type": "markdown",
   "metadata": {
    "slideshow": {
     "slide_type": "slide"
    }
   },
   "source": [
    "# 4. Laufzeiten und Big O (Landau-Notation)"
   ]
  },
  {
   "cell_type": "markdown",
   "metadata": {
    "slideshow": {
     "slide_type": "slide"
    }
   },
   "source": [
    "## Laufzeiten und Big O\n",
    "\n",
    "- Wie können objektiv / neutral Laufzeiten für Algorithmen gemessen werden?\n",
    "\n",
    "Laufzeiten messen in Sekunden oder Minuten?\n",
    "- Schwierig zu bestimmen, da anhängig von Rechenleistung\n",
    "- Außerdem abhängig von Anzahl der Elemente\n",
    "- **Idee:** Nicht tatsächliche Laufzeit, sondern **Größenordnung** der Laufzeit **in Abhängigkeit von der Problemgröße** (für die Suche: Anzahl der Elemente) erfassen"
   ]
  },
  {
   "cell_type": "markdown",
   "metadata": {
    "slideshow": {
     "slide_type": "fragment"
    }
   },
   "source": [
    "![image.png](./img/09_Vergleich_Suchen.png)"
   ]
  },
  {
   "cell_type": "markdown",
   "metadata": {
    "slideshow": {
     "slide_type": "slide"
    }
   },
   "source": [
    "## Big O Notation (Landau-Notation)\n",
    "\n",
    "\n",
    "![image.png](./img/10_BigO.png)\n",
    "\n",
    "- Standard für die Beschreibung der Laufzeiteffizienz von Algorithmen\n",
    "- verglichen wird nicht die tatsächliche Laufzeit, sondern das *Laufzeitverhalten in Abhängigkeit der Problemgröße* $n$\n",
    "  - Bsp Suchprobleme: $n$ = Anzahl der Elemente in der Liste\n",
    "  - Bsp Kürzeste-Wege-Probleme: $n$ = Anzahl der Knoten / Städte\n",
    "\n",
    "#### Beachte:\n",
    "- konstante Faktoren (z.B. wie viele Rechenschritte passieren in einer Operation / in einem Schritt des Algorithmus) werden vernachlässigt\n",
    "- es geht um das \"große\" Bild: Wächst die Laufzeit logarithmisch, linear, oder quadratisch mit der Problemgröße?\n"
   ]
  },
  {
   "cell_type": "markdown",
   "metadata": {
    "slideshow": {
     "slide_type": "slide"
    }
   },
   "source": [
    "## Fiktives Beispiel: Die Mondlandung\n",
    "\n",
    "Eine Mitarbeiterin einer Raumfahrtbehörde soll einen Suchalgorithmus schreiben, der beim Landen auf dem Mond zum Einsatz kommt. Zur Auswahl stehen dabei Linear Search und Binary Search. Wichtig ist, dass der Algorithmus schnell ist (maximal 10 Sekunden) und fehlerfrei funktioniert.\n",
    "- Schnell würde für Binary Search sprechen\n",
    "- Linear Search ist allerdings einfacher, es ist also unwahrscheinlicher, Fehler bei der Implementierung zu machen\n",
    "\n",
    "Ist Linear Search schnell genug?\n",
    "\n",
    "![image.png](./img/11_Mondlandung.png)"
   ]
  },
  {
   "cell_type": "markdown",
   "metadata": {
    "slideshow": {
     "slide_type": "slide"
    }
   },
   "source": [
    "## Die Mondlandung\n",
    "\n",
    "Wir machen den Test, indem wir eine Liste von 100 Elementen vergleichen\n",
    "- Die Überprüfung eines Elements dauert 1 Millisekunde (ms)\n",
    "- Mit Linear Search dauert es bis zu 100 ms\n",
    "- Binary Search braucht ca 7 ms\n",
    "$\\rightarrow$ Ca 15 mal so schnell"
   ]
  },
  {
   "cell_type": "markdown",
   "metadata": {
    "slideshow": {
     "slide_type": "fragment"
    }
   },
   "source": [
    "Wir nehmen nun an, dass die Liste realistischerweise eher eine Milliarde Elemente enthält.\n",
    "- Binary Search benötigt dafür bis zu $\\log_{2} n$, also ca 30 ms\n",
    "- Wenn wir annehmen, dass linear search ca 15 mal so lange braucht, so wären das etwa 450 ms\n",
    "\n",
    "><div class=\"alert alert-block alert-info\">\n",
    "<b>$\\rightarrow$ Wäre also genug Zeit für Linear Search?</b></div>"
   ]
  },
  {
   "cell_type": "markdown",
   "metadata": {
    "slideshow": {
     "slide_type": "slide"
    }
   },
   "source": [
    "## Die Mondlandung\n",
    "\n",
    "- bei mehr Elementen wird die Laufzeit beider Algorithmen länger\n",
    "- das Wachstum der Laufzeit ist aber **sehr unterschiedlich**\n",
    "- Binary Search ist nicht mehr 15, sondern 33 Millionen mal schneller\n",
    "\n",
    "**Big O Notation erfasst, wie viele Operationen notwendig sind.**\n",
    "- Linear Search betrachtet jedes Element einmal $\\rightarrow$ n Operationen\n",
    "- Die Laufzeit ist deshalb $O(n)$\n",
    "- Bei Binary Search sind es $\\log_{2} n$ Operationen\n",
    "- Laufzeit wir durch $O(\\log_{} n$) beschrieben\n",
    "\n",
    "Fokus auf die Größenordnung des Wachstums\n",
    "- die konkrete Zeit hängt ab von Hardware, Software, Effizienz der Implementierung"
   ]
  },
  {
   "cell_type": "markdown",
   "metadata": {
    "slideshow": {
     "slide_type": "slide"
    }
   },
   "source": [
    "## Illustration Laufzeiten: Kästchenbeispiel\n",
    "\n",
    "Aufgabe: Teile ein Blatt Papier in ein Gitter aus 16 Kästchen ein\n",
    "\n",
    "<img src=\"./img/13_Kästchenbeispiel.png\" width=\"30%\" align=\"middle\">\n",
    "\n",
    "><div class=\"alert alert-block alert-info\">\n",
    "<b>- Wie kann man vorgehen? <br> - Wie viele Operationen braucht man dafür?</b></div>"
   ]
  },
  {
   "cell_type": "markdown",
   "metadata": {
    "slideshow": {
     "slide_type": "slide"
    }
   },
   "source": [
    "## Illustration Laufzeiten: Kästchenbeispiel\n",
    "\n",
    "#### Algorithmus 1:\n",
    "\n",
    "16 Kästchen nacheinander einzeichnen.\n",
    "\n",
    "<img src=\"./img/14_Kästchen_Alg1.png\" width=\"80%\" align=\"middle\">\n",
    "\n",
    "><div class=\"alert alert-block alert-info\">\n",
    "<b>- Wie viele Operationen sind notwendig? <br> - Wie kann man das Laufzeitverhalten in Big-O Notation angeben?</b></div>"
   ]
  },
  {
   "cell_type": "markdown",
   "metadata": {
    "slideshow": {
     "slide_type": "slide"
    }
   },
   "source": [
    "## Illustration Laufzeiten: Kästchenbeispiel\n",
    "\n",
    "#### Algorithmus 2:\n",
    "\n",
    "Falte das Blatt 4 Mal in der Mitte\n",
    "\n",
    "<img src=\"./img/15_Kästchen_Alg2.png\" width=\"60%\" align=\"middle\">\n",
    "\n",
    "Dadurch entsteht ein gefaltetes Gitternetz."
   ]
  },
  {
   "cell_type": "markdown",
   "metadata": {
    "slideshow": {
     "slide_type": "fragment"
    }
   },
   "source": [
    "\n",
    "<img src=\"./img/16_Kästchen_Faltung.png\" width=\"90%\" align=\"middle\">\n",
    "\n",
    "><div class=\"alert alert-block alert-info\">\n",
    "<b>- Wie viele Operationen sind notwendig? <br> - Wie kann man das Laufzeitverhalten in Big-O Notation angeben?</b></div>"
   ]
  },
  {
   "cell_type": "markdown",
   "metadata": {
    "slideshow": {
     "slide_type": "slide"
    }
   },
   "source": [
    "## Anmerkung: Worst Case Laufzeiten\n",
    "\n",
    "- Laufzeiten für Algorithmen hängen von Daten ab (siehe z.B. Wörtersuche)\n",
    "- **Best Case** für viele Algorithmen deutlich schneller (z.B. $O(1)$)\n",
    "- Wir fokussieren uns (vorerst) auf die Laufzeit im **Worst Case**\n",
    "- Dadurch ermitteln wir obere Schranke für die Laufzeit\n",
    "- In späteren Kapiteln betrachten wir auch den **Average Case**"
   ]
  },
  {
   "cell_type": "markdown",
   "metadata": {
    "slideshow": {
     "slide_type": "slide"
    }
   },
   "source": [
    "## Wichtige Laufzeittypen\n",
    "\n",
    "Die für uns wichtigsten Laufzeiten sind:\n",
    "\n",
    "- $O(1)$ *konstante Laufzeit*\n",
    "- $O(\\log_{} n)$ *logarithmische Laufzeit*\n",
    "- $O(n)$ *lineare Laufzeit*\n",
    "- $O(n * \\log_{} n)$ *quasilineare Laufzeit*\n",
    "- $O(n^2)$ *quadratische Laufzeit*\n",
    "- $O(n!)$ *fakultative Laufzeit*"
   ]
  },
  {
   "cell_type": "markdown",
   "metadata": {
    "slideshow": {
     "slide_type": "slide"
    }
   },
   "source": [
    "## Laufzeitypen (Kästchenbeispiel)\n",
    "\n",
    "Für das Kästchenbeispiel betrachten wir, wie lange welche Laufzeittypen brauchen würden, wenn wir pro Sekunde 10 Operationen ausführen könnten:\n",
    "\n",
    "<img src=\"./img/17_Überblick_Laufzeiten.png\" width=\"100%\" align=\"middle\">\n",
    "\n",
    "(Die Umrechnung von Laufzeiten in Operationen ist hier etwas vereinfacht)"
   ]
  },
  {
   "cell_type": "markdown",
   "metadata": {
    "slideshow": {
     "slide_type": "slide"
    }
   },
   "source": [
    "## Exkurs: Traveling Salesperson (Handlungsreisenden-Problem)\n",
    "\n",
    "Als Beispiel für eine fakultative Laufzeit betrachten wir das Handlungsreisenden-Problem:\n",
    "\n",
    "- Ein Handlungsreisender muss fünf verschiedene Städte besuchen\n",
    "- Ziel ist die Reisestrecke zu minimieren\n",
    "\n",
    "<img src=\"./img/18_TSP_Karte.png\" width=\"40%\" align=\"middle\">"
   ]
  },
  {
   "cell_type": "markdown",
   "metadata": {
    "slideshow": {
     "slide_type": "slide"
    }
   },
   "source": [
    "## Exkurs: Traveling Salesperson (Handlungsreisenden-Problem)\n",
    "\n",
    "Einfacher enumerativer (aufzählender) Ansatz:\n",
    "\n",
    "Alle möglichen Kombinationen ausprobieren und die kürzeste Route wählen\n",
    "\n",
    "<img src=\"./img/19_TSP_Routen.png\" width=\"80%\" align=\"middle\">\n",
    "\n",
    "- Für 5 Städte gibt es 120 Möglichkeiten \n",
    "- Eine Möglichkeit auszuwerten entspricht einer Operation\n",
    "- Anzahl der Operationen wächst enorm schnell an\n",
    "\n",
    "**Anmerkung:** Die hier abgebildeten Lösungen sind genau genommen keine TSP-Lösungen, denn beim TSP werden Rundtouren gebildet, bei denen man an den Startpunkt zurückkehrt"
   ]
  },
  {
   "cell_type": "markdown",
   "metadata": {
    "slideshow": {
     "slide_type": "slide"
    }
   },
   "source": [
    "## Exkurs: Traveling Salesperson (Handlungsreisenden-Problem)\n",
    "\n",
    "Operationen, die bei einem enumerativen (aufzählenden) Ansatz für das Handlungsreisenden-Problem benötigt würden:\n",
    "\n",
    "<img src=\"./img/20_TSP_Tabelle.png\" width=\"60%\" align=\"middle\">\n",
    "\n",
    "><div class=\"alert alert-block alert-info\">\n",
    "<b>Kennen Sie bessere TSP-Algorithmen?</b></div>\n",
    "\n",
    "- genauere Betrachtung des Handlungsreisenden-Problems in Teil 8 der Vorlesung\n",
    "- oder in folgendem Buch: **[In Pursuit of the Traveling Salesman](https://press.princeton.edu/books/paperback/9780691163529/in-pursuit-of-the-traveling-salesman)**"
   ]
  },
  {
   "cell_type": "markdown",
   "metadata": {
    "slideshow": {
     "slide_type": "slide"
    }
   },
   "source": [
    "## Zusammenfassung\n",
    "\n",
    "Wir haben erste **Suchalgorithmen** kennengelernt und dabei betrachtet:\n",
    "- deren Funktionsweise\n",
    "- erste Implementierungen in Python\n",
    "- diese hatten sehr unterschiedliche (worst-case) Laufzeiten\n",
    "\n",
    "Zum Vergleich der Laufzeiteffizienz von Algorithmen haben wir inbesondere die wichtige **O-Notation** kennengelernt.\n"
   ]
  },
  {
   "cell_type": "markdown",
   "metadata": {
    "slideshow": {
     "slide_type": "fragment"
    }
   },
   "source": [
    "### Ausblick\n",
    "- Man kann die Suche nach einem Element aus eine Menge sogar in $O(1)$ schaffen - mit der richtigen Datenstruktur (*Hashmap* - lernen wir später kennen)\n",
    "- Im folgenden Teil beschäftigen wir uns mit \n",
    "  - einfachen Datenstrukturen\n",
    "  - ersten Sortieralgorithmen\n",
    "\n",
    "\n",
    "\n",
    "In der **Übung am Donnerstag** werden wir uns mit der Implementierung von Algorithmen in Python beschäftigen"
   ]
  }
 ],
 "metadata": {
  "celltoolbar": "Slideshow",
  "kernelspec": {
   "display_name": "Python [conda env:audprojekt2022]",
   "language": "python",
   "name": "conda-env-audprojekt2022-py"
  },
  "language_info": {
   "codemirror_mode": {
    "name": "ipython",
    "version": 3
   },
   "file_extension": ".py",
   "mimetype": "text/x-python",
   "name": "python",
   "nbconvert_exporter": "python",
   "pygments_lexer": "ipython3",
   "version": "3.9.12"
  },
  "toc": {
   "base_numbering": 1,
   "nav_menu": {},
   "number_sections": false,
   "sideBar": true,
   "skip_h1_title": false,
   "title_cell": "Table of Contents",
   "title_sidebar": "Contents",
   "toc_cell": false,
   "toc_position": {},
   "toc_section_display": true,
   "toc_window_display": false
  },
  "varInspector": {
   "cols": {
    "lenName": 16,
    "lenType": 16,
    "lenVar": 40
   },
   "kernels_config": {
    "python": {
     "delete_cmd_postfix": "",
     "delete_cmd_prefix": "del ",
     "library": "var_list.py",
     "varRefreshCmd": "print(var_dic_list())"
    },
    "r": {
     "delete_cmd_postfix": ") ",
     "delete_cmd_prefix": "rm(",
     "library": "var_list.r",
     "varRefreshCmd": "cat(var_dic_list()) "
    }
   },
   "types_to_exclude": [
    "module",
    "function",
    "builtin_function_or_method",
    "instance",
    "_Feature"
   ],
   "window_display": false
  }
 },
 "nbformat": 4,
 "nbformat_minor": 4
}
