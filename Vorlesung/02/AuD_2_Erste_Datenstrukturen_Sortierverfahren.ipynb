{
 "cells": [
  {
   "cell_type": "markdown",
   "metadata": {
    "slideshow": {
     "slide_type": "slide"
    }
   },
   "source": [
    "<img src=\"./img/logo_wiwi.png\" width=\"23%\" align=\"left\">\n",
    "<img src=\"./img/decision_analytics_logo.png\" width=\"17%\" align=\"right\">\n",
    "\n",
    "<br><br><br><br>\n",
    "\n",
    "\n",
    "## Algorithmen und Datenstrukturen\n",
    "Wintersemester 2024/25\n",
    "\n",
    "\n",
    "\n",
    "# 2 Grundlegende Datenstrukturen und ein erster Sortieralgorithmus\n",
    "\n",
    "\n",
    "<br><br><br>\n",
    "J-Prof. Dr. Michael Römer, Jakob Schulte"
   ]
  },
  {
   "cell_type": "markdown",
   "metadata": {
    "cell_style": "center",
    "slideshow": {
     "slide_type": "slide"
    }
   },
   "source": [
    "## Überblick\n",
    "\n",
    "1. Was sind Datenstrukturen?\n",
    "2. Funktionsweise des Arbeitsspeichers\n",
    "3. Arrays und Linked Lists\n",
    "4. Der Selection-Sort-Algorithmus\n",
    "5. Python Implementierung von Selectionsort"
   ]
  },
  {
   "cell_type": "markdown",
   "metadata": {
    "slideshow": {
     "slide_type": "slide"
    }
   },
   "source": [
    "## 1. Was sind Datenstrukturen?"
   ]
  },
  {
   "cell_type": "markdown",
   "metadata": {
    "slideshow": {
     "slide_type": "slide"
    }
   },
   "source": [
    "## Was sind Datenstrukturen?"
   ]
  },
  {
   "cell_type": "markdown",
   "metadata": {
    "slideshow": {
     "slide_type": "-"
    }
   },
   "source": [
    "### Definition\n",
    "\n",
    "Eine Datenstruktur ist ein Objekt, welches zur **Speicherung** und **Organisation** von **Daten** dient.\n",
    "\n",
    "- **Daten**: es werden Datenobjekte betrachtet (nicht auf spezielle Datentypen beschränkt).\n",
    "- **Speicherung**: Diese Daten werden in einer festgelegten Form auf einem Medium gespeichert.\n",
    "- **Organisation**: Von dort aus können sie abgerufen und verändert werden."
   ]
  },
  {
   "cell_type": "markdown",
   "metadata": {
    "slideshow": {
     "slide_type": "slide"
    }
   },
   "source": [
    "#### Datenstrukturen vs Datentypen\n",
    "\n",
    "**Datentyp:** \n",
    "- definiert Wertebereich und möglichen Operationen\n",
    "- z.B. **int**(eger): ganze Zahlen; Bsp. für Operationen: Multiplikation, Addition, Subtraktion\n",
    "\n",
    "**Datenstruktur:**\n",
    "- \"Behälter\" zur struktuierten \"Ablage\" von Werten (die einen Datentyp haben)\n",
    "- bietet Operationen zum Ablegen, Suchen, Entfernen von Werten\n",
    "- für unterschiedliche Strukturen sind diese Operationen unterschiedlich aufwendig\n",
    "- je nach Algorithmus können verschiedene Datenstrukuren vorteilhaft sein"
   ]
  },
  {
   "cell_type": "markdown",
   "metadata": {
    "slideshow": {
     "slide_type": "slide"
    }
   },
   "source": [
    "## Funktionsweise des Arbeitsspeichers"
   ]
  },
  {
   "cell_type": "markdown",
   "metadata": {
    "slideshow": {
     "slide_type": "slide"
    }
   },
   "source": [
    "## Funktionsweise des Arbeitsspeichers\n",
    "\n",
    "### Gaderobenbeispiel\n",
    "In einem Theater sollen Besucher vor der Vorstellung Gegenstände abgeben können. Dafür steht ein Schubladenschrank zur Verfügung.\n",
    "\n",
    "<img src=\"./img/01_Schrank.png\" width=\"50%\" align=\"middle\">"
   ]
  },
  {
   "cell_type": "markdown",
   "metadata": {
    "slideshow": {
     "slide_type": "slide"
    }
   },
   "source": [
    "### Gaderobenbeispiel\n",
    "Jede Schublade kann genau ein Objekt aufnehmen\n",
    "\n",
    "<img src=\"./img/02_Schubladen.png\" width=\"40%\" align=\"middle\">"
   ]
  },
  {
   "cell_type": "markdown",
   "metadata": {
    "slideshow": {
     "slide_type": "fragment"
    }
   },
   "source": [
    "In diesem Fall werden zwei Objekte gelagert\n",
    "\n",
    "<img src=\"./img/03_Schubladen_Inhalt.png\" width=\"40%\" align=\"middle\">"
   ]
  },
  {
   "cell_type": "markdown",
   "metadata": {
    "slideshow": {
     "slide_type": "slide"
    }
   },
   "source": [
    "### Parallele zum Arbeitsspeicher\n",
    "\n",
    "- Arbeitsspeicher funktioniert nach dem gleichen Prinzip: Es gibt eine riesige Menge von \"Schubladen\" \n",
    "- Jede davon hat eine eindeutige Adresse\n",
    "\n",
    "<img src=\"./img/04_Arbeitsspeicher.png\" width=\"60%\" align=\"middle\">\n",
    "\n",
    "- Ein Datenobjekt kann in einer Zelle im Arbeitsspeicher abgelegt werden\n",
    "- Wie vorgehen, wenn mehrere Objekte gespeichert werden sollen?"
   ]
  },
  {
   "cell_type": "markdown",
   "metadata": {
    "slideshow": {
     "slide_type": "slide"
    }
   },
   "source": [
    "## 2. Arrays und Linked Lists (Verkettete Listen)"
   ]
  },
  {
   "cell_type": "markdown",
   "metadata": {
    "slideshow": {
     "slide_type": "slide"
    }
   },
   "source": [
    "## Arrays und Linked Lists (Verkettete Listen)\n",
    "\n",
    "><div class=\"alert alert-block alert-info\">\n",
    "<b>Wie kann man mehrere zusammenhängende Elemente speichern?</b></div>\n",
    "\n",
    "- Zwei der grundlegenden Datenstrukturen sind Arrays und Linked Lists\n",
    "- Beide haben Vor- und Nachteile, insbesondere in Bezug auf die wesentlichen Operationen:\n",
    "  - Hinzufügen von Elementen\n",
    "  - Zugriff auf Elemente (insbes. Frage nach dem $n$-ten Element)\n",
    "  - Löschen von Elementen"
   ]
  },
  {
   "cell_type": "markdown",
   "metadata": {
    "slideshow": {
     "slide_type": "fragment"
    }
   },
   "source": [
    "#### Wir betrachten zur Erläuterung folgendes Beispiel:\n",
    "\n",
    "Wir wollen eine To-Do-Liste anlegen, in der wir Aufgaben speichern\n",
    "\n",
    "<img src=\"./img/05_To_do.png\" width=\"30%\" align=\"middle\">"
   ]
  },
  {
   "cell_type": "markdown",
   "metadata": {
    "cell_style": "center",
    "slideshow": {
     "slide_type": "slide"
    }
   },
   "source": [
    "### Arrays: Grundidee\n",
    "\n",
    "- Einzelne Elemente (Aufgaben) werden **zusammenhängend** (d.h. **nebeneinander**) im Speicher hinterlegt\n",
    "- die Speicherung ist sehr kompakt, die Adresse jedes einzelnen Elements kann effizient berechnet werden\n",
    "\n",
    "\n",
    "<img src=\"./img/06_To_do_Array.png\" width=\"50%\" align=\"center\">"
   ]
  },
  {
   "cell_type": "markdown",
   "metadata": {
    "slideshow": {
     "slide_type": "slide"
    }
   },
   "source": [
    "### Arrays: Hinzufügen neuer Elemente\n",
    "\n",
    "**Problem:** Was passiert, wenn wir ein Element hinzufügen wollen?\n",
    "\n",
    "<img src=\"./img/07_To_do_Array_voll.png\" width=\"50%\" align=\"center\">\n"
   ]
  },
  {
   "cell_type": "markdown",
   "metadata": {
    "slideshow": {
     "slide_type": "fragment"
    }
   },
   "source": [
    "- Wenn kein Platz mehr für ein neues Objekt ist, muss das Array \"umgesiedelt\" (Fachbegriff: neu allokiert) werden\n",
    "- Es muss ein neuer Bereich mit hinreichend großem Speicherplatz gesucht werden (im Beispiel: Platz für vier Elemente)\n",
    "- Bei jedem weiteren Objekt kann das Problem erneut auftreten, was recht aufwendig sein kann \n",
    "  - stellen Sie sich vor, sie möchten im Kino mit Ihren Freunden zusammensitzen, und jedes Mal, wenn noch jemand dazustößt, müssten Sie sich einen neuen großen Platz suchen\n",
    "\n",
    "\n",
    "><div class=\"alert alert-block alert-info\">\n",
    "<b> Kann man das Problem umgehen / abmildern und wenn ja, wie?   \n",
    "</b></div>\n",
    "\n",
    "><div class=\"alert alert-block alert-info\">\n",
    "<b> Was \"kostet\" das, d.h. was sind Nachteile Ihres vorgeschlagenen Vorgehens? </b></div>"
   ]
  },
  {
   "cell_type": "markdown",
   "metadata": {
    "slideshow": {
     "slide_type": "slide"
    }
   },
   "source": [
    "## Linked Lists (verkettete Listen)\n",
    "\n",
    "- eine \"hinzufügefreundliche\" Datenstruktur, die eine Reallokation beim Hinzufügen umgeht\n",
    "- **Idee:** Einzelne Elemente der Liste werden über den Speicher hinweg verteilt \n",
    "- dadurch braucht man keine großen zusammenhängenden Speicherbereich, man speichert für den Zugriff lediglich das erste (und meist auch das letzte) Element\n",
    "\n",
    "<img src=\"./img/08_To_do_List.png\" width=\"60%\" align=\"center\">"
   ]
  },
  {
   "cell_type": "markdown",
   "metadata": {
    "slideshow": {
     "slide_type": "slide"
    }
   },
   "source": [
    "## Linked Lists (verkettete Listen)\n",
    "\n",
    "- um den \"logischen\" Zusammenhang der Liste sicherzustellen, speichert man **zusätzlich** zum Inhalt der Elemente die **Adresse des nächsten Elements**\n",
    "\n",
    "\n",
    "<img src=\"./img/09_To_do_List_Links.png\" width=\"50%\" align=\"middle\">"
   ]
  },
  {
   "cell_type": "markdown",
   "metadata": {
    "slideshow": {
     "slide_type": "fragment"
    }
   },
   "source": [
    "#### Nachteil:\n",
    "- Elemente sind nicht alle beieinander, man kann nicht ohne weiteres die Länge der Liste und deren Elemente (außer das erste und ggf. das letzte) sehen\n",
    "- um spätere Elemente sehen zu können, muss man sich durch die Liste arbeiten: Vom ersten Objekt bekommt man die Adresse des zweiten, von dem die des dritten usw.\n",
    "- das \"Springen\" im Speicher dauert deutlich länger als das auslesen nebeneinander liegender Bereiche\n"
   ]
  },
  {
   "cell_type": "markdown",
   "metadata": {
    "cell_style": "center",
    "slideshow": {
     "slide_type": "slide"
    }
   },
   "source": [
    "## Linked Lists (verkettete Listen)\n",
    "\n",
    "- um den \"logischen\" Zusammenhang der Liste sicherzustellen, speichert man **zusätzlich** zum Inhalt der Elemente die **Adresse des nächsten Elements**\n",
    "\n",
    "\n",
    "<img src=\"./img/09_To_do_List_Links.png\" width=\"50%\" align=\"center\">\n",
    "\n",
    "#### Vorteil:\n",
    "- das Hinzufügen wird einfach: Ein neues Objekt kommt irgendwo in den Arbeitsspeicher und die Adresse wird im bisher letzten Element hinterlegt\n",
    "- es ist nie notwendig, die ganze Liste zu verschieben (einen kompletten Speicherblock zu allokieren)\n",
    "- wenn nicht genügend zusammenhängender Speicher verfügbar ist, (bei sehr großen Listen) ist das kein Problem (für Arrays wäre das kritisch)"
   ]
  },
  {
   "cell_type": "markdown",
   "metadata": {
    "slideshow": {
     "slide_type": "slide"
    }
   },
   "source": [
    "## Arrays erlauben effizienten Zugriff!\n",
    "\n",
    "- Problem bei Linked Lists: Zugreifen auf Elemente weit hinten in der Liste aufwendig, da nicht klar ist, wo genau welches Element im Speicher liegt\n",
    "- stattdessen muss auf Objekt 1 zugegriffen und die Nachfolgeradresse abgefragt werden, dann auf Objekt 2 usw.\n",
    "- Hin- und herspringen in der Liste ist vergleichbarr \"teuer\"\n",
    "\n",
    "#### Wie ist das bei Arrays?\n",
    "- Speicherort des ersten Elements bekannt (wie bei Linked List)\n",
    "- dadurch ergeben sich alle weiteren Speicherorte, da sie in Reihenfolge nebeneinander sind und die für jedes Element benötigte Speichergröße bekannt ist\n",
    "\n",
    "<img src=\"./img/10_Arrays_Zugriff.png\" width=\"60%\" align=\"center\">"
   ]
  },
  {
   "cell_type": "markdown",
   "metadata": {
    "slideshow": {
     "slide_type": "fragment"
    }
   },
   "source": [
    "- wenn wir die Todos in Python in einem Array `todos` speichern, bekommen man z.B. das dritte Element eines Arrays mit `todos[2]` (weil wir 0-Indexierung haben; das erste Element ist `todos[0]`\n",
    "- alle Elemente sind gleich einfach zu erreichen $\\rightarrow$ für Zugriffe Arrays besser"
   ]
  },
  {
   "cell_type": "markdown",
   "metadata": {
    "slideshow": {
     "slide_type": "slide"
    }
   },
   "source": [
    "### Vergleich Arrays und Linked Lists\n",
    "\n",
    "- Arrays und Listen haben verschiedene Vor- und Nachteile\n",
    "- die richtige Auswahl hängt vom zu implementierenden Algorithmus ab\n",
    "- siehe folgende (worst case)-Laufzeiten:\n",
    "\n",
    "<img src=\"./img/11_Vergleich_Arr_List.png\" width=\"40%\" align=\"middle\">\n",
    "\n",
    "- Für Lesen (Zugreifen) eignen sich wie bereits erläutert Arrays besser \n",
    "\n",
    "><div class=\"alert alert-block alert-info\">\n",
    "<b>Warum dauert Einfügen in ein Array $O(n)$?</b></div>"
   ]
  },
  {
   "cell_type": "markdown",
   "metadata": {
    "slideshow": {
     "slide_type": "slide"
    }
   },
   "source": [
    "## Vergleich Arrays und Linked Lists: Hinzufügen eines Elements\n",
    "\n",
    "\n",
    "#### Linked List\n",
    "- Hinzufügen  von Elementen in eine Linked List ist einfach:\n",
    "    1. Start der Liste ist das neue Element\n",
    "    2. Zieladresse des neuen Elements ist das alte erste Element\n",
    "- analog: Hinzufügen am Ende, wenn man das letzte Element kennt\n",
    "- Umsetzung in $O(1)$, da nicht abhängig von Länge der Liste\n",
    "\n",
    "#### Array\n",
    "- Einfügen in Array möglicherweise sehr aufwendig\n",
    "- Wenn kein Platz mehr im Array, so müssen **alle  n Elemente**  verschoben werden\n",
    "- Zeitkomplexität im Worst Case $O(n)$\n",
    "\n",
    "\n"
   ]
  },
  {
   "cell_type": "markdown",
   "metadata": {
    "slideshow": {
     "slide_type": "slide"
    }
   },
   "source": [
    "## Vergleich Arrays und Linked Lists: Einfügen in der Mitte\n",
    "\n",
    "- Beispiel Aufgabenliste von vorher, jetzt aber mit Beachtung der Reihenfolge\n",
    "\n",
    "<img src=\"./img/12_To_do_un_sortiert.png\" width=\"60%\" align=\"middle\">\n",
    "\n",
    "- Es wäre gut, auch in der Mitte der Liste einfügen zu können"
   ]
  },
  {
   "cell_type": "markdown",
   "metadata": {
    "cell_style": "center",
    "slideshow": {
     "slide_type": "slide"
    }
   },
   "source": [
    "## Einfügen in der Mitte bei Linked Lists\n",
    "\n",
    "- Für Linked Lists recht einfach, nur der Adressverweis des vorherigen Elements muss geändert werden\n",
    "- **Vorsicht:** Falls wir die Stelle, an der wir einfügen wollen, noch nicht kennen, müssen wir erst die Liste durchsuchen\n",
    "- Zugriff hat Komplexität $O(n)$\n",
    "\n",
    "<img src=\"./img/13_Lists_einfügen.png\" width=\"90%\" align=\"middle\">\n",
    "\n",
    "- Einfügen am Anfang/Ende der Liste weiterhin $O(1)$"
   ]
  },
  {
   "cell_type": "markdown",
   "metadata": {
    "slideshow": {
     "slide_type": "slide"
    }
   },
   "source": [
    "## Einfügen in der Mitte bei Arrays\n",
    "\n",
    "- Arrays haben gleiches Problem wie vorher (ggf. Verschieben des ganzen Arrays nötig)\n",
    "- Zusätzlich müssen jedes Mal alle nachfolgenden Elemente der Liste verschoben werden\n",
    "\n",
    "<img src=\"./img/14_Arrays_einfügen.png\" width=\"80%\" align=\"middle\">"
   ]
  },
  {
   "cell_type": "markdown",
   "metadata": {
    "slideshow": {
     "slide_type": "slide"
    }
   },
   "source": [
    "### Vergleich Arrays und Linked Lists: Löschen\n",
    "\n",
    "\n",
    "#### Linked Lists\n",
    "- Löschen ist \"umgekehrt\" zum Einfügen: das Element wird enfernt, indem der Verweis im vorherigen Element auf das nächste Element des zu löschenden Elements gesetzt wird\n",
    "- Aufwand analog zum Einfügen:\n",
    "    - Erstes Element kann problemlos gelöscht werden, da der Verweis für erstes Element auf das bisher zweite Element gesetzt wird\n",
    "- Bei Löschen in der Mitte der Liste muss ggf. erst das vorherige Element gefunden werden - diese Suche (der Zugriff) hat die Komplexität $O(n)$)"
   ]
  },
  {
   "cell_type": "markdown",
   "metadata": {
    "slideshow": {
     "slide_type": "fragment"
    }
   },
   "source": [
    "#### Arrays\n",
    "- Löschen erfordert kein Verschieben der ganzen Liste, da weniger Platz benötigt als vorher\n",
    "- Aber: verschieben nach vorne für alle Elemente die nach gelöschtem kommen\n",
    "- Resultiert wieder in Aufwand $O(n)$"
   ]
  },
  {
   "cell_type": "markdown",
   "metadata": {
    "slideshow": {
     "slide_type": "slide"
    }
   },
   "source": [
    "## Vergleich Arrays und Linked Lists\n",
    "\n",
    "<img src=\"./img/15_Vergleich_Übersicht.png\" width=\"50%\">\n",
    "\n",
    "- beide Datenstrukturen haben Vor- und Nachteile\n",
    "  - kommen je nach Anwendung zum Tragen\n",
    "- wichtig: \n",
    "  - die $O(1)$ bei linked lists gelten nur, wenn die entsprechenden Positionen bekannt sind (s.o.)\n",
    "  - die linked list braucht mehr Speicher, weil auch der Verweis gespeichert werden muss\n",
    "  - die konstante Zeit der Einzeloperationen sind bei Arrays oftmals geringer als bei linked lists\n",
    "  - auch die (lineare) Iteration (das \"Durchlaufen\") durch ein Array ist wesentlich schneller als bei einer linked list"
   ]
  },
  {
   "cell_type": "markdown",
   "metadata": {
    "slideshow": {
     "slide_type": "slide"
    }
   },
   "source": [
    "## Aufgabe:\n",
    "\n",
    "Nehmen wir an, Sie entwickeln eine App, mit der in Restaurants Bestellungen\n",
    "aufgenommen werden. Die App muss also eine Liste von Bestellungen\n",
    "speichern. Die Bedienungen fügen fortlaufend Bestellungen hinzu und die\n",
    "Köche entnehmen sie der Liste und bereiten sie zu. \n",
    "\n",
    "<img src=\"./img/16a_Aufgabe.png\" width=\"70%\"> <br>\n",
    "\n",
    "><div class=\"alert alert-block alert-info\">\n",
    "<b> Wäre für die Abbildung der Warteschlange eher ein Array oder eine Liste geeignet?</b></div>"
   ]
  },
  {
   "cell_type": "markdown",
   "metadata": {
    "slideshow": {
     "slide_type": "slide"
    }
   },
   "source": [
    "## Achtung: `list` in Python\n",
    "\n",
    "- eine der wichtigsten grundlegenden Datenstrukturen in Python ist die `list`"
   ]
  },
  {
   "cell_type": "code",
   "execution_count": 7,
   "metadata": {
    "slideshow": {
     "slide_type": "-"
    }
   },
   "outputs": [
    {
     "data": {
      "text/plain": [
       "'Tee trinken'"
      ]
     },
     "execution_count": 7,
     "metadata": {},
     "output_type": "execute_result"
    }
   ],
   "source": [
    "todo_liste = [\"Frühstück\", \"Boccia\"]\n",
    "todo_liste.append(\"Tee trinken\")\n",
    "todo_liste[2]"
   ]
  },
  {
   "cell_type": "markdown",
   "metadata": {
    "slideshow": {
     "slide_type": "-"
    }
   },
   "source": [
    "- `list` biete alle wesentlichen Listen-Funktionen an: (`append`, `insert`, `remove`)\n",
    "   - wir sagen: sie hat die Programmierschnittstelle einer Liste\n",
    "- sie ist allerdings \"intern\" als Array implementiert, wobei mehr Speicher reserviert wird, als die Liste braucht\n",
    "  - daher ist eine Re-allokation nicht jedes Mal nötig\n",
    "  - Zugriff der Python-`list` kostet entsprechend nur $O(1)$\n",
    "- in sehr vielen Fällen wird dies die richtige Datenstruktur sein\n",
    "\n",
    "- **im Buch \"Algorithmen kapieren\" wird die Datenstruktur `list` daher als Array bezeichnet!**\n",
    "\n",
    "\n",
    "><div class=\"alert alert-block alert-info\">\n",
    "<b> Wie komplex ist das Entfernen des ersten Elements in einer Python-`list`?</b></div>"
   ]
  },
  {
   "cell_type": "markdown",
   "metadata": {
    "slideshow": {
     "slide_type": "slide"
    }
   },
   "source": [
    "## Gibt es eine verkettete Liste in Python?\n",
    "- die Datenstruktur `deque` ist eine doppelt verkettete Liste\n",
    "  - es wird nicht nur der Nachfolger, sonderen auch der Vorgänger gespeichert\n",
    "- das Einfügen/Löschen am Anfang und am Ende hat entsprechend einen Aufwand von $O(1)$\n",
    "- der Zugriff bei einem bestimmten Index hat allerdings einen Aufwand von $O(n)$"
   ]
  },
  {
   "cell_type": "code",
   "execution_count": 8,
   "metadata": {
    "slideshow": {
     "slide_type": "-"
    }
   },
   "outputs": [
    {
     "name": "stdout",
     "output_type": "stream",
     "text": [
      "deque(['Kaffee kochen', 'Frühstück', 'Boccia', 'Tee trinken'])\n",
      "Tee trinken\n",
      "deque(['Kaffee kochen', 'Frühstück', 'Boccia'])\n"
     ]
    }
   ],
   "source": [
    "from collections import deque\n",
    "\n",
    "example_deque = deque([\"Frühstück\", \"Boccia\"])\n",
    "\n",
    "example_deque.append(\"Tee trinken\") # hinten anfügen\n",
    "example_deque.appendleft(\"Kaffee kochen\") #vorn einfügen\n",
    "\n",
    "print(example_deque)\n",
    "\n",
    "last_element = example_deque.pop()\n",
    "print(last_element)\n",
    "print(example_deque)\n"
   ]
  },
  {
   "cell_type": "markdown",
   "metadata": {
    "slideshow": {
     "slide_type": "slide"
    }
   },
   "source": [
    "## Experimenteller Vergleich: `list` (array) vs `deqeue` (linked List)"
   ]
  },
  {
   "cell_type": "markdown",
   "metadata": {
    "slideshow": {
     "slide_type": "-"
    }
   },
   "source": [
    "Wir nutzen `%%time` am Anfang der Code-Zelle, um die Zeit zu messen"
   ]
  },
  {
   "cell_type": "markdown",
   "metadata": {
    "slideshow": {
     "slide_type": "-"
    }
   },
   "source": [
    "#### Hinzufügen von Elementen (am Ende)\n",
    "\n",
    "Python `list` (ist als Array implementiert)"
   ]
  },
  {
   "cell_type": "code",
   "execution_count": 16,
   "metadata": {
    "slideshow": {
     "slide_type": "-"
    }
   },
   "outputs": [
    {
     "name": "stdout",
     "output_type": "stream",
     "text": [
      "CPU times: total: 62.5 ms\n",
      "Wall time: 60.2 ms\n"
     ]
    }
   ],
   "source": [
    "%%time\n",
    "anzahl_elemente_experiment = 500000\n",
    "test_list = []\n",
    "\n",
    "for i in range( anzahl_elemente_experiment ):\n",
    "    test_list.append(i)"
   ]
  },
  {
   "cell_type": "markdown",
   "metadata": {
    "slideshow": {
     "slide_type": "fragment"
    }
   },
   "source": [
    "Python `deque` (als doppelt verkettete Liste / linked list implementiert):"
   ]
  },
  {
   "cell_type": "code",
   "execution_count": 21,
   "metadata": {
    "slideshow": {
     "slide_type": "-"
    }
   },
   "outputs": [
    {
     "name": "stdout",
     "output_type": "stream",
     "text": [
      "CPU times: total: 46.9 ms\n",
      "Wall time: 49.9 ms\n"
     ]
    }
   ],
   "source": [
    "%%time\n",
    "test_deque = deque()\n",
    "for i in range( anzahl_elemente_experiment ):\n",
    "    test_deque.append(i)"
   ]
  },
  {
   "cell_type": "markdown",
   "metadata": {
    "slideshow": {
     "slide_type": "slide"
    }
   },
   "source": [
    "## Experimenteller Vergleich: `list` (array) vs `deqeue` (linked List)"
   ]
  },
  {
   "cell_type": "markdown",
   "metadata": {
    "slideshow": {
     "slide_type": "-"
    }
   },
   "source": [
    "#### Hinzufügen von Elementen (am Anfang)\n",
    "\n",
    "Python `list` (ist als Array implementiert)"
   ]
  },
  {
   "cell_type": "code",
   "execution_count": 22,
   "metadata": {
    "slideshow": {
     "slide_type": "-"
    }
   },
   "outputs": [
    {
     "name": "stdout",
     "output_type": "stream",
     "text": [
      "CPU times: total: 39.5 s\n",
      "Wall time: 39.5 s\n"
     ]
    }
   ],
   "source": [
    "%%time\n",
    "test_list = []\n",
    "\n",
    "for i in range( anzahl_elemente_experiment ):\n",
    "    test_list.insert(0,i) # fügt an der Stelle 0 (d.h. am Anfang) ein"
   ]
  },
  {
   "cell_type": "markdown",
   "metadata": {
    "slideshow": {
     "slide_type": "fragment"
    }
   },
   "source": [
    "Python `deque` (als doppelt verkettete Liste / linked list implementiert):"
   ]
  },
  {
   "cell_type": "code",
   "execution_count": 23,
   "metadata": {
    "slideshow": {
     "slide_type": "-"
    }
   },
   "outputs": [
    {
     "name": "stdout",
     "output_type": "stream",
     "text": [
      "CPU times: total: 46.9 ms\n",
      "Wall time: 39.9 ms\n"
     ]
    }
   ],
   "source": [
    "%%time\n",
    "test_deque = deque()\n",
    "for i in range( anzahl_elemente_experiment ):\n",
    "    test_deque.appendleft(i)"
   ]
  },
  {
   "cell_type": "markdown",
   "metadata": {
    "slideshow": {
     "slide_type": "slide"
    }
   },
   "source": [
    "## 4. Selection Sort"
   ]
  },
  {
   "cell_type": "markdown",
   "metadata": {
    "slideshow": {
     "slide_type": "slide"
    }
   },
   "source": [
    "## Selection Sort\n",
    "\n",
    "Selection Sort ist ein *Sortieralgorithmus*, der dazu genutzt wird, Auflistungen nach einem vorgegebenen Schema zu sortieren.\n",
    "- Auflistungen können dabei verschiedene Datenstrukturen nutzen\n",
    "- Vorzüge von Datenstrukturen lassen sich gut an Algorithmen sehen, welche sie verwenden\n",
    "- Verschiedene Sortieralgorithmen sind unterschiedlich schnell\n",
    "- In der Vorlesung werden mehrere Sortieralgorithmen vorgestellt"
   ]
  },
  {
   "cell_type": "markdown",
   "metadata": {
    "slideshow": {
     "slide_type": "slide"
    }
   },
   "source": [
    "### Beispiel: Musikliste\n",
    "\n",
    "- Gegeben ist Liste von Interpreten und wie oft ihre Lieder abgespielt wurden\n",
    "\n",
    "<img src=\"./img/16_Musikliste.png\" width=\"40%\" align=\"middle\">\n",
    "\n",
    "\n",
    "#### Diese Liste soll nach der Häufigkeit des Abspielens sortiert werden\n",
    "- häufig wiedergegebene Musiker*innen sollen oben stehen, selten gehörte unten\n",
    "\n",
    "><div class=\"alert alert-block alert-info\">\n",
    "<b>Was wäre ein mögliches Vorgehen dafür?</b></div>\n",
    "\n"
   ]
  },
  {
   "cell_type": "markdown",
   "metadata": {
    "heading_collapsed": true,
    "slideshow": {
     "slide_type": "slide"
    }
   },
   "source": [
    "### Ein erstes Sortierverfahren: Die Kernidee von Selection Sort\n",
    "\n",
    "- Erstelle zunächst eine leere Liste für die sortierten Einträge\n",
    "#### Dann:\n",
    "- Finde den Eintrag mit dem höchsten Zähler\n",
    "- Hänge ihn an die sortierte Liste an\n",
    "- Entferne ihn aus der Ausgangsliste\n",
    "- Wiederhole diese Schritte, bis die Ausgangsliste leer ist\n",
    "\n",
    "<img src=\"./img/17_Musik_sort1.png\" width=\"75%\" align=\"middle\">"
   ]
  },
  {
   "cell_type": "markdown",
   "metadata": {
    "slideshow": {
     "slide_type": "slide"
    }
   },
   "source": [
    "### Selection Sort für die Musikliste: Weitere Schritte\n",
    "\n",
    "Wiederholen:\n",
    "\n",
    "<img src=\"./img/18_Musik_sort2.png\" width=\"75%\" align=\"middle\">"
   ]
  },
  {
   "cell_type": "markdown",
   "metadata": {
    "cell_style": "center",
    "slideshow": {
     "slide_type": "slide"
    }
   },
   "source": [
    "### Selection Sort für die Musikliste: Ergebnis\n",
    "\n",
    "Wenn alle Einträge in richtiger Reihenfolge übertragen wurden entsteht sortierte Liste:\n",
    "\n",
    "<img src=\"./img/19_Musik_sort3.png\" width=\"40%\" align=\"middle\">"
   ]
  },
  {
   "cell_type": "markdown",
   "metadata": {
    "slideshow": {
     "slide_type": "slide"
    }
   },
   "source": [
    "### Die Laufzeit von Selection Sort am Beispiel der Musikliste\n",
    "\n",
    "Wie oft muss jedes Element \"angefasst\" werden, um den gesamten Sortieralgorithmus auszuführen?\n",
    "\n",
    "Wir haben $n$ Elemente\n",
    "\n",
    "<img src=\"./img/20_Musik_Laufzeit.png\" width=\"75%\" align=\"middle\">"
   ]
  },
  {
   "cell_type": "markdown",
   "metadata": {
    "slideshow": {
     "slide_type": "slide"
    }
   },
   "source": [
    "### Die Laufzeit von Selection Sort am Beispiel der Musikliste\n",
    "\n",
    "####  Erster Teilschritt: Suchen des größten Elements\n",
    "- Im ersten Schritt suchen wir das größte Element\n",
    "- Dafür jedes Element einmal betrachtet  $\\rightarrow n$ Operationen\n",
    "- Komplexität für diesen Schritt also $O(n)$\n",
    "\n",
    "####  Wiederholung des ersten Teilschritts\n",
    "- Suchen des größten Elements ist $n$ mal erforderlich\n",
    "\n",
    "<img src=\"./img/21_Musik_Laufzeit_gesamt.png\" width=\"75%\" align=\"middle\">\n",
    "\n",
    "- Laufzeit von $O(n \\cdot n)$ oder kürzer geschrieben $O(n^2)$"
   ]
  },
  {
   "cell_type": "markdown",
   "metadata": {
    "slideshow": {
     "slide_type": "slide"
    }
   },
   "source": [
    "### Die Laufzeit von Selection Sort am Beispiel der Musikliste\n",
    "\n",
    "**Anmerkung:**\n",
    "- In jedem Schritt müssen weniger Elemente überprüft werden (im Schnitt $\\frac{1}{2} n$)\n",
    "- Insgesamt werden nur $\\frac{1}{2}n \\cdot n = \\frac{1}{2}n^2$ Operationen benötigt\n",
    "- Komplexität wird trotzdem als $O(n^2)$ angegeben, da Konstanten für Big-O Notation nicht relevant\n",
    "\n",
    "#### Fragen:\n",
    "\n",
    "><div class=\"alert alert-block alert-info\">\n",
    "<b>Welche Datenstrukturen eignen sich besser für die ursprüngliche Liste und für die sortierte Liste? Array oder Linked List?</b></div>\n"
   ]
  },
  {
   "cell_type": "markdown",
   "metadata": {
    "slideshow": {
     "slide_type": "slide"
    }
   },
   "source": [
    "## 5. Implementierung von Selection Sort in Python"
   ]
  },
  {
   "cell_type": "markdown",
   "metadata": {
    "slideshow": {
     "slide_type": "slide"
    }
   },
   "source": [
    "##  Implementierung von Selection Sort in Python\n",
    "\n",
    "Beispiel:: Sortiere eine Liste von Zahlen von klein nach groß\n",
    "\n",
    "### Aufbau des Algorithmus\n",
    "\n",
    "#### Wir nutzen:\n",
    "- die Ausgangsliste\n",
    "- eine neue Liste\n",
    "\n",
    "##### Algorithmus:\n",
    "1. Suche das kleinste Element der Ausgangsliste.\n",
    "2. Kopiere es in die neue Liste.\n",
    "3. Lösche es aus der Ausgangsliste.\n",
    "\n",
    "Wiederhole 1-3, bis Ausgangsliste leer ist.\n",
    "\n",
    "##### Ausgabe:\n",
    "Wir geben die neue (sortierte) Liste als Ergebnis aus"
   ]
  },
  {
   "cell_type": "markdown",
   "metadata": {
    "cell_style": "center",
    "slideshow": {
     "slide_type": "slide"
    }
   },
   "source": [
    "### Selection Sort: Suche des kleinsten Elements\n",
    "\n",
    "- Schritt 2 und 3 sind einfache Operationen\n",
    "- Für Schritt 1 muss selbst noch ein Algorithmus geschrieben werden:\n",
    "\n",
    "#### Wir nutzen:\n",
    "- eine Liste mit Elementen, in der wir das kleinste Element suchen\n",
    "- je eine Variable für das bisher kleinste Element und seine Position\n",
    "\n",
    "#### Algorithmus:\n",
    "1. Zunächst wird das erste Element wird als kleinstes Element gespeichert\n",
    "2. Vergleiche dann das nächste Element mit dem bisher kleinsten \n",
    "3. Wenn das nächste Element kleiner ist, wird die Variable für das kleinste Element aktualisiert\n",
    "\n",
    "Wiederhole 2 und 3, bis Ende der Liste erreicht ist\n",
    "\n",
    "#### Ausgabe:\n",
    "Wir geben das kleinste Element (bzw. die Position des kleinsten Elements) als Ergebnis zurück"
   ]
  },
  {
   "cell_type": "markdown",
   "metadata": {
    "slideshow": {
     "slide_type": "slide"
    }
   },
   "source": [
    "### Selection Sort - Teilschritt: Suche des kleinsten Elements in Python\n",
    "\n",
    "#### Algorithmus für kleinstes Element als Funktion:"
   ]
  },
  {
   "cell_type": "code",
   "execution_count": 2,
   "metadata": {
    "slideshow": {
     "slide_type": "fragment"
    }
   },
   "outputs": [],
   "source": [
    "def find_smallest(arr):\n",
    "\n",
    "    kleinstes = arr[0]        # Variable für das kleinste Element wird mit dem ersten Element belegt\n",
    "    position_kleinstes = 0    # Die Position des kleinsten Elements ist somit 0\n",
    "    \n",
    "    for position in range(1,len(arr)):    # Es wird jede weitere Position (Index) des Arrays betrachtet, len(arr) ist Länge des Arrays\n",
    "        if arr[position] < kleinstes:         # Wenn das aktuelle Element kleiner ist als das bisher kleinste...\n",
    "            kleinstes = arr[position]              # ... wird es als neues Kleinstes gespeichert...\n",
    "            position_kleinstes = position          # ... und seine Position festgehalten\n",
    "    # Hier wird zurück zum Beginn der for-Schleife gesprungen, wenn noch nicht am Ende der Liste angekommen\n",
    "    \n",
    "    return position_kleinstes     # Nachdem die gesamte Liste überprüft wurde, wird die Position des kleinsten Elements als Ergebnis zurückgegeben.\n"
   ]
  },
  {
   "cell_type": "markdown",
   "metadata": {
    "slideshow": {
     "slide_type": "slide"
    }
   },
   "source": [
    "### Selection Sort -  Teilschritt: Suche des kleinsten Elements in Python\n",
    "\n",
    "\n",
    "#### Algorithmus für kleinstes Element ausprobieren:"
   ]
  },
  {
   "cell_type": "code",
   "execution_count": 3,
   "metadata": {
    "slideshow": {
     "slide_type": "fragment"
    }
   },
   "outputs": [
    {
     "name": "stdout",
     "output_type": "stream",
     "text": [
      "Position des kleinsten Elementes: 4\n",
      "Kleinstes Element: 2\n"
     ]
    }
   ],
   "source": [
    "test_array = [5, 7, 3, 6, 2, 3, 8, 9, 4]\n",
    "\n",
    "position_smallest = find_smallest(test_array)\n",
    "\n",
    "print('Position des kleinsten Elementes:', position_smallest )\n",
    "\n",
    "smallest_element = test_array[ position_smallest ]\n",
    "\n",
    "print('Kleinstes Element:', smallest_element)\n"
   ]
  },
  {
   "cell_type": "markdown",
   "metadata": {
    "cell_style": "center",
    "slideshow": {
     "slide_type": "slide"
    }
   },
   "source": [
    "### Selection Sort: Gesamter Algorithmus in Python\n"
   ]
  },
  {
   "cell_type": "code",
   "execution_count": 4,
   "metadata": {
    "slideshow": {
     "slide_type": "fragment"
    }
   },
   "outputs": [],
   "source": [
    "def selection_sort(arr):\n",
    "    \n",
    "    neues_array = []        # Erstellt ein leeres Array, das unter der Variable 'neues_Array' zu finden ist\n",
    "    \n",
    "    while len(arr) > 0:    # Solange noch Elemente im Array sind:\n",
    "        kleinstes_position = find_smallest(arr)           # Position des kleinsten Element wird mit der Funktion 'find_smallest' (siehe oben) gefunden\n",
    "        kleinstes_element = arr[kleinstes_position]\n",
    "        arr.pop(kleinstes_position)\n",
    "        neues_array.append(kleinstes_element) #Erläuterung unten*\n",
    "   \n",
    "    return neues_array      # Nachdem alles sortiert wurde, wird das neue, sortierte Array als Ergebnis zurück gegeben"
   ]
  },
  {
   "cell_type": "markdown",
   "metadata": {
    "slideshow": {
     "slide_type": "-"
    }
   },
   "source": [
    "#### Erläuterung:\n",
    "- `neues_Array.append(...)` $\\rightarrow$ dem Ergebnis-Array wird ein neues Element am Ende hinzugefügt\n",
    "- `arr.pop(position)` $\\rightarrow$ aus dem Array wird  Array wird das Element mit Index `position` Element herausgenommen\n",
    "- `kleinstes_position` $\\rightarrow$ die Position des kleinsten Elements (wurde von `find_smallest` berechnet) "
   ]
  },
  {
   "cell_type": "markdown",
   "metadata": {
    "slideshow": {
     "slide_type": "slide"
    }
   },
   "source": [
    "### Selection Sort: Gesamter Algorithmus in Python\n",
    "\n",
    "#### Beispiel:"
   ]
  },
  {
   "cell_type": "code",
   "execution_count": 47,
   "metadata": {
    "slideshow": {
     "slide_type": "-"
    }
   },
   "outputs": [
    {
     "name": "stdout",
     "output_type": "stream",
     "text": [
      "Sortiertes Array: [2, 3, 3, 4, 5, 6, 7, 8, 9]\n"
     ]
    }
   ],
   "source": [
    "test_array = [5, 7, 3, 6, 2, 3, 8, 9, 4]\n",
    "\n",
    "\n",
    "print('Sortiertes Array:', selection_sort(test_array))\n"
   ]
  },
  {
   "cell_type": "markdown",
   "metadata": {
    "slideshow": {
     "slide_type": "slide"
    }
   },
   "source": [
    "## Übungsaufgaben / Frage:\n",
    "\n",
    "><div class=\"alert alert-block alert-info\">\n",
    "<b>Ändern Sie die Datenstruktur für die neue Liste in `deque`</b></div>\n",
    "\n",
    "><div class=\"alert alert-block alert-info\">\n",
    "<b>Probieren Sie es aus und stoppen Sie die Zeit, die für die Sortierung einer großen Liste benötigt wird</b></div>\n",
    "\n",
    "><div class=\"alert alert-block alert-info\">\n",
    "<b>Wäre es sinnvoll, auch die Ausgangsliste als `deque`zu implementieren? Was würde dafür, was dagegen sprechen?</b></div>\n",
    "\n",
    "\n",
    "\n",
    "**Hinweis** \n",
    "- Sie können wie folgt eine zufälligen ganzen Zahl zwischen 0 und einer Obergrenze erzeugen - auf diese Weise können Sie ein großes Array / eine große Liste füllen."
   ]
  },
  {
   "cell_type": "code",
   "execution_count": 5,
   "metadata": {
    "slideshow": {
     "slide_type": "slide"
    }
   },
   "outputs": [],
   "source": [
    "import random\n",
    "upper_bound = 100\n",
    "n = random.randint(0,upper_bound)\n"
   ]
  },
  {
   "cell_type": "code",
   "execution_count": null,
   "metadata": {
    "slideshow": {
     "slide_type": "-"
    }
   },
   "outputs": [],
   "source": [
    "big_array = []  # Füllen Sie das Array mit einer for-schleife oder mit einer list comprehension (1000 Elemente)\n"
   ]
  },
  {
   "cell_type": "code",
   "execution_count": 8,
   "metadata": {
    "scrolled": false,
    "slideshow": {
     "slide_type": "-"
    }
   },
   "outputs": [
    {
     "name": "stdout",
     "output_type": "stream",
     "text": [
      "CPU times: total: 2.19 s\n",
      "Wall time: 2.19 s\n"
     ]
    }
   ],
   "source": [
    "%%time\n",
    "result = selection_sort(big_array)"
   ]
  },
  {
   "cell_type": "markdown",
   "metadata": {
    "slideshow": {
     "slide_type": "slide"
    }
   },
   "source": [
    "## Zusammenfassung"
   ]
  },
  {
   "cell_type": "markdown",
   "metadata": {
    "slideshow": {
     "slide_type": "-"
    }
   },
   "source": [
    "- eine Datenstruktur dient zur Speicherung und Organisation von Daten\n",
    "- der Arbeitsspeicher ist vergleichbar mit einer riesigen Menge an nummerierten Schubladen, in denen jeweils ein Objekt abgelegt werden kann\n",
    "- Arrays und Linked Lists sind zwei grundlegende Datenstrukturen\n",
    "    - Array: Speicherung nebeneinander, schneller Zugriff\n",
    "    - Linked List: Speicherung verteilt, verknüpft durch Verweis auf Nachfolgeobjekt, effizientes Hinzufügen / löschen\n",
    "- je nach Verwendung im Algorithmus könnnen Linked Lists oder Arrays vorteilhaft sein\n",
    "- die Python `list` ist intern als Array implementiert, in dem mehr Speicher allokiert wird, als zunächst benötigt wird\n",
    "  - für die meisten Anwendungsfälle sehr gut verwendbar\n",
    "- Wir haben Selection Sort (+Implementierung) als einfache Form eines Sortieralgorithmus kennengelernt\n",
    "  "
   ]
  }
 ],
 "metadata": {
  "celltoolbar": "Slideshow",
  "kernelspec": {
   "display_name": "Python [conda env:audprojekt2022]",
   "language": "python",
   "name": "conda-env-audprojekt2022-py"
  },
  "language_info": {
   "codemirror_mode": {
    "name": "ipython",
    "version": 3
   },
   "file_extension": ".py",
   "mimetype": "text/x-python",
   "name": "python",
   "nbconvert_exporter": "python",
   "pygments_lexer": "ipython3",
   "version": "3.9.12"
  },
  "toc": {
   "base_numbering": 1,
   "nav_menu": {},
   "number_sections": false,
   "sideBar": true,
   "skip_h1_title": false,
   "title_cell": "Table of Contents",
   "title_sidebar": "Contents",
   "toc_cell": false,
   "toc_position": {},
   "toc_section_display": true,
   "toc_window_display": false
  },
  "varInspector": {
   "cols": {
    "lenName": 16,
    "lenType": 16,
    "lenVar": 40
   },
   "kernels_config": {
    "python": {
     "delete_cmd_postfix": "",
     "delete_cmd_prefix": "del ",
     "library": "var_list.py",
     "varRefreshCmd": "print(var_dic_list())"
    },
    "r": {
     "delete_cmd_postfix": ") ",
     "delete_cmd_prefix": "rm(",
     "library": "var_list.r",
     "varRefreshCmd": "cat(var_dic_list()) "
    }
   },
   "types_to_exclude": [
    "module",
    "function",
    "builtin_function_or_method",
    "instance",
    "_Feature"
   ],
   "window_display": false
  }
 },
 "nbformat": 4,
 "nbformat_minor": 2
}
