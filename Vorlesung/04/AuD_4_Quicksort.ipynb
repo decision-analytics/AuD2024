{
 "cells": [
  {
   "cell_type": "code",
   "execution_count": 1,
   "metadata": {
    "slideshow": {
     "slide_type": "skip"
    }
   },
   "outputs": [],
   "source": [
    "import time"
   ]
  },
  {
   "cell_type": "markdown",
   "metadata": {
    "slideshow": {
     "slide_type": "slide"
    }
   },
   "source": [
    "<img src=\"./img/logo_wiwi.png\" width=\"23%\" align=\"left\">\n",
    "<img src=\"./img/decision_analytics_logo.png\" width=\"17%\" align=\"right\">\n",
    "\n",
    "<br><br><br><br>\n",
    "\n",
    "\n",
    "## Algorithmen und Datenstrukturen\n",
    "Wintersemester 2024/25\n",
    "\n",
    "\n",
    "# 4 Rekursives Problemlösen nach dem Teile-und-Herrsche-Prinzip: Quicksort und andere Beispiele\n",
    "\n",
    "\n",
    "<br><br><br>\n",
    "J-Prof. Dr. Michael Römer, Jakob Schulte"
   ]
  },
  {
   "cell_type": "markdown",
   "metadata": {
    "slideshow": {
     "slide_type": "slide"
    }
   },
   "source": [
    "## Motivation und Einordnung\n",
    "\n",
    "In der letzten Woche haben wir das Prinzip der **Rekursion** kennengelernt.\n",
    "\n",
    "#### In diesem Teil\n",
    "- beschäftigen wir uns mit **Teile-und-Herrsche**, einem Prinzip zur Problemlösung, in dem ein Problem **rekursiv** in immer kleinere Teile zerlegt wird\n",
    "- wir lernen mehrere Beispiele für Algorithmen kennen, die auf dem Prinzip **Teile-und-Herrsche** beruhen,\n",
    "- insbesondere betrachten wird **Quicksort**, eines der schnellsten Sortierverfahren \n",
    "\n",
    "\n"
   ]
  },
  {
   "cell_type": "markdown",
   "metadata": {
    "slideshow": {
     "slide_type": "slide"
    }
   },
   "source": [
    "## Überblick\n",
    "\n",
    "1. Das Teile-und-herrsche(divde-and-conquer)-Prinzip\n",
    "   - Aufteilung von Flächen\n",
    "   - Rekursive Summenberechnung\n",
    "2. Quicksort: Sortieren mit dem Teile-und-Herrsche-Prinzip\n",
    "3. Vertiefung Big O-Notation\n",
    "6. Zusammenfassung"
   ]
  },
  {
   "cell_type": "markdown",
   "metadata": {
    "slideshow": {
     "slide_type": "slide"
    }
   },
   "source": [
    "# 1. Teile und herrsche"
   ]
  },
  {
   "cell_type": "markdown",
   "metadata": {
    "slideshow": {
     "slide_type": "slide"
    }
   },
   "source": [
    "## Aufteilung einer Fläche in quadratische Parzellen\n",
    "\n",
    "- Ein Stück Land soll in kleinere Parzellen aufgeteilt werden\n",
    "\n",
    "<img src=\"./img/01.png\" width=\"40%\" align=\"middle\">\n",
    "\n",
    "- Diese sollen alle gleich groß und quadratisch sein\n",
    "- Ziel ist es, dass die Parzellen möglichst groß sind und das gesamte Land aufgeteilt ist\n",
    "  - die folgenden Lösungen sind nicht korrekt:\n",
    "\n",
    "<img src=\"./img/02.png\" width=\"50%\" align=\"middle\">\n"
   ]
  },
  {
   "cell_type": "markdown",
   "metadata": {
    "slideshow": {
     "slide_type": "slide"
    }
   },
   "source": [
    "## Das Prinzip \"Teile-und-herrsche\" \n",
    "\n",
    "- Wichtiges Konzept beim Entwerfen von Algorithmen\n",
    "- Eng verbunden mit Rekursion\n",
    "- Idee: zerlege ein Problem in kleinere Teilprobleme (**Rekursionsfall**)\n",
    "- Irgendwann sollten Teilprobleme so einfach sein, dass man sie umittelbar lösen kann / die Lösung trivial ist (**Basisfall**)"
   ]
  },
  {
   "cell_type": "markdown",
   "metadata": {
    "slideshow": {
     "slide_type": "slide"
    }
   },
   "source": [
    "## Aufteilung einer Fläche in quadratische Parzellen: Basisfall\n",
    "\n",
    "- Der Basisfall muss so einfach sein, dass er direkt gelöst werden kann\n",
    "\n",
    "><div class=\"alert alert-block alert-info\">\n",
    "<b>Was wäre hier ein möglicher Basisfall?</b></div>\n"
   ]
  },
  {
   "cell_type": "markdown",
   "metadata": {
    "slideshow": {
     "slide_type": "fragment"
    }
   },
   "source": [
    "- Das Problem wird trivial, wenn eine Seitenlänge ein Vielfaches der anderen ist\n",
    "- wir können dann ein Quadrat mit Seitenlänge der kurzen Seite des Rechtecks mehrfach einfügen\n",
    "\n",
    "<img src=\"./img/03.png\" width=\"80%\" align=\"middle\">"
   ]
  },
  {
   "cell_type": "markdown",
   "metadata": {
    "slideshow": {
     "slide_type": "slide"
    }
   },
   "source": [
    "## Aufteilung einer Fläche in quadratische Parzellen: Idee und Vorgehen\n",
    "\n",
    "#### Ausgehend vom Basisfall entwickeln wir folgende Idee:\n",
    "\n",
    "- Beginnend am linken Rand: Fülle das Rechteck mit Quadraten **mit Seitenlänge der kurzen Seite**\n",
    "- wenn keine Restfläche bleibt, sind wir fertig (**Basisfall!**)\n",
    "- sonst bleibt eine rechteckige Restfläche:\n",
    "\n",
    "<img src=\"./img/04.png\" width=\"40%\" align=\"middle\">"
   ]
  },
  {
   "cell_type": "markdown",
   "metadata": {
    "slideshow": {
     "slide_type": "fragment"
    }
   },
   "source": [
    "- für die (rechteckige) Restfläche: **Wiederhole das Vorgehen rekursiv mit der Restfläche**\n",
    "- dies ist also der **Rekursionsfall**"
   ]
  },
  {
   "cell_type": "markdown",
   "metadata": {
    "slideshow": {
     "slide_type": "slide"
    }
   },
   "source": [
    "## Aufteilung einer Fläche in quadratische Parzellen: Durchspielen des Beispiels\n",
    "\n",
    "- Wir starten mit der Ausgangsfläche\n",
    "\n",
    "<img src=\"./img/05.png\" width=\"70%\" align=\"middle\">\n",
    "\n",
    "- Es folgt Anwendung des gleichen Algorithmus auf das neue Teilproblem"
   ]
  },
  {
   "cell_type": "markdown",
   "metadata": {
    "cell_style": "center",
    "slideshow": {
     "slide_type": "slide"
    }
   },
   "source": [
    "## Aufteilung einer Fläche in quadratische Parzellen: Durchspielen des Beispiels"
   ]
  },
  {
   "cell_type": "markdown",
   "metadata": {
    "cell_style": "center",
    "slideshow": {
     "slide_type": "-"
    }
   },
   "source": [
    "- Neues Teilproblem:\n",
    "\n",
    "<img src=\"./img/06.png\" width=\"25%\" align=\"middle\">"
   ]
  },
  {
   "cell_type": "markdown",
   "metadata": {
    "cell_style": "center",
    "slideshow": {
     "slide_type": "fragment"
    }
   },
   "source": [
    "- Wird aufgeteilt:\n",
    "\n",
    "<img src=\"./img/07.png\" width=\"40%\" align=\"middle\">"
   ]
  },
  {
   "cell_type": "markdown",
   "metadata": {
    "slideshow": {
     "slide_type": "slide"
    }
   },
   "source": [
    "## Aufteilung einer Fläche in quadratische Parzellen: Durchspielen des Beispiels\n",
    "\n",
    "- Neues Teilproblem und Aufteilung:\n",
    "\n",
    "<img src=\"./img/08.png\" width=\"50%\" align=\"middle\">"
   ]
  },
  {
   "cell_type": "markdown",
   "metadata": {
    "slideshow": {
     "slide_type": "fragment"
    }
   },
   "source": [
    "- Nächste Aufteilung...\n",
    "\n",
    "<img src=\"./img/09.png\" width=\"50%\" align=\"middle\">\n"
   ]
  },
  {
   "cell_type": "markdown",
   "metadata": {
    "slideshow": {
     "slide_type": "slide"
    }
   },
   "source": [
    "## Aufteilung einer Fläche in quadratische Parzellen: Durchspielen des Beispiels"
   ]
  },
  {
   "cell_type": "markdown",
   "metadata": {
    "cell_style": "center",
    "slideshow": {
     "slide_type": "-"
    }
   },
   "source": [
    "#### $\\rightarrow$ Basisfall erreicht!\n",
    "- Nun Aufteilung in gleich große Quadrate\n",
    "\n",
    "<img src=\"./img/10.png\" width=\"30%\" align=\"middle\">"
   ]
  },
  {
   "cell_type": "markdown",
   "metadata": {
    "cell_style": "center",
    "hide_input": true,
    "slideshow": {
     "slide_type": "fragment"
    }
   },
   "source": [
    "<br>\n",
    "\n",
    "- Diese Quadratgröße kann genutzt werden, um das gesamte Land aufzuteilen\n",
    "\n",
    "<img src=\"./img/11.png\" width=\"50%\" align=\"middle\">"
   ]
  },
  {
   "cell_type": "markdown",
   "metadata": {
    "slideshow": {
     "slide_type": "slide"
    }
   },
   "source": [
    "## Aufteilung einer Fläche in quadratische Parzellen: Wieso funktioniert das?\n",
    "\n",
    "<img src=\"./img/04.png\" width=\"30%\" align=\"right\">\n",
    "\n",
    "**Die entscheidenden Frage ist: \"Wieso ist die Lösung für das \"Rest-Rechteck\" gleichzeitig die Lösung für das \"große\" Rechteck?**\n",
    "\n"
   ]
  },
  {
   "cell_type": "markdown",
   "metadata": {
    "slideshow": {
     "slide_type": "fragment"
    }
   },
   "source": [
    "#### Beachte:\n",
    "- **1.** das gesuchte Quadrat muss **sowohl hinsichtlich der langen als auch hinsichtlich der kurzen Seite** des Rechtecks **restlos passen** (d.h. es bleibt weder in der Länge noch in der Breite Fläche übrig)\n",
    "- **2.** ein Quadrat, das **hinsichtlich der kurzen Seite (des Ausgangsrechtecks) ohne Rest passt**, passt auch ohne Rest in ein **Quadrat mit Seitenlänge der kurzen Seite**"
   ]
  },
  {
   "cell_type": "markdown",
   "metadata": {
    "slideshow": {
     "slide_type": "fragment"
    }
   },
   "source": [
    "#### Daher gilt:\n",
    "- wenn es ein Quadrat gibt, das für das \"Restrechteck\" eine Lösung darstellt, d.h. das Restrechteck restlos ausfüllt,\n",
    "- so muss es hinsichtlich der kurzen Seite des Ausgangsrechtecks passen\n",
    "- und somit auch für die \"großen\" Quadrate mit Seitenlänge der kurzen Seite des Ausgangsrechtecks!"
   ]
  },
  {
   "cell_type": "markdown",
   "metadata": {
    "slideshow": {
     "slide_type": "slide"
    }
   },
   "source": [
    "## Beobachtung: Der Euklidische Algorithmus\n",
    "\n",
    "- unser Algorithmus ist nichts anderes als eine geometrische Interpretation des berühmten **Euklidischen Algorithmus** zur Berechnung des größten gemeinsamen Teilers (ggT) zweier ganzer Zahlen\n",
    "- dabei sind die Seitenlängen des Ausgangsrechtecks die beiden Zahlen\n",
    "- unsere Erklärung der Funktionsweise kann als geometrischer Beweis der Korrektheit des Algorithmus dienen\n",
    "\n",
    "..mehr zum Euklidischen Algorithmus, inkl. anderer Korrektheitsbeweise, gibt es [hier](https://de.khanacademy.org/computing/computer-science/cryptography/modarithmetic/a/the-euclidean-algorithm)!"
   ]
  },
  {
   "cell_type": "markdown",
   "metadata": {
    "slideshow": {
     "slide_type": "slide"
    }
   },
   "source": [
    "## Das Prinzip \"Teile-und-herrsche\" \n",
    "\n",
    "- Wichtiges Konzept beim Entwerfen von Algorithmen\n",
    "- Eng verbunden mit Rekursion\n",
    "- Idee: zerlege ein Problem in kleinere Teilprobleme (**Rekursionsfall**)\n",
    "- Irgendwann sollten Teilprobleme so einfach sein, dass man sie umittelbar lösen kann / die Lösung trivial ist (**Basisfall**)\n",
    "- Wenn man vor eine konkrete Aufgabe / ein konkretes Problem  betrachtet, ist es oftmals sinnvoll, zunächst überlegen, was der Basisfall sein könnte"
   ]
  },
  {
   "cell_type": "markdown",
   "metadata": {
    "slideshow": {
     "slide_type": "slide"
    }
   },
   "source": [
    "## Ein weiteres Beispiel: Rekursive Summenberechnung\n",
    "\n",
    "- **Aufgabenstellung**: Zähle alle Zahlen eines Arrays zusammen\n",
    "- eine **iterative** Funktion könnte so aussehen:"
   ]
  },
  {
   "cell_type": "code",
   "execution_count": null,
   "metadata": {
    "slideshow": {
     "slide_type": "-"
    }
   },
   "outputs": [],
   "source": [
    "def summieren(arr):\n",
    "    summe = 0\n",
    "    for zahl in arr:\n",
    "        summe += zahl\n",
    "    return summe"
   ]
  },
  {
   "cell_type": "markdown",
   "metadata": {
    "slideshow": {
     "slide_type": "-"
    }
   },
   "source": [
    "><div class=\"alert alert-block alert-info\">\n",
    "<b>Wie könnte eine rekursive Funktion dafür aussehen?</b></div>\n",
    "\n",
    "**Tipps:**\n",
    "- Wir brauchen einen Basisfall\n",
    "- Mit jedem rekursiven Aufruf sollten wir auf den Basisfall \"hinarbeiten\"\n",
    "- Es sollten zwei ```return```-Befehle genutzt werden (einer für den Basis- und einer für den Rekursionsfall)"
   ]
  },
  {
   "cell_type": "markdown",
   "metadata": {
    "slideshow": {
     "slide_type": "slide"
    }
   },
   "source": [
    "## Ein weiteres Beispiel: Rekursive Summenberechnung"
   ]
  },
  {
   "cell_type": "code",
   "execution_count": 1,
   "metadata": {
    "slideshow": {
     "slide_type": "-"
    }
   },
   "outputs": [],
   "source": [
    "def summieren_rekursiv(arr):\n",
    "    return\n"
   ]
  },
  {
   "cell_type": "markdown",
   "metadata": {
    "slideshow": {
     "slide_type": "fragment"
    }
   },
   "source": [
    "- Funktionsweise des rekursiven Ansatzes:\n",
    "\n",
    "<img src=\"./img/12.png\" width=\"50%\" align=\"middle\">"
   ]
  },
  {
   "cell_type": "markdown",
   "metadata": {
    "slideshow": {
     "slide_type": "slide"
    }
   },
   "source": [
    "## Ein weiteres Beispiel: Rekursive Summenberechnung\n",
    "\n",
    "- Ablauf der Funktion (hier ```sum``` genannt) für das Array ```[2,4,6]```\n",
    "\n",
    "<img src=\"./img/13.png\" width=\"65%\" align=\"middle\">\n",
    "\n",
    "<br><br>\n",
    "\n",
    "> **Allgemeiner Tipp:** Bei rekursiven Funktionen mit Arrays ist der Basisfall meist ein leeres Array oder eines mit nur einem Element."
   ]
  },
  {
   "cell_type": "markdown",
   "metadata": {
    "slideshow": {
     "slide_type": "slide"
    }
   },
   "source": [
    "## Frage: Teile-und-herrsche bei binärer Suche\n",
    "\n",
    "- wie im letzten Teil besprochen wurde, kann auch die binäre Suche rekursiv implementiert werden\n",
    "- allgemein kann man die binäre Suche als Teile-und-herrsche-Verfahren bezeichnen\n",
    "\n",
    "><div class=\"alert alert-block alert-info\">\n",
    "<b>Was ist bei der binären Suche der Basisfall und was der Rekursionsfall?</b></div>"
   ]
  },
  {
   "cell_type": "markdown",
   "metadata": {
    "slideshow": {
     "slide_type": "slide"
    }
   },
   "source": [
    "# 2. Quicksort"
   ]
  },
  {
   "cell_type": "markdown",
   "metadata": {
    "slideshow": {
     "slide_type": "slide"
    }
   },
   "source": [
    "## Sortieren nach dem Teile-und-herrsche-Verfahren: Quicksort\n",
    "\n",
    "- Wir betrachten nun einen neuen Algorithmus zum sortieren eines Arrays, der das Teile-und-herrsche-Verfahren verwendet\n",
    "- er ist sehr performant $\\rightarrow$ in der Praxis viel eingesetzt\n",
    "- ist (in Varianten) in den Standardbibliotheken vieler Programmiersprachen implementiert\n",
    "\n",
    "><div class=\"alert alert-block alert-info\">\n",
    "<b>Was ist beim rekursiven Sortieren eines Arrays der Basisfall?</b></div>\n"
   ]
  },
  {
   "cell_type": "markdown",
   "metadata": {
    "slideshow": {
     "slide_type": "slide"
    }
   },
   "source": [
    "## Quicksort: Basisfall\n",
    "\n",
    "- Basisfall für (rekursive) Sortieralgorithmen:\n",
    "\n",
    "<img src=\"./img/14.png\" width=\"60%\" align=\"middle\">\n",
    "\n",
    "- Basisfall in Code:"
   ]
  },
  {
   "cell_type": "code",
   "execution_count": null,
   "metadata": {
    "slideshow": {
     "slide_type": "-"
    }
   },
   "outputs": [],
   "source": [
    "def quicksort(array):\n",
    "    if len(array) <= 1:\n",
    "        return array"
   ]
  },
  {
   "cell_type": "markdown",
   "metadata": {
    "slideshow": {
     "slide_type": "slide"
    }
   },
   "source": [
    "# Quicksort: Zwei und mehr Elemente\n",
    "\n",
    "- Der Fall für **zwei Elemente** ebenfalls einfach: \n",
    "  - überprüfe welches größer ist und tausche ggf.\n",
    "- Frage: Wie können wir bei drei und mehr Elementen vorgehen?\n",
    "\n",
    "<img src=\"./img/15.png\" width=\"20%\" align=\"middle\">\n",
    "\n",
    "- **Erste Idee von Quicksort:** \n",
    "> Zunächst nehmen wir **ein Element des Arrays** und vergleichen alle anderen damit"
   ]
  },
  {
   "cell_type": "markdown",
   "metadata": {
    "slideshow": {
     "slide_type": "slide"
    }
   },
   "source": [
    "## Quicksort: Das Pivot-Element\n",
    "\n",
    "\n",
    "<img src=\"./img/16.png\" width=\"10%\" align=\"middle\">\n",
    "\n",
    "- Das zu vergleichende Element wird auch als **Pivot-Element** bezeichnet\n",
    "- Zur Auswahl des Pivot-Elements gibt es verschiedene Strategien, wir nehmen einfach das erste Element\n",
    "\n",
    "\n",
    "\n",
    "\n",
    "\n",
    "- Im nächsten Schritt bilden wir zwei Teilarrays: \n",
    "  - eines mit Werten die **kleiner** als das Pivotelement sind\n",
    "  - eines mit Werten die **größer** als das Pivotelement sind\n",
    "- kleinere Werte werden davor, größere dahinter gestellt\n",
    "\n",
    "<img src=\"./img/17.png\" width=\"70%\" align=\"middle\">\n",
    "\n"
   ]
  },
  {
   "cell_type": "markdown",
   "metadata": {
    "slideshow": {
     "slide_type": "slide"
    }
   },
   "source": [
    "## Quicksort: Partitionierung und Rekursionsfall\n",
    "\n",
    "- Das Array ist jetzt aufgeteilt in:\n",
    "    - Teilarray von Zahlen $\\leq$ Pivot-Element\n",
    "    - Pivot-Element\n",
    "    - Teilarray von Zahlen > Pivot-Element\n",
    "    \n",
    "- Den Aufteilungsvorgang nennt man **Partitionierung**\n",
    "- **Wichtig:** Die Teilarrays sind dann zwar relativ zum Pivot-Element richtig positioniert, aber **nicht sortiert**\n",
    "- Wenn die Teilarrays sortiert wären, so wäre gesamtes Array sortiert\n",
    "\n",
    "\n",
    "- **Daher nächster Schritt:** (Rekursives) Anwenden von Quicksort auf die beiden Teilarrays:\n",
    "\n",
    "`quicksort([15, 10]) + [33] + quicksort([])`\n",
    "- beide Fälle sind trivial!"
   ]
  },
  {
   "cell_type": "code",
   "execution_count": 2,
   "metadata": {
    "slideshow": {
     "slide_type": "fragment"
    }
   },
   "outputs": [
    {
     "data": {
      "text/plain": [
       "[1, 2, 3, 5, 6, 9, 8]"
      ]
     },
     "execution_count": 2,
     "metadata": {},
     "output_type": "execute_result"
    }
   ],
   "source": [
    "## beachte: Listen können mit + zusammengeführt werden:\n",
    "lange_liste = [1,2,3] + [5] + [6,9,8]\n",
    "lange_liste"
   ]
  },
  {
   "cell_type": "markdown",
   "metadata": {
    "slideshow": {
     "slide_type": "fragment"
    }
   },
   "source": [
    "><div class=\"alert alert-block alert-info\">\n",
    "<b>Was wäre bei anderer Wahl des Pivot-Elements passiert?</b></div>"
   ]
  },
  {
   "cell_type": "markdown",
   "metadata": {
    "slideshow": {
     "slide_type": "slide"
    }
   },
   "source": [
    "## Quicksort: Allgemeine Beschreibung\n",
    "\n",
    "- Wir wollen ein Array mit $n$ Elementen sortieren\n",
    "- im Fall von **n $\\leq$ 1** haben wir den **Basisfall**\n",
    "- ansonsten wählen wir ein **Pivotelement** und **partitionieren** das Array wie folgt:\n",
    "    - Teilarray mit kleineren Werten (zwischen $0$ und $n-1$ Elemente)\n",
    "    - Pivotelement\n",
    "    - Teilarray mit größeren Werten (zwischen $0$ und $n-1$ Elemente)\n",
    "- dann wenden wir für beide Teilarrays Quicksort **rekursiv** an (**Rekursionsfall**)"
   ]
  },
  {
   "cell_type": "markdown",
   "metadata": {
    "slideshow": {
     "slide_type": "slide"
    }
   },
   "source": [
    "## Quicksort: Beispiel für $n=5$\n",
    "\n",
    "- Zu sortierendes Array: ```[3, 5, 2, 1, 4]```\n",
    "- Alle möglichen Fälle für Wahl des Pivots:\n",
    "\n",
    "<img src=\"./img/18.png\" width=\"60%\" align=\"middle\">"
   ]
  },
  {
   "cell_type": "markdown",
   "metadata": {
    "slideshow": {
     "slide_type": "slide"
    }
   },
   "source": [
    "## Quicksort: Beispiel für $n=5$\n",
    "\n",
    "- Vorgehen für Pivot = 3\n",
    "\n",
    "<img src=\"./img/19.png\" width=\"50%\" align=\"middle\">\n",
    "\n",
    "- ```qsort([2,1])``` und ```qsort([5,4])``` liefern sortierte Arrays\n",
    "- Dadurch vollständige Sortierung sichergestellt"
   ]
  },
  {
   "cell_type": "markdown",
   "metadata": {
    "slideshow": {
     "slide_type": "slide"
    }
   },
   "source": [
    "## Quicksort: Implementierung in Python\n",
    "\n",
    "\n",
    "- Der Basisfall ist durch folgenden Code abgedeckt:"
   ]
  },
  {
   "cell_type": "code",
   "execution_count": 9,
   "metadata": {
    "slideshow": {
     "slide_type": "-"
    }
   },
   "outputs": [],
   "source": [
    "def quicksort(array):\n",
    "    # Basisfall:\n",
    "    if len(array) <= 1:  \n",
    "        return array\n",
    "    \n",
    "    # Rekursionsfall:  \n"
   ]
  },
  {
   "cell_type": "markdown",
   "metadata": {
    "slideshow": {
     "slide_type": "-"
    }
   },
   "source": [
    "><div class=\"alert alert-block alert-info\">\n",
    "<b>Wie lässt sich der Rekursionsfall implementieren?</b></div>"
   ]
  },
  {
   "cell_type": "code",
   "execution_count": 11,
   "metadata": {
    "slideshow": {
     "slide_type": "-"
    }
   },
   "outputs": [
    {
     "name": "stdout",
     "output_type": "stream",
     "text": [
      "[7, 9, 4]  --  [10]  --  [15, 12]\n",
      "[4]  --  [7]  --  [9]\n",
      "[12]  --  [15]  --  []\n"
     ]
    },
    {
     "data": {
      "text/plain": [
       "[4, 7, 9, 10, 12, 15]"
      ]
     },
     "execution_count": 11,
     "metadata": {},
     "output_type": "execute_result"
    }
   ],
   "source": [
    "quicksort([10,7,9,15,4,12])"
   ]
  },
  {
   "cell_type": "markdown",
   "metadata": {
    "slideshow": {
     "slide_type": "slide"
    }
   },
   "source": [
    "## Quicksort: Effizientere Implementierung des Partitionsschritts\n",
    "- die obige Implementierung zeigt die Funktionsweise von Quicksort sehr gut\n",
    "- allerdings ist sie nicht sehr effizient, weil im Partitionierungsschritt immer wieder neue Arrays angelegt werden\n",
    "  - dies ist sehr \"teuer\", da immer wieder Speicher allokiert wird (s. Teil 2 zu Datenstrukturen)\n",
    "- daher wird der Partitionsschritt in der Regel so implementiert, dass innerhalb des bestehenden Arrays \"Plätze getauscht\" werden\n",
    "- eine gute Erklärung finden Sie  [hier](https://de.khanacademy.org/computing/computer-science/algorithms/quick-sort/a/linear-time-partitioning)"
   ]
  },
  {
   "cell_type": "markdown",
   "metadata": {
    "slideshow": {
     "slide_type": "slide"
    }
   },
   "source": [
    "## Quicksort: Wie kann man zeigen, dass der Algorithmus funktioniert?\n",
    "- in der Informatik geht es oftmals darum, zu beweisen, ob Algorithmen funtionieren\n",
    "- bei rekursiven Algorithmen bietet sich eine Strategie an, die man **vollständige Induktion** nennt\n",
    "- dabei beginnt man mit dem Basisfall (**Induktionsanfang**) und zeigt, dass der Basisfall (hier: n $\\leq$ 1) korrekt funktioniert\n",
    "- dann schaut man sich den \"nächstgrößeren\" Fall an (hier: n=2), der den Basisfall aufruft, und zeigt, dass für den Fall dass der Basisfall funktioniert, der Algorithmus für diesen Fall auch funktioniert\n",
    "- allgemein zeigt man:\n",
    "  - falls im \"aktuellen\" Schritt **die rekursiven Aufrufe das korrekte Ergebnis** liefern, dann **ist der aktuelle Schritt korrekt**\n",
    "  - dies nennt man den **Induktionsschritt**"
   ]
  },
  {
   "cell_type": "markdown",
   "metadata": {
    "slideshow": {
     "slide_type": "slide"
    }
   },
   "source": [
    "## Illustration der Logik des Induktionsbeweises für Quicksort\n",
    "\n",
    "- wir wissen, dass der Basisfall (**n $\\leq$ 1**) funktioniert\n",
    "- für **n=2** gilt: Schon Pivot+Partitionierung gibt uns ein sortiertes Array"
   ]
  },
  {
   "cell_type": "markdown",
   "metadata": {
    "slideshow": {
     "slide_type": "fragment"
    }
   },
   "source": [
    "- für **n=3** gilt: Pivot+Partitionierung gibt uns Aufrufe für Quicksort mit maximal n $\\leq$ 2 (und da wissen wir, dass es funktioniert), und weil die Partitionierungsbedingungen gelten (Teilarray 1 $\\leq$ Pivot-Element $\\leq$ Teilarray 2), funktioniert es"
   ]
  },
  {
   "cell_type": "markdown",
   "metadata": {
    "slideshow": {
     "slide_type": "fragment"
    }
   },
   "source": [
    "- für **n=4** gilt: Pivot+Partitionierung gibt uns Aufrufe für Quicksort mit maximal n $\\leq$ 3 (und da wissen wir, dass es funktioniert), und weil die Partitionierungsbedingungen gelten (Teilarray 1 $\\leq$ Pivot-Element $\\leq$ Teilarray 2), funktioniert es\n",
    "- ... usw."
   ]
  },
  {
   "cell_type": "markdown",
   "metadata": {
    "slideshow": {
     "slide_type": "slide"
    }
   },
   "source": [
    "# 3. Laufzeit von Quicksort / Vertiefung Big-O-Notation"
   ]
  },
  {
   "cell_type": "markdown",
   "metadata": {
    "slideshow": {
     "slide_type": "slide"
    }
   },
   "source": [
    "## Big-O-Notation: Wiederholung\n",
    "\n",
    "\n",
    "- Möglichkeit zum Messen des Laufzeitverhaltens\n",
    "- Wird in Abhängigkeit zur Problemgröße $n$ angegeben\n",
    "- Typische Laufzeiten:\n",
    "    - $O(1)$\n",
    "    - $O(\\log({n}))$   Bsp: Binäre Suche\n",
    "    - $O(n)$ Bsp: Lineare Suche\n",
    "    - $O(n \\log({n}))$\n",
    "    - $O(n²)$ Bsp: Selection Sort\n",
    "    - $O(n!)$ Bsp: Enumeration aller Traveling Salesperson-Touren\n",
    "- Bisher nur Worst-Case Betrachtung\n"
   ]
  },
  {
   "cell_type": "markdown",
   "metadata": {
    "slideshow": {
     "slide_type": "slide"
    }
   },
   "source": [
    "\n",
    "## Laufzeitkomplexität: Quicksort\n",
    "\n",
    "- Quicksort ist in der Praxis sehr verbreitet\n",
    "- Laufzeit hängt von Wahl der Pivot-Elemente ab\n",
    "- Worst-case Laufzeit ist $O(n²)$\n",
    "\n",
    "><div class=\"alert alert-block alert-info\">\n",
    "<b>Was muss in Bezug auf das Pivot-Element passieren, damit der worst case eintritt?</b></div>\n",
    "\n",
    "\n",
    "- Andere Sortieralgorithmen (z.B. Mergesort) haben worst-case Laufzeiten von $O(n \\cdot log({n}))$\n",
    "- Trotzdem wird oft Quicksort bevorzugt\n",
    "\n",
    "><div class=\"alert alert-block alert-info\">\n",
    "<b>Was könnten Gründe dafür sein?</b></div>"
   ]
  },
  {
   "cell_type": "markdown",
   "metadata": {
    "slideshow": {
     "slide_type": "slide"
    }
   },
   "source": [
    "## Big-O-Notation: Die Relevanz der konstanten Operationen\n",
    "\n",
    "- Big-O beachtet nur die Größenordnung der Anzahl der Operationen\n",
    "- die Dauer der einzelnen Operationen (bzw. die Anzahl von Schritten pro Operation) wird dabei vernachlässigt\n",
    "- Vergleiche die Laufzeit folgender Funktionen:"
   ]
  },
  {
   "cell_type": "code",
   "execution_count": 10,
   "metadata": {
    "slideshow": {
     "slide_type": "-"
    }
   },
   "outputs": [],
   "source": [
    "def print_items(liste):\n",
    "    for item in liste:\n",
    "        print(item)"
   ]
  },
  {
   "cell_type": "code",
   "execution_count": 11,
   "metadata": {
    "slideshow": {
     "slide_type": "-"
    }
   },
   "outputs": [],
   "source": [
    "def print_items2(liste):\n",
    "    for item in liste:\n",
    "        time.sleep(1)\n",
    "        print(item)"
   ]
  },
  {
   "cell_type": "markdown",
   "metadata": {
    "slideshow": {
     "slide_type": "slide"
    }
   },
   "source": [
    "## Big-O-Notation: Die Relevanz der konstanten Operationen\n",
    "\n",
    "- Beide Funktionen haben Laufzeit $O(n)$\n",
    "- Laufzeiten weichen trotzdem deutlich voneinander ab"
   ]
  },
  {
   "cell_type": "code",
   "execution_count": 12,
   "metadata": {
    "slideshow": {
     "slide_type": "-"
    }
   },
   "outputs": [],
   "source": [
    "silben = ['Al','go','rith','men']"
   ]
  },
  {
   "cell_type": "code",
   "execution_count": 13,
   "metadata": {
    "slideshow": {
     "slide_type": "-"
    }
   },
   "outputs": [
    {
     "name": "stdout",
     "output_type": "stream",
     "text": [
      "Al\n",
      "go\n",
      "rith\n",
      "men\n",
      "CPU times: total: 0 ns\n",
      "Wall time: 0 ns\n"
     ]
    }
   ],
   "source": [
    "%%time\n",
    "print_items(silben)"
   ]
  },
  {
   "cell_type": "code",
   "execution_count": 14,
   "metadata": {
    "slideshow": {
     "slide_type": "-"
    }
   },
   "outputs": [
    {
     "name": "stdout",
     "output_type": "stream",
     "text": [
      "Al\n",
      "go\n",
      "rith\n",
      "men\n",
      "CPU times: total: 0 ns\n",
      "Wall time: 4.04 s\n"
     ]
    }
   ],
   "source": [
    "%%time\n",
    "print_items2(silben)"
   ]
  },
  {
   "cell_type": "markdown",
   "metadata": {
    "slideshow": {
     "slide_type": "slide"
    }
   },
   "source": [
    "## Big-O-Notation: Die Relevanz der konstanten Operationen bei unterschiedlichen Größenordnungen\n",
    "\n",
    "- Bisher haben wir Konstanten in big O-Notation nicht beachtet\n",
    "- In vielen Fällen sind sie wenig relevant:\n",
    "- Angenommen Binary Search braucht 100-mal solange für einen Schritt wie Linear Search:\n",
    "    \n",
    "<img src=\"./img/20.png\" width=\"60%\" align=\"middle\">\n",
    "\n",
    "\n",
    "- Trotzden für große $n$ (hier 4 Mrd) Binary Search signifikant schneller\n",
    "    \n",
    "<img src=\"./img/21.png\" width=\"80%\" align=\"middle\">"
   ]
  },
  {
   "cell_type": "markdown",
   "metadata": {
    "slideshow": {
     "slide_type": "slide"
    }
   },
   "source": [
    "## Big-O-Notation: Die Relevanz der konstanten Operationen bei ähnlichen Größenordnungen\n",
    "- Bei gleicher Laufzeit-Komplexität wird der konstante Aufwand pro Operation jedoch relevant \n",
    "- Mergesort hat höhere Konstante pro Operation als Quicksort\n",
    "    - $\\rightarrow$ dies ist einer der Gründe für häufigere Nutzung von Quicksort\n",
    "\n",
    "- würde man nur allerdings nur den Worst Case betrachten, wäre das egal, denn es gilt im Worst Case:\n",
    "  - Mergesort: $O(n  \\log(n))$\n",
    "  - Quicksort $O(n^2)$\n",
    "  \n",
    "$\\rightarrow$ **In der Praxis ist aber nicht nur worst-case wichtig!**"
   ]
  },
  {
   "cell_type": "markdown",
   "metadata": {
    "slideshow": {
     "slide_type": "slide"
    }
   },
   "source": [
    "## Big-O-Notation: Average Case vs Worst Case\n",
    "\n",
    "- der Worst Case für Quicksort tritt beispielsweise auf, wenn das erste Element als Pivotelement gewählt wird und die Liste bereits sortiert ist:\n",
    "\n",
    "<img src=\"./img/22.png\" width=\"60%\" align=\"left\">\n",
    "\n",
    "- Hier in jeder Zeile $n$ Operationen (Vergleiche mit Pivotelement)\n",
    "- $n$ Vergleiche mal $n$ Zeilen $\\rightarrow$ Komplexität $O(n²)$"
   ]
  },
  {
   "cell_type": "markdown",
   "metadata": {
    "slideshow": {
     "slide_type": "slide"
    }
   },
   "source": [
    "## Big-O-Notation: Average Case vs Worst Case\n",
    "\n",
    "- Beispiel für Best Case für Quicksort:\n",
    "  - Liste ist bereits sortiert und immer mittleres Element als Pivot\n",
    "\n",
    "\n",
    "- Das Array wird in jedem Schritt halbiert\n",
    "- $n$ Vergleiche mal $log(n)$ Zeilen $\\rightarrow$ Komplexität $O(n  \\log(n))$\n",
    "\n",
    "\n",
    "<img src=\"./img/23.png\" width=\"80%\" align=\"left\">"
   ]
  },
  {
   "cell_type": "markdown",
   "metadata": {
    "slideshow": {
     "slide_type": "slide"
    }
   },
   "source": [
    "## Big-O-Notation: Average Case vs Worst Case\n",
    "\n",
    "- Laufzeiten ergeben sich (in beiden Fällen) aus Anzahl der Ebenen und Schritten pro Ebene\n",
    "- Für best-case:\n",
    "\n",
    "<img src=\"./img/24.png\" width=\"80%\" align=\"middle\">"
   ]
  },
  {
   "cell_type": "markdown",
   "metadata": {
    "slideshow": {
     "slide_type": "slide"
    }
   },
   "source": [
    "## Big-O-Notation: Average Case vs Worst Case\n",
    "\n",
    "- **Der große Vorteil von Quicksort:**\n",
    "> Bei Quicksort ist der average-case gleich dem best-case!\n",
    "\n",
    "- dabei wird davon ausgegangen, dass das Pivot-Element zufällig ausgewählt wird bzw. die Position des Pivot-Elements in der ungeordneten Liste zufällig ist\n",
    "\n",
    "#### Gründe für die Relevanz von Quicksort sind also:\n",
    "- eine kleine Konstante pro Operation\n",
    "- in der praktischen Umsetzung ist oft der average case relevant, nicht worst case"
   ]
  },
  {
   "cell_type": "markdown",
   "metadata": {
    "slideshow": {
     "slide_type": "slide"
    }
   },
   "source": [
    "# 4. Zusammenfassung"
   ]
  },
  {
   "cell_type": "markdown",
   "metadata": {
    "slideshow": {
     "slide_type": "slide"
    }
   },
   "source": [
    "# Zusammenfassung\n",
    "\n",
    "#### Wir haben in diesem Teil:\n",
    "- das wichtige und auf **Rekursion** basierende **Teile-und-Herrsche-Prinzip** zum Entwerfen von Algorithmen kennengelernt\n",
    "- insbesondere **Quicksort** betrachtet, einen der besten Sortieralgorithmen, der auf diesem Prinzip beruht\n",
    "    - Quicksort teilt eim Array anhand eines Pivot-Elements in Teilarrays auf\n",
    "    - diese werden wieder mit Quicksort sortiert\n",
    "- gelernt, dass für die Laufzeit nicht nur der Worst Case relevant ist, und dass auch Konstanten können bei Laufzeiten in der Praxis eine Rolle spielen"
   ]
  },
  {
   "cell_type": "markdown",
   "metadata": {
    "slideshow": {
     "slide_type": "fragment"
    }
   },
   "source": [
    "#### Im nächsten Teil:\n",
    "- beschäftigen wir uns mit **Hash Maps**, die es ermöchlichen, in **konstanter Zeit** Elemente zu suchen"
   ]
  }
 ],
 "metadata": {
  "celltoolbar": "Slideshow",
  "kernelspec": {
   "display_name": "Python 3 (ipykernel)",
   "language": "python",
   "name": "python3"
  },
  "language_info": {
   "codemirror_mode": {
    "name": "ipython",
    "version": 3
   },
   "file_extension": ".py",
   "mimetype": "text/x-python",
   "name": "python",
   "nbconvert_exporter": "python",
   "pygments_lexer": "ipython3",
   "version": "3.9.19"
  },
  "toc": {
   "base_numbering": 1,
   "nav_menu": {},
   "number_sections": false,
   "sideBar": true,
   "skip_h1_title": false,
   "title_cell": "Table of Contents",
   "title_sidebar": "Contents",
   "toc_cell": false,
   "toc_position": {},
   "toc_section_display": true,
   "toc_window_display": false
  },
  "varInspector": {
   "cols": {
    "lenName": 16,
    "lenType": 16,
    "lenVar": 40
   },
   "kernels_config": {
    "python": {
     "delete_cmd_postfix": "",
     "delete_cmd_prefix": "del ",
     "library": "var_list.py",
     "varRefreshCmd": "print(var_dic_list())"
    },
    "r": {
     "delete_cmd_postfix": ") ",
     "delete_cmd_prefix": "rm(",
     "library": "var_list.r",
     "varRefreshCmd": "cat(var_dic_list()) "
    }
   },
   "types_to_exclude": [
    "module",
    "function",
    "builtin_function_or_method",
    "instance",
    "_Feature"
   ],
   "window_display": false
  }
 },
 "nbformat": 4,
 "nbformat_minor": 2
}
