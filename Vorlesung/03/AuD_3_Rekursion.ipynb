{
 "cells": [
  {
   "cell_type": "code",
   "execution_count": 1,
   "metadata": {
    "slideshow": {
     "slide_type": "skip"
    }
   },
   "outputs": [],
   "source": [
    "import time"
   ]
  },
  {
   "cell_type": "markdown",
   "metadata": {
    "slideshow": {
     "slide_type": "slide"
    }
   },
   "source": [
    "<img src=\"./img/logo_wiwi.png\" width=\"23%\" align=\"left\">\n",
    "<img src=\"./img/decision_analytics_logo.png\" width=\"17%\" align=\"right\">\n",
    "\n",
    "<br><br><br><br>\n",
    "\n",
    "\n",
    "## Algorithmen und Datenstrukturen\n",
    "Wintersemester 2024/25\n",
    "\n",
    "\n",
    "# 3 Rekursion\n",
    "\n",
    "\n",
    "<br><br><br>\n",
    "J-Prof. Dr. Michael Römer, Jakob Schulte "
   ]
  },
  {
   "cell_type": "markdown",
   "metadata": {
    "heading_collapsed": true,
    "slideshow": {
     "slide_type": "slide"
    }
   },
   "source": [
    "## Überblick\n",
    "\n",
    "1. Erste Beispiele für rekursives Vorgehen\n",
    "2. Rekursive Funktionen: Basis- und Rekursionsfall\n",
    "3. Die Datenstruktur Stack\n",
    "4. Wie verarbeitet der Computer Rekursion? Der Call-Stack\n",
    "5. Übung: Binäre Suche rekursiv\n",
    "6. Zusammenfassung"
   ]
  },
  {
   "cell_type": "markdown",
   "metadata": {
    "slideshow": {
     "slide_type": "slide"
    }
   },
   "source": [
    "# 1. Erste Beispiele für rekursives Vorgehen"
   ]
  },
  {
   "cell_type": "markdown",
   "metadata": {
    "cell_style": "center",
    "slideshow": {
     "slide_type": "slide"
    }
   },
   "source": [
    "## Schachtelbeispiel\n",
    "\n",
    "- Wir sind auf der Suche nach einem Schlüssel\n",
    "- dieser Schlüssel ist wahrscheinlich irgendwo in einer großen Schachtel\n",
    "- diese große Schachtel enthält kleinere Schachteln\n",
    "- alle Schachteln können den Schlüssel, weitere Schachteln oder nichts enthalten\n",
    "\n",
    "<img src=\"./img/01_Schachtel.png\" width=\"60%\" align=\"middle\">\n"
   ]
  },
  {
   "cell_type": "markdown",
   "metadata": {
    "slideshow": {
     "slide_type": "slide"
    }
   },
   "source": [
    "## Schachtelbeispiel\n",
    "\n",
    "><div class=\"alert alert-block alert-info\">\n",
    "<b>Wie kann ein Algorithmus für diese Aufgabe aussehen?</b></div>\n",
    "\n",
    "- Wie würde ein Ansatz aussehen, der iterativ mit einer Schleife arbeitet?\n",
    "- Wie würde ein Ansatz aussehen, der eine **rekursiv** arbeitet, d.h. bei dem sich eine Funktion immer wieder selbst aufruft?"
   ]
  },
  {
   "cell_type": "markdown",
   "metadata": {
    "slideshow": {
     "slide_type": "slide"
    }
   },
   "source": [
    "## Schachtelbeispiel\n",
    "\n",
    "<img src=\"./img/02_Alg_iterativ.png\" width=\"45%\" align=\"right\">\n",
    "\n",
    "#### Iterativer Algorithmus\n",
    "\n",
    "1. Stell dir eine Reihe / einen Stapel der Schachteln zusammen.\n",
    "2. Nimm eine der Schachteln und durchsuche sie.\n",
    "3. Wenn du eine Schachtel vorfindest, füge sie dem Stapel hinzu..\n",
    "4. Wenn du den Schlüssel findest, ist die Aufgabe erledigt!\n",
    "5. Wiederhole den Vorgang.\n",
    "\n"
   ]
  },
  {
   "cell_type": "markdown",
   "metadata": {
    "slideshow": {
     "slide_type": "slide"
    }
   },
   "source": [
    "## Schachtelbeispiel\n",
    "\n",
    "#### Iterativer Algorithmus - Code\n",
    "- Dieser Code ist nicht ausführbar, sondern er dient nur zur Illustration:"
   ]
  },
  {
   "cell_type": "code",
   "execution_count": 3,
   "metadata": {
    "slideshow": {
     "slide_type": "-"
    }
   },
   "outputs": [],
   "source": [
    "def look_for_key(main_box):\n",
    "    pile = main_box.make_a_pile_to_look_through()\n",
    "    while pile is not empty:\n",
    "        box = pile.grab_a_box()\n",
    "        for item in box:\n",
    "            if item.is_a_box():\n",
    "                pile.append(item)\n",
    "            elif item.is_a_key():\n",
    "                print (\"Schlüssel gefunden!\")"
   ]
  },
  {
   "cell_type": "markdown",
   "metadata": {
    "slideshow": {
     "slide_type": "slide"
    }
   },
   "source": [
    "## Schachtelbeispiel\n",
    "\n",
    "#### Rekursiver Algorithmus\n",
    "\n",
    "1. Durchsuche eine Schachtel.\n",
    "2. Wenn du eine Schachtel findest, führe für sie den Algorithmus aus.\n",
    "3. Wenn du einen Schlüssel findest, ist der Algorithmus abgeschlossen.\n",
    "\n",
    "<img src=\"./img/03_Alg_rekursiv.png\" width=\"40%\" align=\"middle\">"
   ]
  },
  {
   "cell_type": "markdown",
   "metadata": {
    "slideshow": {
     "slide_type": "slide"
    }
   },
   "source": [
    "## Schachtelbeispiel\n",
    "\n",
    "#### Rekursiver Algorithmus - Code\n",
    "- Nicht ausführbarer Code zum Verständnis:"
   ]
  },
  {
   "cell_type": "code",
   "execution_count": 4,
   "metadata": {},
   "outputs": [],
   "source": [
    "def look_for_key(box):\n",
    "    for item in box:\n",
    "        if item.is_a_box():\n",
    "            look_for_key(item)    # Hier wird die Funktion erneut aufgerufen --> Rekursion\n",
    "        elif item.is_a_key():\n",
    "            print (\"Schlüssel gefunden!\")"
   ]
  },
  {
   "cell_type": "markdown",
   "metadata": {
    "slideshow": {
     "slide_type": "slide"
    }
   },
   "source": [
    "## Schachtelbeispiel\n",
    "\n",
    "- Beide Ansätze führen zum gleichen Ergebnis\n",
    "- Rekursion macht den Code kürzer und häufig besser verständlich (wenn man das Prinzip verstanden hat)\n",
    "- In der Regel ist Rekursion gleichschnell oder langsamer in der Ausführung\n",
    "\n",
    ">**»Mit Schleifen kann ein Leistungsschub für dein Programm erzielt werden. Mit der Rekursion kann ein Leistungsschub für deinen Programmierer erzielt werden. Wähle aus, was dir in deinem Fall wichtiger ist!«**"
   ]
  },
  {
   "cell_type": "markdown",
   "metadata": {
    "slideshow": {
     "slide_type": "slide"
    }
   },
   "source": [
    "# 2. Rekursive Funktionen: Basis- und Rekursionsfall"
   ]
  },
  {
   "cell_type": "markdown",
   "metadata": {
    "slideshow": {
     "slide_type": "slide"
    }
   },
   "source": [
    "## Was ist ein rekursiver Algorithmus?\n",
    "\n",
    "### Definition\n",
    "\n",
    "Rekursive Algorithmen nutzen Funktionen, die sich (rekursiv) selbst aufrufen.\n",
    "\n",
    "Damit sie nicht endlos laufen,\n",
    "- erfolgt der Selbstaufruf mit anderen Parametern (oftmals unter Vereinfachung / Reduzierung des verbleibenden Problems, z.B. wird nur noch eine Teilmenge einer Liste oder eine niedrigere Ebene einer Hierarchie betrachtet)\n",
    "- erfolgt nicht in jedem Aufruf ein neuer Selbstaufruf, sondern es muss ein **Basisfall** existieren (z.B. Schachtel ist leer / Schlüssel ist gefunden).\n",
    "\n",
    "- Rekursion bildet die Grundlage für viele wichtige Algorithmen, die wir noch kennenlernen werden!"
   ]
  },
  {
   "cell_type": "markdown",
   "metadata": {
    "slideshow": {
     "slide_type": "slide"
    }
   },
   "source": [
    "## Rekursionsfall und Basisfall\n",
    "\n",
    "Beim Aufruf einer rekursiven Funktion können zwei Dinge passieren:\n",
    "- **Rekursionsfall**: Die Funktion ruft sich nochmals auf, mit veränderten (reduzierten, vereinfachten) Parametern\n",
    "- **Basisfall**: Die Funktion ruft sich **nicht** nochmals auf, sondern gibt \"einfach\" einen Wert zurück\n",
    "\n",
    "- Man kann vereinfacht sagen, dass der **Rekursionsfall** auf den **Basisfall** hinarbeitet\n",
    "\n",
    "**Vorsicht:** Wenn der Basisfall fehlt, so kann es passieren, dass der Algorithmus endlos läuft!\n",
    "\n",
    "**Beispiel**: Countdown"
   ]
  },
  {
   "cell_type": "code",
   "execution_count": null,
   "metadata": {
    "slideshow": {
     "slide_type": "fragment"
    }
   },
   "outputs": [
    {
     "name": "stdout",
     "output_type": "stream",
     "text": [
      "5\n",
      "4\n",
      "3\n",
      "2\n",
      "1\n",
      "0\n",
      "-1\n",
      "-2\n",
      "-3\n",
      "-4\n",
      "-5\n",
      "-6\n",
      "-7\n",
      "-8\n",
      "-9\n",
      "-10\n",
      "-11\n",
      "-12\n",
      "-13\n",
      "-14\n",
      "-15\n",
      "-16\n",
      "-17\n",
      "-18\n",
      "-19\n",
      "-20\n",
      "-21\n",
      "-22\n",
      "-23\n",
      "-24\n",
      "-25\n",
      "-26\n",
      "-27\n",
      "-28\n",
      "-29\n",
      "-30\n",
      "-31\n",
      "-32\n",
      "-33\n",
      "-34\n",
      "-35\n",
      "-36\n",
      "-37\n",
      "-38\n",
      "-39\n",
      "-40\n",
      "-41\n",
      "-42\n",
      "-43\n",
      "-44\n",
      "-45\n",
      "-46\n",
      "-47\n",
      "-48\n",
      "-49\n",
      "-50\n",
      "-51\n",
      "-52\n",
      "-53\n",
      "-54\n",
      "-55\n",
      "-56\n",
      "-57\n",
      "-58\n",
      "-59\n",
      "-60\n",
      "-61\n",
      "-62\n",
      "-63\n",
      "-64\n",
      "-65\n",
      "-66\n",
      "-67\n",
      "-68\n",
      "-69\n",
      "-70\n",
      "-71\n",
      "-72\n",
      "-73\n"
     ]
    }
   ],
   "source": [
    "def countdown(i):\n",
    "    print(i)\n",
    "    time.sleep(1)     # Zur besseren Anschaulichkeit: Der pausiere 1 Sekunde\n",
    "    countdown(i-1)    # Hier wird die Funktion erneut aufgerufen --> Rekursionsfall\n",
    "    \n",
    "countdown(5)"
   ]
  },
  {
   "cell_type": "markdown",
   "metadata": {
    "slideshow": {
     "slide_type": "slide"
    }
   },
   "source": [
    "## Basis- und Rekursionsfall\n",
    "\n",
    "- Hier wurde kein Basisfall definiert\n",
    "- Der Algorithmus läuft endlos!\n",
    "\n",
    "<img src=\"./img/04_Endlosschleife.png\" width=\"40%\" align=\"middle\">"
   ]
  },
  {
   "cell_type": "markdown",
   "metadata": {
    "slideshow": {
     "slide_type": "fragment"
    }
   },
   "source": [
    "Hinzufügen des **Basisfalls**:"
   ]
  },
  {
   "cell_type": "code",
   "execution_count": 2,
   "metadata": {
    "slideshow": {
     "slide_type": "-"
    }
   },
   "outputs": [
    {
     "name": "stdout",
     "output_type": "stream",
     "text": [
      "5\n",
      "4\n",
      "3\n",
      "2\n",
      "1\n",
      "0\n",
      "Fertig\n"
     ]
    }
   ],
   "source": [
    "def countdown_mit_basisfall(i):\n",
    "    print(i)\n",
    "    time.sleep(1)       # Zur besseren Anschaulichkeit: Der pausiere 1 Sekunde\n",
    "    \n",
    "    if i==0:\n",
    "        print('Fertig')     # Hier steht die Abbruchbedingung --> Basisfall\n",
    "        return              # Hier steht die Abbruchbedingung --> Basisfall\n",
    "    else:\n",
    "        countdown_mit_basisfall(i-1)    # Hier wird die Funktion erneut aufgerufen --> Rekursionsfall\n",
    "    \n",
    "countdown_mit_basisfall(5)"
   ]
  },
  {
   "cell_type": "markdown",
   "metadata": {
    "slideshow": {
     "slide_type": "slide"
    }
   },
   "source": [
    "## Basis- und Rekursionsfall\n",
    "\n",
    "Jetzt sollte die Funktion so ablaufen:\n",
    "\n",
    "<img src=\"./img/05_Basisfall.png\" width=\"40%\" align=\"middle\">"
   ]
  },
  {
   "cell_type": "markdown",
   "metadata": {
    "slideshow": {
     "slide_type": "slide"
    }
   },
   "source": [
    "## Weiteres Beispiel: Ausgabe aller Dateien eines Orders und seiner Unterordner\n",
    "\n",
    "**Ziel**: Entwickeln einer Funktion, die  Dateien eines Ordners und aller seiner Unterordner (und deren Unterordner...) ausgibt"
   ]
  },
  {
   "cell_type": "markdown",
   "metadata": {
    "slideshow": {
     "slide_type": "-"
    }
   },
   "source": [
    "#### Beispielcode: Dateien und Unterordner des aktuellen Ordners anzeigen"
   ]
  },
  {
   "cell_type": "code",
   "execution_count": 4,
   "metadata": {
    "scrolled": true,
    "slideshow": {
     "slide_type": "-"
    }
   },
   "outputs": [
    {
     "data": {
      "text/plain": [
       "'.\\\\img'"
      ]
     },
     "execution_count": 4,
     "metadata": {},
     "output_type": "execute_result"
    }
   ],
   "source": [
    "import os # das müssen wir importieren\n",
    "\n",
    "path = \".\" # \".\" ist der aktuelle Ordner\n",
    "os.listdir(path)\n",
    "os.path.join(path, 'img')\n"
   ]
  },
  {
   "cell_type": "code",
   "execution_count": 5,
   "metadata": {
    "slideshow": {
     "slide_type": "-"
    }
   },
   "outputs": [
    {
     "name": "stdout",
     "output_type": "stream",
     "text": [
      "Ordner: .ipynb_checkpoints\n",
      "Ordnerpfad .\\.ipynb_checkpoints\n",
      "Datei: AuD_3_Rekursion.ipynb\n",
      "Ordner: img\n",
      "Ordnerpfad .\\img\n"
     ]
    }
   ],
   "source": [
    "for entry in os.listdir(path):  ##os.listdir(path) gibt einen Liste der Dateien und Ordner\n",
    "    if os.path.isfile(os.path.join(path, entry)): ## ist der aktuelle Eintrag eine Datei?\n",
    "        print(\"Datei:\" , entry)\n",
    "    else:\n",
    "        print(\"Ordner:\", entry)\n",
    "        print (\"Ordnerpfad\", os.path.join(path, entry))\n",
    "        "
   ]
  },
  {
   "cell_type": "markdown",
   "metadata": {
    "slideshow": {
     "slide_type": "slide"
    }
   },
   "source": [
    "## Weiteres Beispiel: Ausgabe aller Dateien eines Orders und seiner Unterordner\n",
    "\n",
    "#### Eine Funktion zum Anzeigen einer Liste mit allen Dateien in einem Ordner"
   ]
  },
  {
   "cell_type": "code",
   "execution_count": 15,
   "metadata": {
    "slideshow": {
     "slide_type": "-"
    }
   },
   "outputs": [
    {
     "name": "stdout",
     "output_type": "stream",
     "text": [
      "Aufruf für Ordner .\n",
      "Aufruf für Ordner .\\.ipynb_checkpoints\n",
      "Aufruf für Ordner .\\img\n",
      "Aufruf für Ordner .\\img\\Test\n"
     ]
    },
    {
     "data": {
      "text/plain": [
       "['AuD_3_Rekursion-checkpoint.ipynb',\n",
       " 'AuD_3_Rekursion.ipynb',\n",
       " '01_Schachtel.png',\n",
       " '02_Alg_iterativ.png',\n",
       " '03_Alg_rekursiv.png',\n",
       " '04_Endlosschleife.png',\n",
       " '05_Basisfall.png',\n",
       " '06_push_pop.png',\n",
       " '07_Aufgabenstack.png',\n",
       " '08_Call_1.png',\n",
       " '09_Call_2.png',\n",
       " '10_Call_3.png',\n",
       " '11_Call_4.png',\n",
       " '12_Call_5.png',\n",
       " '13_Call_6.png',\n",
       " '14_Call_rekursiv.png',\n",
       " '15_Call_rekursiv_2.png',\n",
       " '16_Call_rekursiv_3.png',\n",
       " '17_Call_rekursiv_4.png',\n",
       " '18_Stapel_Schachteln.png',\n",
       " '19_Rekursiv_Schachteln.png',\n",
       " '20_Callstack_rek_Schachteln.png',\n",
       " 'decision_analytics_logo.png',\n",
       " 'logo_wiwi.png',\n",
       " 'test.png']"
      ]
     },
     "execution_count": 15,
     "metadata": {},
     "output_type": "execute_result"
    }
   ],
   "source": [
    "def dateiliste(path):\n",
    "    \n",
    "    print (\"Aufruf für Ordner\", path)\n",
    "    \n",
    "    dateien = []\n",
    "    \n",
    "    for entry in os.listdir(path):  ##os.listdir(path) gibt einen Liste der Dateien und Ordner\n",
    "        if os.path.isfile(os.path.join(path, entry)): ## ist der aktuelle Eintrag eine Datei?\n",
    "            dateien.append(entry)   ## Basisfall - kein rekursiver Aufrund\n",
    "        else:  # anderer Fall: entry ist ein Ordner (Unterordner)\n",
    "            dateien += dateiliste(os.path.join(path, entry))   # Rekursionsfall: rekursiver Aufruf der Funktion Dateiliste für den Unterordner\n",
    "        \n",
    "            \n",
    "    return dateien\n",
    "\n",
    "aktueller_ordner = \".\"\n",
    "ergebnisliste = dateiliste(aktueller_ordner)\n",
    "ergebnisliste"
   ]
  },
  {
   "cell_type": "markdown",
   "metadata": {
    "slideshow": {
     "slide_type": "fragment"
    }
   },
   "source": [
    "><div class=\"alert alert-block alert-info\">\n",
    "<b>Ändern Sie diese Funktion so, dass sie rekursiv auch die Namen der Dateien in allen Unterordnern (und deren Unterordnern...) des Orders anhängt!</b></div>\n",
    "\n",
    "\n",
    "><div class=\"alert alert-block alert-info\">\n",
    "<b>Was ist der Basisfall, was der Rekursionsfall?</b></div>\n",
    "\n",
    "\n",
    "**Hinweis:** Anhängen einer neuen Liste an eine bestehende Liste kann man mit der Funktion `extend` oder mit dem Operator `+=`\n"
   ]
  },
  {
   "cell_type": "code",
   "execution_count": 16,
   "metadata": {},
   "outputs": [
    {
     "data": {
      "text/plain": [
       "[1, 4, 5, 2, 8, 9]"
      ]
     },
     "execution_count": 16,
     "metadata": {},
     "output_type": "execute_result"
    }
   ],
   "source": [
    "# Pfad des Unterordners bekommen: os.path.join(path, entry)\n",
    "\n",
    "liste_1 = [1, 4, 5]\n",
    "liste_2 = [2, 8, 9]\n",
    "\n",
    "liste_1 += liste_2 \n",
    "liste_1"
   ]
  },
  {
   "cell_type": "markdown",
   "metadata": {
    "slideshow": {
     "slide_type": "slide"
    }
   },
   "source": [
    "# 3. Die Datenstruktur Stack"
   ]
  },
  {
   "cell_type": "markdown",
   "metadata": {
    "slideshow": {
     "slide_type": "slide"
    }
   },
   "source": [
    "## Stack\n",
    "\n",
    "Stacks sind abstrakte Datentypen, die Listen-ähnlich sind, aber mit eingeschränkten Funktionen:\n",
    "- Vergleichbar mit einem Stapel von Zetteln\n",
    "- Man kann nur auf das oberste Element zugreifen\n",
    "- Hinzugefügte Elemente werden oben auf den Stapel gelegt\n",
    "- Die Funktionen **push** und **pop** fügen ein Element hinzu bzw. entfernen es\n",
    "\n",
    "<img src=\"./img/06_push_pop.png\" width=\"40%\" align=\"middle\">"
   ]
  },
  {
   "cell_type": "markdown",
   "metadata": {
    "slideshow": {
     "slide_type": "slide"
    }
   },
   "source": [
    "## Stack\n",
    "### Beispiel: Aufgabenliste\n",
    "\n",
    "Eine vereinfachte Aufgabenliste lässt sich als Stack darstellen:\n",
    "\n",
    "<img src=\"./img/07_Aufgabenstack.png\" width=\"60%\" align=\"middle\">\n",
    "\n",
    "- Aufgaben können hinzugefügt und herausgenommen werden\n",
    "- Keine Entscheidungsfreiheit in der Reihenfolge des Herausnehmens\n",
    "- Es ist jeweils nur die oberste Aufgabe (also die neuste hinzugefügte die noch nicht abgearbeitet wurde) sichtbar\n",
    "- Unten eingeordnete Aufgaben müssen ggf. länger auf ihre Bearbeitung warten\n",
    "\n",
    "$\\rightarrow$ Das Konzept von Stacks wird bei der Nutzung des Call-Stacks für Rekursion wichtig."
   ]
  },
  {
   "cell_type": "markdown",
   "metadata": {
    "slideshow": {
     "slide_type": "slide"
    }
   },
   "source": [
    "# 4. Wie verarbeitet der Computer Rekursion? Der Call Stack"
   ]
  },
  {
   "cell_type": "markdown",
   "metadata": {
    "slideshow": {
     "slide_type": "slide"
    }
   },
   "source": [
    "## Call Stack\n",
    "\n",
    "Der Call Stack eines Computers ist dafür verantwortlich, die Aufgaben nacheinander abzuarbeiten.\n",
    "- Jeder Befehl von einem Programm wird oben auf den Call Stack gelegt\n",
    "- Der Stack arbeitet diese Aufgaben nacheinander von oben nach unten ab\n",
    "- Wenn durch die Bearbeitung einer Aufgabe eine neue hinzukommt, wird diese oben auf den Stack gelegt und als nächstes ausgeführt"
   ]
  },
  {
   "cell_type": "markdown",
   "metadata": {
    "slideshow": {
     "slide_type": "slide"
    }
   },
   "source": [
    "## Call-Stack\n",
    "\n",
    "### Beispiel Begrüßung\n",
    "\n",
    "Funktion zum Begrüßen:"
   ]
  },
  {
   "cell_type": "code",
   "execution_count": 18,
   "metadata": {
    "slideshow": {
     "slide_type": "-"
    }
   },
   "outputs": [],
   "source": [
    "def greet(name):\n",
    "    print(\"Hallo, \"+ name +\"!\")\n",
    "    greet2(name)\n",
    "    print(\"Gleich sage ich Tschüs ...\")\n",
    "    bye()"
   ]
  },
  {
   "cell_type": "markdown",
   "metadata": {
    "slideshow": {
     "slide_type": "-"
    }
   },
   "source": [
    "Die von `greet` aufgerufenen Funktionen sind hier definiert:"
   ]
  },
  {
   "cell_type": "code",
   "execution_count": 19,
   "metadata": {
    "slideshow": {
     "slide_type": "-"
    }
   },
   "outputs": [],
   "source": [
    "def greet2(name):\n",
    "    print(\"Wie geht es dir, \" + name+ \"?\")\n",
    "    \n",
    "def bye():\n",
    "    print(\"Tschüs!\")"
   ]
  },
  {
   "cell_type": "markdown",
   "metadata": {
    "slideshow": {
     "slide_type": "-"
    }
   },
   "source": [
    "><div class=\"alert alert-block alert-info\">\n",
    "<b>In welcher Reihenfolge werden die Befehle ausgeführt?</b></div>"
   ]
  },
  {
   "cell_type": "code",
   "execution_count": 20,
   "metadata": {
    "slideshow": {
     "slide_type": "fragment"
    }
   },
   "outputs": [
    {
     "name": "stdout",
     "output_type": "stream",
     "text": [
      "Hallo, Jakob!\n",
      "Wie geht es dir, Jakob?\n",
      "Gleich sage ich Tschüs ...\n",
      "Tschüs!\n"
     ]
    }
   ],
   "source": [
    "greet(\"Jakob\")"
   ]
  },
  {
   "cell_type": "markdown",
   "metadata": {
    "cell_style": "center",
    "slideshow": {
     "slide_type": "slide"
    }
   },
   "source": [
    "## Beispiel Begrüßung: Der Call Stack\n",
    "\n",
    "Wie werden diese Funktionen intern verarbeitet?\n",
    "\n",
    "1. Aufruf von ***greet(\"Maggie\")*** erfolgt"
   ]
  },
  {
   "cell_type": "markdown",
   "metadata": {
    "cell_style": "center",
    "slideshow": {
     "slide_type": "fragment"
    }
   },
   "source": [
    "2. Reservierung von Speicher für den Funktionsaufruf...\n",
    "\n",
    "<img src=\"./img/08_Call_1.png\" width=\"30%\" align=\"middle\">"
   ]
  },
  {
   "cell_type": "markdown",
   "metadata": {
    "cell_style": "center",
    "slideshow": {
     "slide_type": "fragment"
    }
   },
   "source": [
    "... und Nutzung des Speichers. Variable **`name`** hat den Wert `Maggie``\n",
    "\n",
    "<img src=\"./img/09_Call_2.png\" width=\"30%\" align=\"middle\">"
   ]
  },
  {
   "cell_type": "markdown",
   "metadata": {
    "slideshow": {
     "slide_type": "slide"
    }
   },
   "source": [
    "## Beispiel Begrüßung: Der Call Stack\n",
    "\n",
    "3. \"Hallo Maggie\" wird ausgegeben\n",
    "4. Die Funktion ***greet2(\"Maggie\")*** wird aufgerufen\n",
    "5. Ein neuer Speicherbereich für diesen Aufruf wird reserviert und zum Aufgaben-Stack (\"Call Stack\") hinzugefügt\n",
    "\n",
    "<img src=\"./img/10_Call_3.png\" width=\"30%\" align=\"middle\">\n",
    "\n",
    "6. Nun wird von oben nach unten abgearbeitet. Oben ist ***greet2(\"Maggie\")***, deshalb wird von dieser Funktion \"Wie geht es dir, Maggie?\" ausgegeben"
   ]
  },
  {
   "cell_type": "markdown",
   "metadata": {
    "slideshow": {
     "slide_type": "slide"
    }
   },
   "source": [
    "## Beispiel Begrüßung: Der Call Stack\n",
    "7. Nach der Ausgabe ist ***greet2(\"Maggie\")*** abgeschlossen, deshalb wird der entsprechende Speicherbereich vom Stack entfernt\n",
    "\n",
    "<img src=\"./img/11_Call_4.png\" width=\"30%\" align=\"middle\">\n",
    "\n",
    "8. Der oberste Block auf dem Call Stack ist jetzt wieder die ursprüngliche Funktion, die durch Ausgabe von \"Gleich sage ich Tschüs ...\" fortgesetzt wird.\n",
    "\n",
    "**$\\rightarrow$ Wenn eine Funktion aus einer anderen heraus aufgerufen wird, wird sie pausiert bis die neue Funktion abgeschlossen ist**\n"
   ]
  },
  {
   "cell_type": "markdown",
   "metadata": {
    "slideshow": {
     "slide_type": "slide"
    }
   },
   "source": [
    "## Beispiel Begrüßung: Der Call Stack"
   ]
  },
  {
   "cell_type": "markdown",
   "metadata": {
    "cell_style": "center",
    "slideshow": {
     "slide_type": "fragment"
    }
   },
   "source": [
    "9. Dann wird die Funktion **`bye()`** aufgerufen und dem Call Stack hinzugefügt\n",
    "\n",
    "<img src=\"./img/12_Call_5.png\" width=\"20%\" align=\"middle\">"
   ]
  },
  {
   "cell_type": "markdown",
   "metadata": {
    "cell_style": "center",
    "slideshow": {
     "slide_type": "fragment"
    }
   },
   "source": [
    "10. `\"Tschüs!\"` wird ausgegeben\n",
    "11. **`bye()`** ist abgeschlossen und wird entfernt\n",
    "\n",
    "<img src=\"./img/13_Call_6.png\" width=\"20%\" align=\"middle\">"
   ]
  },
  {
   "cell_type": "markdown",
   "metadata": {
    "slideshow": {
     "slide_type": "fragment"
    }
   },
   "source": [
    "12. Die **`greet(\"Maggie\")`** Funktion ist damit auch abgeschlossen und wird aus dem Speicher entfernt"
   ]
  },
  {
   "cell_type": "markdown",
   "metadata": {
    "slideshow": {
     "slide_type": "slide"
    }
   },
   "source": [
    "## Call Stack bei rekursiven Funktionen\n",
    "\n",
    "#### Beispiel: Fakultät!\n",
    "\n",
    "- Fakultät einer natürlichen Zahl (geschrieben: $n!$) ist definiert als das Produkt dieser und aller kleineren natürlichen Zahlen\n",
    "- $n! = n \\cdot (n-1) \\cdot (n-2) \\cdot ... \\cdot 3 \\cdot 2 \\cdot 1$\n",
    "- Lässt sich iterativ oder rekursiv implementieren\n",
    "- Für uns ist eine rekursive Implementierung interessant\n",
    "  - Idee: $n! = n \\cdot (n-1)!$"
   ]
  },
  {
   "cell_type": "code",
   "execution_count": 21,
   "metadata": {
    "slideshow": {
     "slide_type": "fragment"
    }
   },
   "outputs": [],
   "source": [
    "def fact(x):\n",
    "    if x <= 1:      #Bedingung für den Basisfall (Fakultät von 1)\n",
    "        return 1       #Fakultät der Zahl 1 ist 1\n",
    "    else:           #Sonst tritt der Rekursionsfall ein\n",
    "        return x * fact(x-1)    #Zurückgegeben wird die Zahl * Fakultät von Zahl-1"
   ]
  },
  {
   "cell_type": "markdown",
   "metadata": {
    "slideshow": {
     "slide_type": "slide"
    }
   },
   "source": [
    "## Call Stack bei rekursiven Funktionen\n",
    "\n",
    "#### Beispiel: Fakultät!  Schritte Teil 1\n",
    "\n",
    "- Für das Beispiel fact(3) Schritt für Schritt Ansicht des Call-Stacks\n",
    "- Erinnerung: oben auf dem Stack ist der grade ausgeführte Aufruf der Funktion\n",
    "- Die Werte für die Variable x sind nur innerhalb eines Funktionsaufrufs gültig\n",
    "\n",
    "<img src=\"./img/14_Call_rekursiv.png\" width=\"80%\" align=\"middle\">"
   ]
  },
  {
   "cell_type": "markdown",
   "metadata": {
    "slideshow": {
     "slide_type": "slide"
    }
   },
   "source": [
    "## Call Stack bei rekursiven Funktionen\n",
    "\n",
    "#### Beispiel: Fakultät! Schritte Teil 2\n",
    "\n",
    "<img src=\"./img/15_Call_rekursiv_2.png\" width=\"80%\" align=\"middle\">"
   ]
  },
  {
   "cell_type": "markdown",
   "metadata": {
    "slideshow": {
     "slide_type": "fragment"
    }
   },
   "source": [
    "><div class=\"alert alert-block alert-info\">\n",
    "<b>Was passiert als nächstes?</b></div>"
   ]
  },
  {
   "cell_type": "markdown",
   "metadata": {
    "slideshow": {
     "slide_type": "slide"
    }
   },
   "source": [
    "## Call Stack bei rekursiven Funktionen\n",
    "\n",
    "#### Beispiel: Fakultät! Schritte Teil 3\n",
    "\n",
    "<img src=\"./img/16_Call_rekursiv_3.png\" width=\"80%\" align=\"middle\">"
   ]
  },
  {
   "cell_type": "markdown",
   "metadata": {
    "slideshow": {
     "slide_type": "slide"
    }
   },
   "source": [
    "## Call Stack bei rekursiven Funktionen\n",
    "\n",
    "#### Beispiel: Fakultät! Schritte Teil 4\n",
    "\n",
    "<img src=\"./img/17_Call_rekursiv_4.png\" width=\"80%\" align=\"middle\">"
   ]
  },
  {
   "cell_type": "markdown",
   "metadata": {
    "slideshow": {
     "slide_type": "slide"
    }
   },
   "source": [
    "## Visualisieren des Call Stack mit `pythontutor.com`\n",
    "\n",
    "Betrachten wir noch einmal die Funktion zur Berechnung der Fakultät:"
   ]
  },
  {
   "cell_type": "code",
   "execution_count": 22,
   "metadata": {
    "slideshow": {
     "slide_type": "-"
    }
   },
   "outputs": [
    {
     "data": {
      "text/plain": [
       "720"
      ]
     },
     "execution_count": 22,
     "metadata": {},
     "output_type": "execute_result"
    }
   ],
   "source": [
    "def fact(x):\n",
    "    if x == 1:      #Bedingung für den Basisfall (Fakultät von 1)\n",
    "        return 1       #Fakultät der Zahl 1 ist 1\n",
    "    else:           #Sonst tritt der Rekursionsfall ein\n",
    "        return x * fact(x-1)    #Zurückgegeben wird die Zahl * Fakultät von Zahl-1\n",
    "fact(6)"
   ]
  },
  {
   "cell_type": "markdown",
   "metadata": {
    "slideshow": {
     "slide_type": "-"
    }
   },
   "source": [
    "Wir können den Call Stack sehr schön veranschaulichen im **[Python-Tutor](https://pythontutor.com/visualize.html#code=def%20fact%28x%29%3A%0A%20%20%20%20if%20x%20%3D%3D%201%3A%20%20%20%20%20%20%23Bedingung%20f%C3%BCr%20den%20Basisfall%20%28Fakult%C3%A4t%20von%201%29%0A%20%20%20%20%20%20%20%20return%201%20%20%20%20%20%20%20%23Fakult%C3%A4t%20der%20Zahl%201%20ist%201%0A%20%20%20%20else%3A%20%20%20%20%20%20%20%20%20%20%20%23Sonst%20tritt%20der%20Rekursionsfall%20ein%0A%20%20%20%20%20%20%20%20return%20x%20*%20fact%28x-1%29%20%20%20%20%23Zur%C3%BCckgegeben%20wird%20die%20Zahl%20*%20Fakult%C3%A4t%20von%20Zahl-1%0A%20%20%20%20%20%20%20%20%0Afact%286%29&cumulative=false&curInstr=0&heapPrimitives=nevernest&mode=display&origin=opt-frontend.js&py=3&rawInputLstJSON=%5B%5D&textReferences=false)**!\n"
   ]
  },
  {
   "cell_type": "markdown",
   "metadata": {
    "slideshow": {
     "slide_type": "slide"
    }
   },
   "source": [
    "## Iterative Implementierung der Fakultätsfunktion:\n",
    "\n",
    "Natürlich können wir eine Fakultätsfunktion auch iterativ implementieren:"
   ]
  },
  {
   "cell_type": "code",
   "execution_count": 27,
   "metadata": {
    "slideshow": {
     "slide_type": "-"
    }
   },
   "outputs": [
    {
     "data": {
      "text/plain": [
       "720"
      ]
     },
     "execution_count": 27,
     "metadata": {},
     "output_type": "execute_result"
    }
   ],
   "source": [
    "def fact_iterativ(x):    \n",
    "    wert = 1 # initialisieren des werts\n",
    "    for i in range(2,x+1): # Werte von 2..x\n",
    "        wert = wert * i\n",
    "    return wert\n",
    "\n",
    "fact_iterativ(6)"
   ]
  },
  {
   "cell_type": "markdown",
   "metadata": {
    "slideshow": {
     "slide_type": "-"
    }
   },
   "source": [
    "Auch hier können wir zum Vergleich den Call Stack sehr schön veranschaulichen im [Python-Tutor](https://pythontutor.com/visualize.html#code=def%20fact_iterativ%28x%29%3A%20%20%20%20%0A%20%20%20%20wert%20%3D%201%20%23%20initialisieren%20des%20werts%0A%20%20%20%20for%20i%20in%20range%282,x%2B1%29%3A%20%23%20Werte%20von%202..x%0A%20%20%20%20%20%20%20%20wert%20%3D%20wert%20*%20i%0A%20%20%20%20return%20wert%0A%20%20%20%20%0Afact_iterativ%286%29&cumulative=false&curInstr=0&heapPrimitives=nevernest&mode=display&origin=opt-frontend.js&py=3&rawInputLstJSON=%5B%5D&textReferences=false)"
   ]
  },
  {
   "cell_type": "markdown",
   "metadata": {
    "cell_style": "center",
    "slideshow": {
     "slide_type": "slide"
    }
   },
   "source": [
    "## Schachtelbeispiel: Iterativ vs Rekursiv"
   ]
  },
  {
   "cell_type": "markdown",
   "metadata": {
    "cell_style": "center",
    "slideshow": {
     "slide_type": "-"
    }
   },
   "source": [
    "#### Iterativer Ansatz\n",
    "\n",
    "<img src=\"./img/02_Alg_iterativ.png\" width=\"25%\" align=\"middle\">"
   ]
  },
  {
   "cell_type": "markdown",
   "metadata": {
    "cell_style": "center",
    "slideshow": {
     "slide_type": "fragment"
    }
   },
   "source": [
    "Beim iterativen Vorgehen müssen wir explizit die zu durchsuchenden Schachteln in speichern, z.B. in einem Stack oder einer Liste:\n",
    "\n",
    "<img src=\"./img/18_Stapel_Schachteln.png\" width=\"25%\" align=\"middle\">"
   ]
  },
  {
   "cell_type": "markdown",
   "metadata": {
    "cell_style": "center",
    "slideshow": {
     "slide_type": "slide"
    }
   },
   "source": [
    "## Schachtelbeispiel: Iterativ vs Rekursiv\n",
    "\n",
    "\n",
    "##### Rekursiver Ansatz\n",
    "\n",
    "<img src=\"./img/03_Alg_rekursiv.png\" width=\"30%\" align=\"middle\">\n",
    "\n",
    "- Zu durchsuchender Stapel / Liste wird nicht explizit definiert?\n",
    "\n",
    "><div class=\"alert alert-block alert-info\">\n",
    "<b>Wie wird festgehalten, welche Schachteln noch durchsucht werden müssen?</b></div>"
   ]
  },
  {
   "cell_type": "markdown",
   "metadata": {
    "cell_style": "center",
    "slideshow": {
     "slide_type": "slide"
    }
   },
   "source": [
    "## Schachtelbeispiel: Iterativ vs Rekursiv"
   ]
  },
  {
   "cell_type": "markdown",
   "metadata": {
    "cell_style": "center",
    "slideshow": {
     "slide_type": "-"
    }
   },
   "source": [
    "#### Rekursiver Ansatz\n",
    "\n",
    "- Antwort: Informationen über noch zu durchsuchende Schachteln sind **implizit** durch den Call-Stack gegeben\n",
    "\n",
    "\n",
    "<img src=\"./img/19_Rekursiv_Schachteln.png\" width=\"30%\" align=\"middle\">"
   ]
  },
  {
   "cell_type": "markdown",
   "metadata": {
    "cell_style": "center",
    "slideshow": {
     "slide_type": "fragment"
    }
   },
   "source": [
    "- So sieht der Call Stack aus:\n",
    "\n",
    "<img src=\"./img/20_Callstack_rek_Schachteln.png\" width=\"20%\" align=\"middle\">\n",
    "\n"
   ]
  },
  {
   "cell_type": "markdown",
   "metadata": {
    "slideshow": {
     "slide_type": "slide"
    }
   },
   "source": [
    "## Vorsicht bei Rekursion:\n",
    "\n",
    "- für jeden einzelnen Aufruf wird Speicher auf dem (Call) Stack belegt!\n",
    "- dies kann bei komplexen rekursiven Funktionen bzw. bei sehr vielen Aufrufen zu einem **Überlauf** des Arbeitsspeichers (**stack overflow**) führen\n",
    "- bei derartigen Problemen auf iterative Implementierung umsteigen (dies ist immer möglich, wenn auch nicht immer so elegant wie Rekursion)\n",
    "\n",
    "- manche Programmiersprachen (Python nicht) unterstützen die so genannte **Endrekursion (tail recursion)** bei der bestimmter rekursiver Code automatisch so transformiert wird, dass nicht für jeden Aufruf neuer Speicher verwendet wird"
   ]
  },
  {
   "cell_type": "markdown",
   "metadata": {
    "slideshow": {
     "slide_type": "slide"
    }
   },
   "source": [
    "## Übung: Binäre Suche rekursiv"
   ]
  },
  {
   "cell_type": "markdown",
   "metadata": {
    "slideshow": {
     "slide_type": "-"
    }
   },
   "source": [
    "Wir haben in Teil 1 die **binäre Suche** kennengelernt, die wir so implemeniert haben:"
   ]
  },
  {
   "cell_type": "code",
   "execution_count": 28,
   "metadata": {
    "slideshow": {
     "slide_type": "-"
    }
   },
   "outputs": [],
   "source": [
    "def binary_search(liste, wert):\n",
    "    low = 0\n",
    "    high = len(liste)-1    \n",
    "    while low <= high:\n",
    "        mid = (low+high) // 2 # // bedeutet, dass wir eine ganze Zahl bekommen (z.B. 2), und keine Dezimalzahl (z.B. 2.5)\n",
    "        guess = liste[mid]\n",
    "        if guess == wert:\n",
    "            print (\"Wert\", guess, \"wurde gefunden bei Index\", mid)\n",
    "            return mid\n",
    "        if guess > wert:\n",
    "            high = mid - 1\n",
    "        else: \n",
    "            low = mid + 1\n",
    "    print(\"Wert wurde nicht gefunden!\")\n",
    "    return None"
   ]
  },
  {
   "cell_type": "markdown",
   "metadata": {
    "slideshow": {
     "slide_type": "slide"
    }
   },
   "source": [
    "><div class=\"alert alert-block alert-info\">\n",
    "<b>Wie kann man die binäre Suche rekursiv implementieren?</b></div>"
   ]
  },
  {
   "cell_type": "markdown",
   "metadata": {
    "slideshow": {
     "slide_type": "fragment"
    }
   },
   "source": [
    "**Tipp:** Nutzen Sie den folgenden Funktionskopf:"
   ]
  },
  {
   "cell_type": "code",
   "execution_count": 5,
   "metadata": {
    "slideshow": {
     "slide_type": "-"
    }
   },
   "outputs": [],
   "source": [
    "def binary_search_recursive(liste, low, high, wert):\n",
    "\n",
    "    return"
   ]
  },
  {
   "cell_type": "code",
   "execution_count": 6,
   "metadata": {},
   "outputs": [],
   "source": [
    "liste = [11, 13, 15, 19]\n",
    "binary_search_recursive(liste, 0, len(liste)-1, 19)"
   ]
  },
  {
   "cell_type": "markdown",
   "metadata": {
    "slideshow": {
     "slide_type": "slide"
    }
   },
   "source": [
    "## Zusammenfassung\n",
    "\n",
    "- rekursive Algorithmen können sehr elegante Lösungen bieten\n",
    "- rekursive Funktionen rufen sich selbst auf\n",
    "- sie bestehen aus Basis- und Rekursionsfall\n",
    "- Stacks sind einfache aber wichtige Datenstruktur mit nur zwei Operationen: *push* und *pop*\n",
    "- alle Funktionsaufrufe werden auf dem Call Stack gespeichert\n",
    "  - Rekursion kann u.U. zu sehr großen Call Stacks führen\n",
    "  - Rekursive Algorithmen können in iterative Algorithmen überführt werden\n",
    "  \n",
    "#### In der nächsten Woche:\n",
    "- werden wir mit Quicksort einen wichtigen und effizienten Sortieralgorithmus kennenlernen, der auf Rekursion basiert"
   ]
  }
 ],
 "metadata": {
  "celltoolbar": "Slideshow",
  "kernelspec": {
   "display_name": "Python [conda env:audprojekt2022]",
   "language": "python",
   "name": "conda-env-audprojekt2022-py"
  },
  "language_info": {
   "codemirror_mode": {
    "name": "ipython",
    "version": 3
   },
   "file_extension": ".py",
   "mimetype": "text/x-python",
   "name": "python",
   "nbconvert_exporter": "python",
   "pygments_lexer": "ipython3",
   "version": "3.9.12"
  },
  "toc": {
   "base_numbering": 1,
   "nav_menu": {},
   "number_sections": false,
   "sideBar": true,
   "skip_h1_title": false,
   "title_cell": "Table of Contents",
   "title_sidebar": "Contents",
   "toc_cell": false,
   "toc_position": {},
   "toc_section_display": true,
   "toc_window_display": false
  },
  "varInspector": {
   "cols": {
    "lenName": 16,
    "lenType": 16,
    "lenVar": 40
   },
   "kernels_config": {
    "python": {
     "delete_cmd_postfix": "",
     "delete_cmd_prefix": "del ",
     "library": "var_list.py",
     "varRefreshCmd": "print(var_dic_list())"
    },
    "r": {
     "delete_cmd_postfix": ") ",
     "delete_cmd_prefix": "rm(",
     "library": "var_list.r",
     "varRefreshCmd": "cat(var_dic_list()) "
    }
   },
   "types_to_exclude": [
    "module",
    "function",
    "builtin_function_or_method",
    "instance",
    "_Feature"
   ],
   "window_display": false
  }
 },
 "nbformat": 4,
 "nbformat_minor": 2
}
